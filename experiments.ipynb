{
  "cells": [
    {
      "cell_type": "markdown",
      "metadata": {
        "id": "5IX5AzyVmJmh"
      },
      "source": [
        "# Benchmarking RL methods to solve BlackJack\n"
      ]
    },
    {
      "cell_type": "markdown",
      "metadata": {
        "id": "S6HQNwj2mRKL"
      },
      "source": [
        "Thomas Lemercier & Gaspard Berthelier"
      ]
    },
    {
      "cell_type": "markdown",
      "metadata": {
        "id": "EbUr9u7-mTHs"
      },
      "source": [
        "## Imports"
      ]
    },
    {
      "cell_type": "code",
      "execution_count": 1,
      "metadata": {
        "colab": {
          "base_uri": "https://localhost:8080/"
        },
        "id": "WtHOWPSYmsqH",
        "outputId": "c9cc75c0-af3c-4167-f055-e3b13d60a76b"
      },
      "outputs": [
        {
          "output_type": "stream",
          "name": "stdout",
          "text": [
            "Drive already mounted at /content/drive; to attempt to forcibly remount, call drive.mount(\"/content/drive\", force_remount=True).\n",
            "/content/drive/MyDrive/RL/blackjack\n"
          ]
        }
      ],
      "source": [
        "from google.colab import drive\n",
        "drive.mount(\"/content/drive\")\n",
        "%cd /content/drive/MyDrive/RL/blackjack"
      ]
    },
    {
      "cell_type": "code",
      "execution_count": 2,
      "metadata": {
        "id": "xLiubk8DOCKa"
      },
      "outputs": [],
      "source": [
        "import gym\n",
        "import time\n",
        "from tqdm import tqdm\n",
        "import numpy as np"
      ]
    },
    {
      "cell_type": "code",
      "execution_count": 47,
      "metadata": {
        "id": "xz1mM5hjSX9Z"
      },
      "outputs": [],
      "source": [
        "from src.utils.general import state_to_index, get_num_states, state_to_tensor_encoding\n",
        "from src.utils.data_struct import Transition\n",
        "from src.agents import Agent\n",
        "from src.utils.visualization import plot_policy_simple_blackjack\n",
        "\n",
        "\n",
        "def play_episode(env: gym.Env, agent: Agent, render: bool = False, array_encoding: bool = False):\n",
        "    \"\"\"plays one episode of given agent\"\"\"\n",
        "    state = env.reset()\n",
        "    if render:\n",
        "        env.render()\n",
        "    if array_encoding:\n",
        "        state = state_to_tensor_encoding(state, env.observation_space)\n",
        "    else:\n",
        "        state = state_to_index(state, env.observation_space)\n",
        "    terminated = False\n",
        "    while not terminated:\n",
        "        action = agent.get_best_action(state)\n",
        "        next_state, reward, terminated, _, _ = env.step(action)\n",
        "        if render:\n",
        "            env.render()\n",
        "        if array_encoding:\n",
        "            next_state = state_to_tensor_encoding(next_state, env.observation_space)\n",
        "        else:\n",
        "            next_state = state_to_index(next_state, env.observation_space)\n",
        "        state = next_state\n",
        "    return reward"
      ]
    },
    {
      "cell_type": "code",
      "execution_count": 48,
      "metadata": {
        "id": "7_wi1CGbaXYs"
      },
      "outputs": [],
      "source": [
        "def play_policy(env: gym.Env, agent: Agent, n_test_episodes: int,  array_encoding: bool = False):\n",
        "  \"\"\"test the agent's policy on multiple episodes, prints the last one\"\"\"\n",
        "  rewards = [play_episode(env, agent, render= i == n_test_episodes-1, array_encoding=array_encoding) for i in range(n_test_episodes)]\n",
        "  rewards = np.array(rewards)\n",
        "  n_wins = np.sum(rewards == 1)\n",
        "  n_draws = np.sum(rewards == 0)\n",
        "  print(f\"Win rate: {n_wins / n_test_episodes:.4f}\")\n",
        "  print(f\"Draw rate: {n_draws / n_test_episodes:.4f}\")"
      ]
    },
    {
      "cell_type": "code",
      "execution_count": 5,
      "metadata": {
        "id": "C1bhUODb1ila"
      },
      "outputs": [],
      "source": [
        "n_episodes = 500_000\n",
        "n_test_episodes = 100_000"
      ]
    },
    {
      "cell_type": "markdown",
      "metadata": {
        "id": "mEW-HDRRNspy"
      },
      "source": [
        "## Infinite Deck"
      ]
    },
    {
      "cell_type": "markdown",
      "metadata": {
        "id": "Eat3HW85vqjI"
      },
      "source": [
        "Infinite deck, aka probabilities of drawing each card remains constant"
      ]
    },
    {
      "cell_type": "code",
      "execution_count": 6,
      "metadata": {
        "id": "uWjp0tF0P8Qr"
      },
      "outputs": [],
      "source": [
        "from src.envs import InfiniteSimpleBlackjack\n",
        "env = InfiniteSimpleBlackjack(seed=42)"
      ]
    },
    {
      "cell_type": "markdown",
      "metadata": {
        "id": "z2iNpf3mN788"
      },
      "source": [
        "### Random"
      ]
    },
    {
      "cell_type": "markdown",
      "metadata": {
        "id": "hr0AXicDvuKs"
      },
      "source": [
        "Random agent which takes action randomly at each step"
      ]
    },
    {
      "cell_type": "code",
      "execution_count": 7,
      "metadata": {
        "id": "waKQO4rJWOpU",
        "colab": {
          "base_uri": "https://localhost:8080/"
        },
        "outputId": "caf1cb36-c66e-4d47-e3a8-d40ad3a30cfd"
      },
      "outputs": [
        {
          "output_type": "stream",
          "name": "stdout",
          "text": [
            "\n",
            "Player's hand: [9, 10] (value: 19)\n",
            "Dealer's hand: [8, 10] (value: 18)\n",
            "Current state: [19  8  0]\n",
            "\n",
            "\n",
            "Player's hand: [9, 10] (value: 19)\n",
            "Dealer's hand: [8, 10] (value: 18)\n",
            "Current state: [19  8  0]\n",
            "\n",
            "Win rate: 0.2794\n",
            "Draw rate: 0.0426\n"
          ]
        }
      ],
      "source": [
        "from src.agents import RandomAgent\n",
        "\n",
        "agent = RandomAgent(env.action_space)\n",
        "play_policy(env, agent, n_test_episodes, False)"
      ]
    },
    {
      "cell_type": "markdown",
      "metadata": {
        "id": "3FApiNG6N1h5"
      },
      "source": [
        "### Sarsa"
      ]
    },
    {
      "cell_type": "code",
      "execution_count": 8,
      "metadata": {
        "id": "ldaEeJFt1ile"
      },
      "outputs": [],
      "source": [
        "from src.explorations import EpsilonGreedy, UCB\n",
        "from src.utils.data_struct import SarsaParameters\n",
        "from src.agents import SarsaAgent\n",
        "\n",
        "def main_sarsa(env: gym.Env, agent: SarsaAgent, n_episodes: int):\n",
        "    start = time.time()\n",
        "    n_wins = 0\n",
        "    n_draws = 0\n",
        "    for _ in tqdm(range(n_episodes)):\n",
        "        state = env.reset()\n",
        "        state = state_to_index(state, env.observation_space)\n",
        "        terminated = False\n",
        "        action = agent.act(state)\n",
        "        while not terminated:\n",
        "            next_state, reward, terminated, _, _ = env.step(action)\n",
        "            next_state = state_to_index(next_state, env.observation_space)\n",
        "\n",
        "            transition = Transition(state=state, action=action, next_state=next_state, reward=reward, done=terminated)\n",
        "\n",
        "            action = agent.act(next_state)\n",
        "            state = next_state\n",
        "            agent.step(transition, action)\n",
        "\n",
        "        if reward == 1:\n",
        "            n_wins += 1\n",
        "        elif reward == 0:\n",
        "            n_draws += 1\n",
        "\n",
        "    print(f\"Win rate: {n_wins / n_episodes:.4f}\")\n",
        "    print(f\"Draw rate: {n_draws / n_episodes:.4f}\")\n",
        "\n",
        "    print(f\"\\nTime taken: {time.time() - start:.4f} seconds\")"
      ]
    },
    {
      "cell_type": "code",
      "execution_count": 9,
      "metadata": {
        "colab": {
          "base_uri": "https://localhost:8080/"
        },
        "id": "RnVNmgvvW2ae",
        "outputId": "8813c399-197d-4d5c-ddff-23386d4858bc"
      },
      "outputs": [
        {
          "output_type": "stream",
          "name": "stderr",
          "text": [
            "100%|██████████| 500000/500000 [01:47<00:00, 4639.74it/s]"
          ]
        },
        {
          "output_type": "stream",
          "name": "stdout",
          "text": [
            "Win rate: 0.3649\n",
            "Draw rate: 0.0785\n",
            "\n",
            "Time taken: 107.7775 seconds\n"
          ]
        },
        {
          "output_type": "stream",
          "name": "stderr",
          "text": [
            "\n"
          ]
        }
      ],
      "source": [
        "exploration = UCB(num_states=get_num_states(env.observation_space), num_actions=env.action_space.n, seed=42)\n",
        "qlearning_parameters = SarsaParameters(num_states=get_num_states(env.observation_space), num_actions=env.action_space.n)\n",
        "agent = SarsaAgent(qlearning_parameters, exploration)\n",
        "\n",
        "main_sarsa(env, agent, n_episodes)"
      ]
    },
    {
      "cell_type": "code",
      "execution_count": 10,
      "metadata": {
        "id": "WFmjjikZXsEH",
        "colab": {
          "base_uri": "https://localhost:8080/",
          "height": 894
        },
        "outputId": "a229748d-5bc8-4267-a8f1-a7fcb4bc26f0"
      },
      "outputs": [
        {
          "output_type": "display_data",
          "data": {
            "text/plain": [
              "<Figure size 1000x500 with 4 Axes>"
            ],
            "image/png": "[encoded data removed]"
          },
          "metadata": {}
        },
        {
          "output_type": "stream",
          "name": "stdout",
          "text": [
            "\n",
            "Player's hand: [5, 8] (value: 13)\n",
            "Dealer's hand: [6, 10] (value: 16)\n",
            "Current state: [13  6  0]\n",
            "\n",
            "\n",
            "Player's hand: [5, 8, 11] (value: 14)\n",
            "Dealer's hand: [6, 10] (value: 16)\n",
            "Current state: [14  6  0]\n",
            "\n",
            "\n",
            "Player's hand: [5, 8, 11, 4] (value: 18)\n",
            "Dealer's hand: [6, 10] (value: 16)\n",
            "Current state: [18  6  0]\n",
            "\n",
            "\n",
            "Player's hand: [5, 8, 11, 4] (value: 18)\n",
            "Dealer's hand: [6, 10, 5] (value: 21)\n",
            "Current state: [18  6  0]\n",
            "\n",
            "Win rate: 0.3603\n",
            "Draw rate: 0.0769\n"
          ]
        }
      ],
      "source": [
        "policy = agent.get_policy()\n",
        "plot_policy_simple_blackjack(policy, env.observation_space)\n",
        "\n",
        "play_policy(env, agent, n_test_episodes)"
      ]
    },
    {
      "cell_type": "code",
      "source": [
        "exploration = EpsilonGreedy(epsilon=0.8, decay=0.999999, seed=42)\n",
        "qlearning_parameters = SarsaParameters(num_states=get_num_states(env.observation_space), num_actions=env.action_space.n)\n",
        "agent = SarsaAgent(qlearning_parameters, exploration)\n",
        "\n",
        "main_sarsa(env, agent, n_episodes)"
      ],
      "metadata": {
        "colab": {
          "base_uri": "https://localhost:8080/"
        },
        "id": "GiO6x2fV16A2",
        "outputId": "db8dcd5b-80c5-49b3-bff9-ad9285a65730"
      },
      "execution_count": 11,
      "outputs": [
        {
          "output_type": "stream",
          "name": "stderr",
          "text": [
            "100%|██████████| 500000/500000 [00:46<00:00, 10695.04it/s]"
          ]
        },
        {
          "output_type": "stream",
          "name": "stdout",
          "text": [
            "Win rate: 0.3289\n",
            "Draw rate: 0.0626\n",
            "\n",
            "Time taken: 46.7555 seconds\n"
          ]
        },
        {
          "output_type": "stream",
          "name": "stderr",
          "text": [
            "\n"
          ]
        }
      ]
    },
    {
      "cell_type": "code",
      "source": [
        "policy = agent.get_policy()\n",
        "plot_policy_simple_blackjack(policy, env.observation_space)\n",
        "\n",
        "play_policy(env, agent, n_test_episodes)"
      ],
      "metadata": {
        "colab": {
          "base_uri": "https://localhost:8080/",
          "height": 807
        },
        "id": "H2pE3ghh17O5",
        "outputId": "bc87c567-4c6d-4b2f-bde4-b41955a77c97"
      },
      "execution_count": 12,
      "outputs": [
        {
          "output_type": "display_data",
          "data": {
            "text/plain": [
              "<Figure size 1000x500 with 4 Axes>"
            ],
            "image/png": "[encoded data removed]"
          },
          "metadata": {}
        },
        {
          "output_type": "stream",
          "name": "stdout",
          "text": [
            "\n",
            "Player's hand: [7, 4] (value: 11)\n",
            "Dealer's hand: [7, 7] (value: 14)\n",
            "Current state: [11  7  0]\n",
            "\n",
            "\n",
            "Player's hand: [7, 4, 10] (value: 21)\n",
            "Dealer's hand: [7, 7] (value: 14)\n",
            "Current state: [21  7  0]\n",
            "\n",
            "\n",
            "Player's hand: [7, 4, 10] (value: 21)\n",
            "Dealer's hand: [7, 7, 6] (value: 20)\n",
            "Current state: [21  7  0]\n",
            "\n",
            "Win rate: 0.3891\n",
            "Draw rate: 0.0860\n"
          ]
        }
      ]
    },
    {
      "cell_type": "markdown",
      "metadata": {
        "id": "xtshRf6XN3La"
      },
      "source": [
        "### Q Learning"
      ]
    },
    {
      "cell_type": "code",
      "execution_count": 13,
      "metadata": {
        "id": "99queHAwZ3a_"
      },
      "outputs": [],
      "source": [
        "from src.agents import QlearningAgent\n",
        "from src.utils.data_struct import QlearningParameters\n",
        "\n",
        "def main_qlearning(env: gym.Env, agent: QlearningAgent, n_episodes: int):\n",
        "    start = time.time()\n",
        "    n_wins = 0\n",
        "    n_draws = 0\n",
        "    for _ in tqdm(range(n_episodes)):\n",
        "        state = env.reset()\n",
        "        state = state_to_index(state, env.observation_space)\n",
        "        terminated = False\n",
        "        while not terminated:\n",
        "            action = agent.act(state)\n",
        "            next_state, reward, terminated, _, _ = env.step(action)\n",
        "            next_state = state_to_index(next_state, env.observation_space)\n",
        "\n",
        "            transition = Transition(state=state, action=action, next_state=next_state, reward=reward, done=terminated)\n",
        "\n",
        "            state = next_state\n",
        "            agent.step(transition)\n",
        "\n",
        "        if reward == 1:\n",
        "            n_wins += 1\n",
        "        elif reward == 0:\n",
        "            n_draws += 1\n",
        "\n",
        "    print(f\"Win rate: {n_wins / n_episodes:.4f}\")\n",
        "    print(f\"Draw rate: {n_draws / n_episodes:.4f}\")\n",
        "    print(f\"\\nTime taken: {time.time() - start:.4f} seconds\")"
      ]
    },
    {
      "cell_type": "code",
      "execution_count": 14,
      "metadata": {
        "id": "qYznTMeJNup1",
        "colab": {
          "base_uri": "https://localhost:8080/"
        },
        "outputId": "85ee9eb1-7150-49fb-9eca-9c31afbb0f18"
      },
      "outputs": [
        {
          "output_type": "stream",
          "name": "stderr",
          "text": [
            "100%|██████████| 500000/500000 [01:38<00:00, 5064.95it/s]"
          ]
        },
        {
          "output_type": "stream",
          "name": "stdout",
          "text": [
            "Win rate: 0.3621\n",
            "Draw rate: 0.0784\n",
            "\n",
            "Time taken: 98.7235 seconds\n"
          ]
        },
        {
          "output_type": "stream",
          "name": "stderr",
          "text": [
            "\n"
          ]
        }
      ],
      "source": [
        "exploration = UCB(num_states=get_num_states(env.observation_space), num_actions=env.action_space.n, seed=42)\n",
        "qlearning_parameters = QlearningParameters(num_states=get_num_states(env.observation_space), num_actions=env.action_space.n)\n",
        "agent = QlearningAgent(qlearning_parameters, exploration)\n",
        "\n",
        "main_qlearning(env, agent, n_episodes)"
      ]
    },
    {
      "cell_type": "code",
      "execution_count": 15,
      "metadata": {
        "id": "09rcWZWGY-0J",
        "colab": {
          "base_uri": "https://localhost:8080/",
          "height": 807
        },
        "outputId": "a4070771-f754-4372-e46a-818bea841e18"
      },
      "outputs": [
        {
          "output_type": "display_data",
          "data": {
            "text/plain": [
              "<Figure size 1000x500 with 4 Axes>"
            ],
            "image/png": "[encoded data removed]"
          },
          "metadata": {}
        },
        {
          "output_type": "stream",
          "name": "stdout",
          "text": [
            "\n",
            "Player's hand: [4, 6] (value: 10)\n",
            "Dealer's hand: [10, 7] (value: 17)\n",
            "Current state: [10 10  0]\n",
            "\n",
            "\n",
            "Player's hand: [4, 6, 9] (value: 19)\n",
            "Dealer's hand: [10, 7] (value: 17)\n",
            "Current state: [19 10  0]\n",
            "\n",
            "\n",
            "Player's hand: [4, 6, 9, 10] (value: 29)\n",
            "Dealer's hand: [10, 7] (value: 17)\n",
            "Current state: [29 10  0]\n",
            "\n",
            "Win rate: 0.3607\n",
            "Draw rate: 0.0787\n"
          ]
        }
      ],
      "source": [
        "policy = agent.get_policy()\n",
        "plot_policy_simple_blackjack(policy, env.observation_space)\n",
        "\n",
        "play_policy(env, agent, n_test_episodes)"
      ]
    },
    {
      "cell_type": "code",
      "source": [
        "exploration = EpsilonGreedy(epsilon=0.8, decay=0.999999, seed=42)\n",
        "qlearning_parameters = QlearningParameters(num_states=get_num_states(env.observation_space), num_actions=env.action_space.n)\n",
        "agent = QlearningAgent(qlearning_parameters, exploration)\n",
        "\n",
        "main_qlearning(env, agent, n_episodes)"
      ],
      "metadata": {
        "colab": {
          "base_uri": "https://localhost:8080/"
        },
        "id": "DSSFpS3K2DAD",
        "outputId": "8c1305c7-07b9-46d9-86eb-6bb4c2826ba1"
      },
      "execution_count": 16,
      "outputs": [
        {
          "output_type": "stream",
          "name": "stderr",
          "text": [
            "100%|██████████| 500000/500000 [00:50<00:00, 9854.85it/s]"
          ]
        },
        {
          "output_type": "stream",
          "name": "stdout",
          "text": [
            "Win rate: 0.3218\n",
            "Draw rate: 0.0573\n",
            "\n",
            "Time taken: 50.7432 seconds\n"
          ]
        },
        {
          "output_type": "stream",
          "name": "stderr",
          "text": [
            "\n"
          ]
        }
      ]
    },
    {
      "cell_type": "code",
      "source": [
        "policy = agent.get_policy()\n",
        "plot_policy_simple_blackjack(policy, env.observation_space)\n",
        "\n",
        "play_policy(env, agent, n_test_episodes)"
      ],
      "metadata": {
        "colab": {
          "base_uri": "https://localhost:8080/",
          "height": 807
        },
        "id": "8X57kAzx2Fsa",
        "outputId": "4173158b-e882-4182-caba-b4445cdfb1a6"
      },
      "execution_count": 17,
      "outputs": [
        {
          "output_type": "display_data",
          "data": {
            "text/plain": [
              "<Figure size 1000x500 with 4 Axes>"
            ],
            "image/png": "[encoded data removed]"
          },
          "metadata": {}
        },
        {
          "output_type": "stream",
          "name": "stdout",
          "text": [
            "\n",
            "Player's hand: [6, 11] (value: 17)\n",
            "Dealer's hand: [6, 7] (value: 13)\n",
            "Current state: [17  6  1]\n",
            "\n",
            "\n",
            "Player's hand: [6, 11, 5] (value: 12)\n",
            "Dealer's hand: [6, 7] (value: 13)\n",
            "Current state: [12  6  0]\n",
            "\n",
            "\n",
            "Player's hand: [6, 11, 5] (value: 12)\n",
            "Dealer's hand: [6, 7, 3, 5] (value: 21)\n",
            "Current state: [12  6  0]\n",
            "\n",
            "Win rate: 0.3913\n",
            "Draw rate: 0.0826\n"
          ]
        }
      ]
    },
    {
      "cell_type": "markdown",
      "metadata": {
        "id": "V7geU9B_baQk"
      },
      "source": [
        "## Simple Finite"
      ]
    },
    {
      "cell_type": "code",
      "execution_count": 18,
      "metadata": {
        "id": "l6ufzvqkbXx9"
      },
      "outputs": [],
      "source": [
        "from src.envs import SimpleBlackjack\n",
        "env = SimpleBlackjack(seed=42, packs=4)"
      ]
    },
    {
      "cell_type": "markdown",
      "metadata": {
        "id": "cO0og164bXx-"
      },
      "source": [
        "### Random"
      ]
    },
    {
      "cell_type": "code",
      "execution_count": 19,
      "metadata": {
        "id": "XT7BnqI9bXx_",
        "colab": {
          "base_uri": "https://localhost:8080/"
        },
        "outputId": "0cf879f2-6e8e-4d16-b22a-4562ce2b8d1e"
      },
      "outputs": [
        {
          "output_type": "stream",
          "name": "stdout",
          "text": [
            "\n",
            "Player's hand: [11, 2] (value: 13)\n",
            "Dealer's hand: [10, 7] (value: 17)\n",
            "Current state: [13 10  1  2]\n",
            "\n",
            "\n",
            "Player's hand: [11, 2, 9] (value: 12)\n",
            "Dealer's hand: [10, 7] (value: 17)\n",
            "Current state: [12 10  0  3]\n",
            "\n",
            "\n",
            "Player's hand: [11, 2, 9, 5] (value: 17)\n",
            "Dealer's hand: [10, 7] (value: 17)\n",
            "Current state: [17 10  0  4]\n",
            "\n",
            "\n",
            "Player's hand: [11, 2, 9, 5] (value: 17)\n",
            "Dealer's hand: [10, 7] (value: 17)\n",
            "Current state: [17 10  0  4]\n",
            "\n",
            "Win rate: 0.2791\n",
            "Draw rate: 0.0414\n"
          ]
        }
      ],
      "source": [
        "agent = RandomAgent(env.action_space, seed=42)\n",
        "play_policy(env, agent, n_test_episodes)"
      ]
    },
    {
      "cell_type": "markdown",
      "metadata": {
        "id": "9GvCU1jkbXx_"
      },
      "source": [
        "### Sarsa"
      ]
    },
    {
      "cell_type": "code",
      "execution_count": 20,
      "metadata": {
        "id": "qzY8tIVabXx_",
        "colab": {
          "base_uri": "https://localhost:8080/"
        },
        "outputId": "998aa00e-5482-45d9-9582-d020ee9c85bd"
      },
      "outputs": [
        {
          "output_type": "stream",
          "name": "stderr",
          "text": [
            "100%|██████████| 500000/500000 [03:10<00:00, 2628.82it/s]"
          ]
        },
        {
          "output_type": "stream",
          "name": "stdout",
          "text": [
            "Win rate: 0.3669\n",
            "Draw rate: 0.0769\n",
            "\n",
            "Time taken: 190.2062 seconds\n"
          ]
        },
        {
          "output_type": "stream",
          "name": "stderr",
          "text": [
            "\n"
          ]
        }
      ],
      "source": [
        "exploration = UCB(num_states=get_num_states(env.observation_space), num_actions=env.action_space.n, seed=42)\n",
        "qlearning_parameters = SarsaParameters(num_states=get_num_states(env.observation_space), num_actions=env.action_space.n)\n",
        "agent = SarsaAgent(qlearning_parameters, exploration)\n",
        "\n",
        "main_sarsa(env, agent, n_episodes)"
      ]
    },
    {
      "cell_type": "code",
      "execution_count": 21,
      "metadata": {
        "id": "WpX49dAlbXx_",
        "colab": {
          "base_uri": "https://localhost:8080/"
        },
        "outputId": "ff341557-f1db-450c-d3fc-41b31472904f"
      },
      "outputs": [
        {
          "output_type": "stream",
          "name": "stdout",
          "text": [
            "\n",
            "Player's hand: [2, 6] (value: 8)\n",
            "Dealer's hand: [8, 10] (value: 18)\n",
            "Current state: [8 8 0 2]\n",
            "\n",
            "\n",
            "Player's hand: [2, 6, 8] (value: 16)\n",
            "Dealer's hand: [8, 10] (value: 18)\n",
            "Current state: [16  8  0  3]\n",
            "\n",
            "\n",
            "Player's hand: [2, 6, 8, 10] (value: 26)\n",
            "Dealer's hand: [8, 10] (value: 18)\n",
            "Current state: [26  8  0  4]\n",
            "\n",
            "Win rate: 0.3684\n",
            "Draw rate: 0.0777\n"
          ]
        }
      ],
      "source": [
        "policy = agent.get_policy()\n",
        "play_policy(env, agent, n_test_episodes)"
      ]
    },
    {
      "cell_type": "code",
      "source": [
        "exploration = EpsilonGreedy(epsilon=0.8, decay=0.999999, seed=42)\n",
        "qlearning_parameters = SarsaParameters(num_states=get_num_states(env.observation_space), num_actions=env.action_space.n)\n",
        "agent = SarsaAgent(qlearning_parameters, exploration)\n",
        "\n",
        "main_sarsa(env, agent, n_episodes)"
      ],
      "metadata": {
        "colab": {
          "base_uri": "https://localhost:8080/"
        },
        "id": "OhtPvfJo2J0E",
        "outputId": "6dcba757-e6b0-4ee6-a8a7-b07e2e68f4a3"
      },
      "execution_count": 22,
      "outputs": [
        {
          "output_type": "stream",
          "name": "stderr",
          "text": [
            "100%|██████████| 500000/500000 [02:00<00:00, 4155.96it/s]"
          ]
        },
        {
          "output_type": "stream",
          "name": "stdout",
          "text": [
            "Win rate: 0.3303\n",
            "Draw rate: 0.0620\n",
            "\n",
            "Time taken: 120.3177 seconds\n"
          ]
        },
        {
          "output_type": "stream",
          "name": "stderr",
          "text": [
            "\n"
          ]
        }
      ]
    },
    {
      "cell_type": "code",
      "source": [
        "policy = agent.get_policy()\n",
        "play_policy(env, agent, n_test_episodes)"
      ],
      "metadata": {
        "colab": {
          "base_uri": "https://localhost:8080/"
        },
        "id": "yeiEwb4C2Pbx",
        "outputId": "8bf8aba3-3d7a-4616-84ae-e2ad14a93039"
      },
      "execution_count": 23,
      "outputs": [
        {
          "output_type": "stream",
          "name": "stdout",
          "text": [
            "\n",
            "Player's hand: [11, 7] (value: 18)\n",
            "Dealer's hand: [7, 3] (value: 10)\n",
            "Current state: [18  7  1  2]\n",
            "\n",
            "\n",
            "Player's hand: [11, 7] (value: 18)\n",
            "Dealer's hand: [7, 3, 2, 10] (value: 22)\n",
            "Current state: [18  7  1  2]\n",
            "\n",
            "Win rate: 0.3841\n",
            "Draw rate: 0.0800\n"
          ]
        }
      ]
    },
    {
      "cell_type": "markdown",
      "metadata": {
        "id": "_RmWRIHdbXx_"
      },
      "source": [
        "### Q Learning"
      ]
    },
    {
      "cell_type": "code",
      "execution_count": 24,
      "metadata": {
        "id": "JcS-775TbXyA",
        "colab": {
          "base_uri": "https://localhost:8080/"
        },
        "outputId": "d6e10ce7-f3c6-48b1-c006-2752109e8665"
      },
      "outputs": [
        {
          "output_type": "stream",
          "name": "stderr",
          "text": [
            "100%|██████████| 500000/500000 [02:53<00:00, 2873.99it/s]"
          ]
        },
        {
          "output_type": "stream",
          "name": "stdout",
          "text": [
            "Win rate: 0.3715\n",
            "Draw rate: 0.0799\n",
            "\n",
            "Time taken: 173.9794 seconds\n"
          ]
        },
        {
          "output_type": "stream",
          "name": "stderr",
          "text": [
            "\n"
          ]
        }
      ],
      "source": [
        "exploration = UCB(num_states=get_num_states(env.observation_space), num_actions=env.action_space.n, seed=42)\n",
        "qlearning_parameters = QlearningParameters(num_states=get_num_states(env.observation_space), num_actions=env.action_space.n)\n",
        "agent = QlearningAgent(qlearning_parameters, exploration)\n",
        "\n",
        "main_qlearning(env, agent, n_episodes)"
      ]
    },
    {
      "cell_type": "code",
      "execution_count": 25,
      "metadata": {
        "id": "opY669djbXyA",
        "colab": {
          "base_uri": "https://localhost:8080/"
        },
        "outputId": "c2f635da-3201-4f68-8a49-b7ce3bd5b7c1"
      },
      "outputs": [
        {
          "output_type": "stream",
          "name": "stdout",
          "text": [
            "\n",
            "Player's hand: [10, 3] (value: 13)\n",
            "Dealer's hand: [10, 5] (value: 15)\n",
            "Current state: [13 10  0  2]\n",
            "\n",
            "\n",
            "Player's hand: [10, 3, 5] (value: 18)\n",
            "Dealer's hand: [10, 5] (value: 15)\n",
            "Current state: [18 10  0  3]\n",
            "\n",
            "\n",
            "Player's hand: [10, 3, 5, 8] (value: 26)\n",
            "Dealer's hand: [10, 5] (value: 15)\n",
            "Current state: [26 10  0  4]\n",
            "\n",
            "Win rate: 0.3656\n",
            "Draw rate: 0.0793\n"
          ]
        }
      ],
      "source": [
        "policy = agent.get_policy()\n",
        "play_policy(env, agent, n_test_episodes)"
      ]
    },
    {
      "cell_type": "code",
      "source": [
        "exploration = EpsilonGreedy(epsilon=0.8, decay=0.999999, seed=42)\n",
        "qlearning_parameters = QlearningParameters(num_states=get_num_states(env.observation_space), num_actions=env.action_space.n)\n",
        "agent = QlearningAgent(qlearning_parameters, exploration)\n",
        "\n",
        "main_qlearning(env, agent, n_episodes)"
      ],
      "metadata": {
        "colab": {
          "base_uri": "https://localhost:8080/"
        },
        "id": "05arpQ8m2QsW",
        "outputId": "8523a7cf-60be-4711-e857-f16245a49574"
      },
      "execution_count": 26,
      "outputs": [
        {
          "output_type": "stream",
          "name": "stderr",
          "text": [
            "100%|██████████| 500000/500000 [02:08<00:00, 3901.35it/s]"
          ]
        },
        {
          "output_type": "stream",
          "name": "stdout",
          "text": [
            "Win rate: 0.3223\n",
            "Draw rate: 0.0577\n",
            "\n",
            "Time taken: 128.1679 seconds\n"
          ]
        },
        {
          "output_type": "stream",
          "name": "stderr",
          "text": [
            "\n"
          ]
        }
      ]
    },
    {
      "cell_type": "code",
      "source": [
        "policy = agent.get_policy()\n",
        "play_policy(env, agent, n_test_episodes)"
      ],
      "metadata": {
        "colab": {
          "base_uri": "https://localhost:8080/"
        },
        "id": "hUzq6IFo2SiA",
        "outputId": "27442a1d-afc5-472f-b29e-705f44f2eae7"
      },
      "execution_count": 27,
      "outputs": [
        {
          "output_type": "stream",
          "name": "stdout",
          "text": [
            "\n",
            "Player's hand: [7, 10] (value: 17)\n",
            "Dealer's hand: [5, 4] (value: 9)\n",
            "Current state: [17  5  0  2]\n",
            "\n",
            "\n",
            "Player's hand: [7, 10] (value: 17)\n",
            "Dealer's hand: [5, 4, 10] (value: 19)\n",
            "Current state: [17  5  0  2]\n",
            "\n",
            "Win rate: 0.3943\n",
            "Draw rate: 0.0832\n"
          ]
        }
      ]
    },
    {
      "cell_type": "markdown",
      "metadata": {
        "id": "yyGcuv8qdH5T"
      },
      "source": [
        "## Complete"
      ]
    },
    {
      "cell_type": "code",
      "execution_count": 49,
      "metadata": {
        "id": "zStFwB5HdMyB"
      },
      "outputs": [],
      "source": [
        "from src.envs import Blackjack\n",
        "env = Blackjack(seed=42, packs=4)"
      ]
    },
    {
      "cell_type": "markdown",
      "source": [
        "### Random"
      ],
      "metadata": {
        "id": "4pnR4fHz8By1"
      }
    },
    {
      "cell_type": "code",
      "source": [
        "from src.agents import RandomAgent\n",
        "\n",
        "agent = RandomAgent(env.action_space)\n",
        "play_policy(env, agent, n_test_episodes, False)"
      ],
      "metadata": {
        "colab": {
          "base_uri": "https://localhost:8080/",
          "height": 321
        },
        "id": "c4eNkIjC8Bed",
        "outputId": "c23c8d86-ef4b-482c-b2ae-4045eeacfec3"
      },
      "execution_count": 50,
      "outputs": [
        {
          "output_type": "error",
          "ename": "AttributeError",
          "evalue": "'Dict' object has no attribute 'low'",
          "traceback": [
            "\u001b[0;31m---------------------------------------------------------------------------\u001b[0m",
            "\u001b[0;31mAttributeError\u001b[0m                            Traceback (most recent call last)",
            "\u001b[0;32m<ipython-input-50-a73445a60dfc>\u001b[0m in \u001b[0;36m<cell line: 4>\u001b[0;34m()\u001b[0m\n\u001b[1;32m      2\u001b[0m \u001b[0;34m\u001b[0m\u001b[0m\n\u001b[1;32m      3\u001b[0m \u001b[0magent\u001b[0m \u001b[0;34m=\u001b[0m \u001b[0mRandomAgent\u001b[0m\u001b[0;34m(\u001b[0m\u001b[0menv\u001b[0m\u001b[0;34m.\u001b[0m\u001b[0maction_space\u001b[0m\u001b[0;34m)\u001b[0m\u001b[0;34m\u001b[0m\u001b[0;34m\u001b[0m\u001b[0m\n\u001b[0;32m----> 4\u001b[0;31m \u001b[0mplay_policy\u001b[0m\u001b[0;34m(\u001b[0m\u001b[0menv\u001b[0m\u001b[0;34m,\u001b[0m \u001b[0magent\u001b[0m\u001b[0;34m,\u001b[0m \u001b[0mn_test_episodes\u001b[0m\u001b[0;34m,\u001b[0m \u001b[0;32mFalse\u001b[0m\u001b[0;34m)\u001b[0m\u001b[0;34m\u001b[0m\u001b[0;34m\u001b[0m\u001b[0m\n\u001b[0m",
            "\u001b[0;32m<ipython-input-48-ab9e0a27ac83>\u001b[0m in \u001b[0;36mplay_policy\u001b[0;34m(env, agent, n_test_episodes, array_encoding)\u001b[0m\n\u001b[1;32m      1\u001b[0m \u001b[0;32mdef\u001b[0m \u001b[0mplay_policy\u001b[0m\u001b[0;34m(\u001b[0m\u001b[0menv\u001b[0m\u001b[0;34m:\u001b[0m \u001b[0mgym\u001b[0m\u001b[0;34m.\u001b[0m\u001b[0mEnv\u001b[0m\u001b[0;34m,\u001b[0m \u001b[0magent\u001b[0m\u001b[0;34m:\u001b[0m \u001b[0mAgent\u001b[0m\u001b[0;34m,\u001b[0m \u001b[0mn_test_episodes\u001b[0m\u001b[0;34m:\u001b[0m \u001b[0mint\u001b[0m\u001b[0;34m,\u001b[0m  \u001b[0marray_encoding\u001b[0m\u001b[0;34m:\u001b[0m \u001b[0mbool\u001b[0m \u001b[0;34m=\u001b[0m \u001b[0;32mFalse\u001b[0m\u001b[0;34m)\u001b[0m\u001b[0;34m:\u001b[0m\u001b[0;34m\u001b[0m\u001b[0;34m\u001b[0m\u001b[0m\n\u001b[1;32m      2\u001b[0m   \u001b[0;34m\"\"\"test the agent's policy on multiple episodes, prints the last one\"\"\"\u001b[0m\u001b[0;34m\u001b[0m\u001b[0;34m\u001b[0m\u001b[0m\n\u001b[0;32m----> 3\u001b[0;31m   \u001b[0mrewards\u001b[0m \u001b[0;34m=\u001b[0m \u001b[0;34m[\u001b[0m\u001b[0mplay_episode\u001b[0m\u001b[0;34m(\u001b[0m\u001b[0menv\u001b[0m\u001b[0;34m,\u001b[0m \u001b[0magent\u001b[0m\u001b[0;34m,\u001b[0m \u001b[0mrender\u001b[0m\u001b[0;34m=\u001b[0m \u001b[0mi\u001b[0m \u001b[0;34m==\u001b[0m \u001b[0mn_test_episodes\u001b[0m\u001b[0;34m-\u001b[0m\u001b[0;36m1\u001b[0m\u001b[0;34m,\u001b[0m \u001b[0marray_encoding\u001b[0m\u001b[0;34m=\u001b[0m\u001b[0marray_encoding\u001b[0m\u001b[0;34m)\u001b[0m \u001b[0;32mfor\u001b[0m \u001b[0mi\u001b[0m \u001b[0;32min\u001b[0m \u001b[0mrange\u001b[0m\u001b[0;34m(\u001b[0m\u001b[0mn_test_episodes\u001b[0m\u001b[0;34m)\u001b[0m\u001b[0;34m]\u001b[0m\u001b[0;34m\u001b[0m\u001b[0;34m\u001b[0m\u001b[0m\n\u001b[0m\u001b[1;32m      4\u001b[0m   \u001b[0mrewards\u001b[0m \u001b[0;34m=\u001b[0m \u001b[0mnp\u001b[0m\u001b[0;34m.\u001b[0m\u001b[0marray\u001b[0m\u001b[0;34m(\u001b[0m\u001b[0mrewards\u001b[0m\u001b[0;34m)\u001b[0m\u001b[0;34m\u001b[0m\u001b[0;34m\u001b[0m\u001b[0m\n\u001b[1;32m      5\u001b[0m   \u001b[0mn_wins\u001b[0m \u001b[0;34m=\u001b[0m \u001b[0mnp\u001b[0m\u001b[0;34m.\u001b[0m\u001b[0msum\u001b[0m\u001b[0;34m(\u001b[0m\u001b[0mrewards\u001b[0m \u001b[0;34m==\u001b[0m \u001b[0;36m1\u001b[0m\u001b[0;34m)\u001b[0m\u001b[0;34m\u001b[0m\u001b[0;34m\u001b[0m\u001b[0m\n",
            "\u001b[0;32m<ipython-input-48-ab9e0a27ac83>\u001b[0m in \u001b[0;36m<listcomp>\u001b[0;34m(.0)\u001b[0m\n\u001b[1;32m      1\u001b[0m \u001b[0;32mdef\u001b[0m \u001b[0mplay_policy\u001b[0m\u001b[0;34m(\u001b[0m\u001b[0menv\u001b[0m\u001b[0;34m:\u001b[0m \u001b[0mgym\u001b[0m\u001b[0;34m.\u001b[0m\u001b[0mEnv\u001b[0m\u001b[0;34m,\u001b[0m \u001b[0magent\u001b[0m\u001b[0;34m:\u001b[0m \u001b[0mAgent\u001b[0m\u001b[0;34m,\u001b[0m \u001b[0mn_test_episodes\u001b[0m\u001b[0;34m:\u001b[0m \u001b[0mint\u001b[0m\u001b[0;34m,\u001b[0m  \u001b[0marray_encoding\u001b[0m\u001b[0;34m:\u001b[0m \u001b[0mbool\u001b[0m \u001b[0;34m=\u001b[0m \u001b[0;32mFalse\u001b[0m\u001b[0;34m)\u001b[0m\u001b[0;34m:\u001b[0m\u001b[0;34m\u001b[0m\u001b[0;34m\u001b[0m\u001b[0m\n\u001b[1;32m      2\u001b[0m   \u001b[0;34m\"\"\"test the agent's policy on multiple episodes, prints the last one\"\"\"\u001b[0m\u001b[0;34m\u001b[0m\u001b[0;34m\u001b[0m\u001b[0m\n\u001b[0;32m----> 3\u001b[0;31m   \u001b[0mrewards\u001b[0m \u001b[0;34m=\u001b[0m \u001b[0;34m[\u001b[0m\u001b[0mplay_episode\u001b[0m\u001b[0;34m(\u001b[0m\u001b[0menv\u001b[0m\u001b[0;34m,\u001b[0m \u001b[0magent\u001b[0m\u001b[0;34m,\u001b[0m \u001b[0mrender\u001b[0m\u001b[0;34m=\u001b[0m \u001b[0mi\u001b[0m \u001b[0;34m==\u001b[0m \u001b[0mn_test_episodes\u001b[0m\u001b[0;34m-\u001b[0m\u001b[0;36m1\u001b[0m\u001b[0;34m,\u001b[0m \u001b[0marray_encoding\u001b[0m\u001b[0;34m=\u001b[0m\u001b[0marray_encoding\u001b[0m\u001b[0;34m)\u001b[0m \u001b[0;32mfor\u001b[0m \u001b[0mi\u001b[0m \u001b[0;32min\u001b[0m \u001b[0mrange\u001b[0m\u001b[0;34m(\u001b[0m\u001b[0mn_test_episodes\u001b[0m\u001b[0;34m)\u001b[0m\u001b[0;34m]\u001b[0m\u001b[0;34m\u001b[0m\u001b[0;34m\u001b[0m\u001b[0m\n\u001b[0m\u001b[1;32m      4\u001b[0m   \u001b[0mrewards\u001b[0m \u001b[0;34m=\u001b[0m \u001b[0mnp\u001b[0m\u001b[0;34m.\u001b[0m\u001b[0marray\u001b[0m\u001b[0;34m(\u001b[0m\u001b[0mrewards\u001b[0m\u001b[0;34m)\u001b[0m\u001b[0;34m\u001b[0m\u001b[0;34m\u001b[0m\u001b[0m\n\u001b[1;32m      5\u001b[0m   \u001b[0mn_wins\u001b[0m \u001b[0;34m=\u001b[0m \u001b[0mnp\u001b[0m\u001b[0;34m.\u001b[0m\u001b[0msum\u001b[0m\u001b[0;34m(\u001b[0m\u001b[0mrewards\u001b[0m \u001b[0;34m==\u001b[0m \u001b[0;36m1\u001b[0m\u001b[0;34m)\u001b[0m\u001b[0;34m\u001b[0m\u001b[0;34m\u001b[0m\u001b[0m\n",
            "\u001b[0;32m<ipython-input-47-2a5ebd4a8f49>\u001b[0m in \u001b[0;36mplay_episode\u001b[0;34m(env, agent, render, array_encoding)\u001b[0m\n\u001b[1;32m     13\u001b[0m         \u001b[0mstate\u001b[0m \u001b[0;34m=\u001b[0m \u001b[0mstate_to_tensor_encoding\u001b[0m\u001b[0;34m(\u001b[0m\u001b[0mstate\u001b[0m\u001b[0;34m,\u001b[0m \u001b[0menv\u001b[0m\u001b[0;34m.\u001b[0m\u001b[0mobservation_space\u001b[0m\u001b[0;34m)\u001b[0m\u001b[0;34m\u001b[0m\u001b[0;34m\u001b[0m\u001b[0m\n\u001b[1;32m     14\u001b[0m     \u001b[0;32melse\u001b[0m\u001b[0;34m:\u001b[0m\u001b[0;34m\u001b[0m\u001b[0;34m\u001b[0m\u001b[0m\n\u001b[0;32m---> 15\u001b[0;31m         \u001b[0mstate\u001b[0m \u001b[0;34m=\u001b[0m \u001b[0mstate_to_index\u001b[0m\u001b[0;34m(\u001b[0m\u001b[0mstate\u001b[0m\u001b[0;34m,\u001b[0m \u001b[0menv\u001b[0m\u001b[0;34m.\u001b[0m\u001b[0mobservation_space\u001b[0m\u001b[0;34m)\u001b[0m\u001b[0;34m\u001b[0m\u001b[0;34m\u001b[0m\u001b[0m\n\u001b[0m\u001b[1;32m     16\u001b[0m     \u001b[0mterminated\u001b[0m \u001b[0;34m=\u001b[0m \u001b[0;32mFalse\u001b[0m\u001b[0;34m\u001b[0m\u001b[0;34m\u001b[0m\u001b[0m\n\u001b[1;32m     17\u001b[0m     \u001b[0;32mwhile\u001b[0m \u001b[0;32mnot\u001b[0m \u001b[0mterminated\u001b[0m\u001b[0;34m:\u001b[0m\u001b[0;34m\u001b[0m\u001b[0;34m\u001b[0m\u001b[0m\n",
            "\u001b[0;32m/content/drive/MyDrive/RL/blackjack/src/utils/general.py\u001b[0m in \u001b[0;36mstate_to_index\u001b[0;34m(state, space)\u001b[0m\n\u001b[1;32m     14\u001b[0m         \u001b[0mint\u001b[0m\u001b[0;34m:\u001b[0m \u001b[0mIndex\u001b[0m\u001b[0;34m.\u001b[0m\u001b[0;34m\u001b[0m\u001b[0;34m\u001b[0m\u001b[0m\n\u001b[1;32m     15\u001b[0m     \"\"\"   \n\u001b[0;32m---> 16\u001b[0;31m     \u001b[0mstate\u001b[0m \u001b[0;34m=\u001b[0m \u001b[0mstate\u001b[0m \u001b[0;34m-\u001b[0m \u001b[0mspace\u001b[0m\u001b[0;34m.\u001b[0m\u001b[0mlow\u001b[0m\u001b[0;34m\u001b[0m\u001b[0;34m\u001b[0m\u001b[0m\n\u001b[0m\u001b[1;32m     17\u001b[0m     \u001b[0mwidth\u001b[0m \u001b[0;34m=\u001b[0m \u001b[0mspace\u001b[0m\u001b[0;34m.\u001b[0m\u001b[0mhigh\u001b[0m \u001b[0;34m-\u001b[0m \u001b[0mspace\u001b[0m\u001b[0;34m.\u001b[0m\u001b[0mlow\u001b[0m \u001b[0;34m+\u001b[0m \u001b[0;36m1\u001b[0m\u001b[0;34m\u001b[0m\u001b[0;34m\u001b[0m\u001b[0m\n\u001b[1;32m     18\u001b[0m \u001b[0;34m\u001b[0m\u001b[0m\n",
            "\u001b[0;31mAttributeError\u001b[0m: 'Dict' object has no attribute 'low'"
          ]
        }
      ]
    },
    {
      "cell_type": "markdown",
      "metadata": {
        "id": "Mo2tjCr_dYYs"
      },
      "source": [
        "### DQN"
      ]
    },
    {
      "cell_type": "code",
      "execution_count": 29,
      "metadata": {
        "id": "I1wPMVBydZjU"
      },
      "outputs": [],
      "source": [
        "from src.agents.dqn import DQN\n",
        "from src.utils.general import get_input_dim_encoding\n",
        "import torch\n",
        "\n",
        "def main_dqn(env: gym.Env, agent: DQN, n_episodes: int):\n",
        "    start = time.time()\n",
        "    n_wins = 0\n",
        "    n_draws = 0\n",
        "    for _ in tqdm(range(n_episodes)):\n",
        "        state = env.reset()\n",
        "        state = state_to_tensor_encoding(state, env.observation_space)\n",
        "        terminated = False\n",
        "        while not terminated:\n",
        "            action = agent.act(state)\n",
        "            next_state, reward, terminated, _, _ = env.step(action)\n",
        "\n",
        "            next_state = state_to_tensor_encoding(next_state, env.observation_space)\n",
        "            action = torch.Tensor([action]).long()\n",
        "            reward = torch.Tensor([reward]).float()\n",
        "            terminated = torch.Tensor([terminated]).float()\n",
        "\n",
        "            transition = Transition(state=state, action=action, next_state=next_state, reward=reward, done=terminated)\n",
        "\n",
        "            state = next_state\n",
        "            agent.step(transition)\n",
        "\n",
        "        if reward == 1:\n",
        "            n_wins += 1\n",
        "        elif reward == 0:\n",
        "            n_draws += 1\n",
        "\n",
        "    print(f\"Win rate: {n_wins / n_episodes:.2f}\")\n",
        "    print(f\"Draw rate: {n_draws / n_episodes:.2f}\")\n",
        "\n",
        "    print(f\"\\nTime taken: {time.time() - start:.2f} seconds\")"
      ]
    },
    {
      "cell_type": "code",
      "execution_count": 30,
      "metadata": {
        "id": "8zGv-gWP1iln"
      },
      "outputs": [],
      "source": [
        "n_episodes = 100_000"
      ]
    },
    {
      "cell_type": "code",
      "execution_count": 31,
      "metadata": {
        "id": "rntxpzokdlty",
        "colab": {
          "base_uri": "https://localhost:8080/"
        },
        "outputId": "0bbb704e-4c4d-4e79-c95d-23651e3fc97a"
      },
      "outputs": [
        {
          "output_type": "stream",
          "name": "stderr",
          "text": [
            "100%|██████████| 100000/100000 [06:40<00:00, 249.44it/s]"
          ]
        },
        {
          "output_type": "stream",
          "name": "stdout",
          "text": [
            "Win rate: 0.32\n",
            "Draw rate: 0.05\n",
            "\n",
            "Time taken: 400.90 seconds\n"
          ]
        },
        {
          "output_type": "stream",
          "name": "stderr",
          "text": [
            "\n"
          ]
        }
      ],
      "source": [
        "from src.utils.data_struct import DQNParameters\n",
        "from src.networks import MLP\n",
        "from src.utils.buffer import ReplayBuffer\n",
        "\n",
        "params = DQNParameters()\n",
        "q_network = MLP(get_input_dim_encoding(env.observation_space), 64, env.action_space.n).to(params.device)\n",
        "target_network = MLP(get_input_dim_encoding(env.observation_space), 64, env.action_space.n).to(params.device)\n",
        "target_network.load_state_dict(q_network.state_dict())\n",
        "replay_buffer = ReplayBuffer(10_000)\n",
        "optimizer = torch.optim.AdamW(q_network.parameters(), lr=0.001, weight_decay=0.0001)\n",
        "criterion = torch.nn.MSELoss()\n",
        "exploration = EpsilonGreedy(0.3, 0.9)\n",
        "\n",
        "agent = DQN(q_network, target_network, replay_buffer, optimizer, criterion, exploration, params)\n",
        "main_dqn(env, agent, n_episodes)"
      ]
    },
    {
      "cell_type": "code",
      "execution_count": 32,
      "metadata": {
        "id": "pG6jMxnrdlty",
        "colab": {
          "base_uri": "https://localhost:8080/"
        },
        "outputId": "61069d62-a8f1-4b1a-c384-38a32c70f132"
      },
      "outputs": [
        {
          "output_type": "stream",
          "name": "stderr",
          "text": [
            "/usr/local/lib/python3.10/dist-packages/ipykernel/ipkernel.py:283: DeprecationWarning: `should_run_async` will not call `transform_cell` automatically in the future. Please pass the result to `transformed_cell` argument and any exception that happen during thetransform in `preprocessing_exc_tuple` in IPython 7.17 and above.\n",
            "  and should_run_async(code)\n"
          ]
        },
        {
          "output_type": "stream",
          "name": "stdout",
          "text": [
            "\n",
            "Player's hand: [11, 8] (value: 19)\n",
            "Dealer's hand: [4, 9] (value: 13)\n",
            "Current state: {'dealer': 4, 'player': [11, 8]}\n",
            "\n",
            "\n",
            "Player's hand: [11, 8] (value: 19)\n",
            "Dealer's hand: [4, 9, 3, 10] (value: 26)\n",
            "Current state: {'dealer': 4, 'player': [11, 8]}\n",
            "\n",
            "Win rate: 0.3828\n",
            "Draw rate: 0.0621\n"
          ]
        }
      ],
      "source": [
        "play_policy(env, agent, n_test_episodes, array_encoding=True)"
      ]
    },
    {
      "cell_type": "code",
      "source": [
        "from src.utils.data_struct import DQNParameters\n",
        "from src.networks import MLP\n",
        "from src.utils.buffer import ReplayBuffer\n",
        "\n",
        "params = DQNParameters()\n",
        "q_network = MLP(get_input_dim_encoding(env.observation_space), 64, env.action_space.n).to(params.device)\n",
        "target_network = MLP(get_input_dim_encoding(env.observation_space), 64, env.action_space.n).to(params.device)\n",
        "target_network.load_state_dict(q_network.state_dict())\n",
        "replay_buffer = ReplayBuffer(10_000)\n",
        "optimizer = torch.optim.AdamW(q_network.parameters(), lr=0.001, weight_decay=0.0001)\n",
        "criterion = torch.nn.MSELoss()\n",
        "exploration = UCB(num_states=get_num_states(env.observation_space), num_actions=env.action_space.n, seed=42)\n",
        "\n",
        "agent = DQN(q_network, target_network, replay_buffer, optimizer, criterion, exploration, params)\n",
        "main_dqn(env, agent, n_episodes)\n",
        "\n",
        "play_policy(env, agent, n_test_episodes, array_encoding=True)"
      ],
      "metadata": {
        "colab": {
          "base_uri": "https://localhost:8080/",
          "height": 332
        },
        "id": "tvGnKhKy9ntm",
        "outputId": "6a527b53-4ed3-44cf-f383-042a8e7f2391"
      },
      "execution_count": 35,
      "outputs": [
        {
          "output_type": "error",
          "ename": "AttributeError",
          "evalue": "'Dict' object has no attribute 'high'",
          "traceback": [
            "\u001b[0;31m---------------------------------------------------------------------------\u001b[0m",
            "\u001b[0;31mAttributeError\u001b[0m                            Traceback (most recent call last)",
            "\u001b[0;32m<ipython-input-35-344809e5ff2c>\u001b[0m in \u001b[0;36m<cell line: 12>\u001b[0;34m()\u001b[0m\n\u001b[1;32m     10\u001b[0m \u001b[0moptimizer\u001b[0m \u001b[0;34m=\u001b[0m \u001b[0mtorch\u001b[0m\u001b[0;34m.\u001b[0m\u001b[0moptim\u001b[0m\u001b[0;34m.\u001b[0m\u001b[0mAdamW\u001b[0m\u001b[0;34m(\u001b[0m\u001b[0mq_network\u001b[0m\u001b[0;34m.\u001b[0m\u001b[0mparameters\u001b[0m\u001b[0;34m(\u001b[0m\u001b[0;34m)\u001b[0m\u001b[0;34m,\u001b[0m \u001b[0mlr\u001b[0m\u001b[0;34m=\u001b[0m\u001b[0;36m0.001\u001b[0m\u001b[0;34m,\u001b[0m \u001b[0mweight_decay\u001b[0m\u001b[0;34m=\u001b[0m\u001b[0;36m0.0001\u001b[0m\u001b[0;34m)\u001b[0m\u001b[0;34m\u001b[0m\u001b[0;34m\u001b[0m\u001b[0m\n\u001b[1;32m     11\u001b[0m \u001b[0mcriterion\u001b[0m \u001b[0;34m=\u001b[0m \u001b[0mtorch\u001b[0m\u001b[0;34m.\u001b[0m\u001b[0mnn\u001b[0m\u001b[0;34m.\u001b[0m\u001b[0mMSELoss\u001b[0m\u001b[0;34m(\u001b[0m\u001b[0;34m)\u001b[0m\u001b[0;34m\u001b[0m\u001b[0;34m\u001b[0m\u001b[0m\n\u001b[0;32m---> 12\u001b[0;31m \u001b[0mexploration\u001b[0m \u001b[0;34m=\u001b[0m \u001b[0mUCB\u001b[0m\u001b[0;34m(\u001b[0m\u001b[0mnum_states\u001b[0m\u001b[0;34m=\u001b[0m\u001b[0mget_num_states\u001b[0m\u001b[0;34m(\u001b[0m\u001b[0menv\u001b[0m\u001b[0;34m.\u001b[0m\u001b[0mobservation_space\u001b[0m\u001b[0;34m)\u001b[0m\u001b[0;34m,\u001b[0m \u001b[0mnum_actions\u001b[0m\u001b[0;34m=\u001b[0m\u001b[0menv\u001b[0m\u001b[0;34m.\u001b[0m\u001b[0maction_space\u001b[0m\u001b[0;34m.\u001b[0m\u001b[0mn\u001b[0m\u001b[0;34m,\u001b[0m \u001b[0mseed\u001b[0m\u001b[0;34m=\u001b[0m\u001b[0;36m42\u001b[0m\u001b[0;34m)\u001b[0m\u001b[0;34m\u001b[0m\u001b[0;34m\u001b[0m\u001b[0m\n\u001b[0m\u001b[1;32m     13\u001b[0m \u001b[0;34m\u001b[0m\u001b[0m\n\u001b[1;32m     14\u001b[0m \u001b[0magent\u001b[0m \u001b[0;34m=\u001b[0m \u001b[0mDQN\u001b[0m\u001b[0;34m(\u001b[0m\u001b[0mq_network\u001b[0m\u001b[0;34m,\u001b[0m \u001b[0mtarget_network\u001b[0m\u001b[0;34m,\u001b[0m \u001b[0mreplay_buffer\u001b[0m\u001b[0;34m,\u001b[0m \u001b[0moptimizer\u001b[0m\u001b[0;34m,\u001b[0m \u001b[0mcriterion\u001b[0m\u001b[0;34m,\u001b[0m \u001b[0mexploration\u001b[0m\u001b[0;34m,\u001b[0m \u001b[0mparams\u001b[0m\u001b[0;34m)\u001b[0m\u001b[0;34m\u001b[0m\u001b[0;34m\u001b[0m\u001b[0m\n",
            "\u001b[0;32m/content/drive/MyDrive/RL/blackjack/src/utils/general.py\u001b[0m in \u001b[0;36mget_num_states\u001b[0;34m(space)\u001b[0m\n\u001b[1;32m     45\u001b[0m         \u001b[0mint\u001b[0m\u001b[0;34m:\u001b[0m \u001b[0mNumber\u001b[0m \u001b[0mof\u001b[0m \u001b[0mstates\u001b[0m\u001b[0;34m.\u001b[0m\u001b[0;34m\u001b[0m\u001b[0;34m\u001b[0m\u001b[0m\n\u001b[1;32m     46\u001b[0m     \"\"\"\n\u001b[0;32m---> 47\u001b[0;31m     \u001b[0;32mreturn\u001b[0m \u001b[0mnp\u001b[0m\u001b[0;34m.\u001b[0m\u001b[0mprod\u001b[0m\u001b[0;34m(\u001b[0m\u001b[0mspace\u001b[0m\u001b[0;34m.\u001b[0m\u001b[0mhigh\u001b[0m \u001b[0;34m-\u001b[0m \u001b[0mspace\u001b[0m\u001b[0;34m.\u001b[0m\u001b[0mlow\u001b[0m \u001b[0;34m+\u001b[0m \u001b[0;36m1\u001b[0m\u001b[0;34m)\u001b[0m\u001b[0;34m\u001b[0m\u001b[0;34m\u001b[0m\u001b[0m\n\u001b[0m\u001b[1;32m     48\u001b[0m \u001b[0;34m\u001b[0m\u001b[0m\n\u001b[1;32m     49\u001b[0m \u001b[0;34m\u001b[0m\u001b[0m\n",
            "\u001b[0;31mAttributeError\u001b[0m: 'Dict' object has no attribute 'high'"
          ]
        }
      ]
    },
    {
      "cell_type": "markdown",
      "source": [
        "### DQN sequence"
      ],
      "metadata": {
        "id": "zwv069gB2jGI"
      }
    },
    {
      "cell_type": "code",
      "source": [
        "from src.utils.general import state_to_tensor_sequence\n",
        "\n",
        "def main(env: gym.Env, agent: DQN, n_episodes: int):\n",
        "    start = time.time()\n",
        "    n_wins = 0\n",
        "    n_draws = 0\n",
        "    for _ in tqdm(range(n_episodes)):\n",
        "        state = env.reset()\n",
        "        state = state_to_tensor_sequence(state, env.observation_space, env.max_number_of_cards)\n",
        "        terminated = False\n",
        "        while not terminated:\n",
        "            action = agent.act(state)\n",
        "            next_state, reward, terminated, _, _ = env.step(action)\n",
        "\n",
        "            next_state = state_to_tensor_sequence(next_state, env.observation_space, env.max_number_of_cards)\n",
        "            action = torch.Tensor([action]).long()\n",
        "            reward = torch.Tensor([reward]).float()\n",
        "            terminated = torch.Tensor([terminated]).float()\n",
        "\n",
        "            transition = Transition(state=state, action=action, next_state=next_state, reward=reward, done=terminated)\n",
        "\n",
        "            state = next_state\n",
        "            agent.step(transition)\n",
        "\n",
        "        if reward == 1:\n",
        "            n_wins += 1\n",
        "        elif reward == 0:\n",
        "            n_draws += 1\n",
        "\n",
        "    print(f\"Win rate: {n_wins / n_episodes:.2f}\")\n",
        "    print(f\"Draw rate: {n_draws / n_episodes:.2f}\")\n",
        "\n",
        "    print(f\"\\nTime taken: {time.time() - start:.2f} seconds\")\n",
        "\n",
        "def play_episode(env: gym.Env, agent: DQN, render: bool = False):\n",
        "    state = env.reset()\n",
        "    if render:\n",
        "        env.render()\n",
        "    state = state_to_tensor_sequence(state, env.observation_space, env.max_number_of_cards)\n",
        "    terminated = False\n",
        "    while not terminated:\n",
        "        action = agent.get_best_action(state)\n",
        "        next_state, reward, terminated, _, _ = env.step(action)\n",
        "        if render:\n",
        "            env.render()\n",
        "        next_state = state_to_tensor_sequence(next_state, env.observation_space, env.max_number_of_cards)\n",
        "        state = next_state\n",
        "    return reward"
      ],
      "metadata": {
        "id": "jv9zcaRR96nR"
      },
      "execution_count": 39,
      "outputs": []
    },
    {
      "cell_type": "code",
      "source": [
        "params = DQNParameters()\n",
        "q_network = MLP(1 + env.max_number_of_cards, 64, env.action_space.n).to(params.device)\n",
        "target_network = MLP(1 + env.max_number_of_cards, 64, env.action_space.n).to(params.device)\n",
        "target_network.load_state_dict(q_network.state_dict())\n",
        "replay_buffer = ReplayBuffer(10_000)\n",
        "optimizer = torch.optim.AdamW(q_network.parameters(), lr=0.001, weight_decay=0.0001)\n",
        "criterion = torch.nn.MSELoss()\n",
        "exploration = EpsilonGreedy(0.8, 0.99)\n",
        "\n",
        "agent = DQN(q_network, target_network, replay_buffer, optimizer, criterion, exploration, params)\n",
        "main(env, agent, n_episodes)"
      ],
      "metadata": {
        "colab": {
          "base_uri": "https://localhost:8080/",
          "height": 443
        },
        "id": "3pFCPZUd2lOx",
        "outputId": "c6f7c945-a5c5-4028-aea7-199850cfb339"
      },
      "execution_count": 37,
      "outputs": [
        {
          "output_type": "stream",
          "name": "stderr",
          "text": [
            "100%|██████████| 100000/100000 [05:27<00:00, 305.38it/s]"
          ]
        },
        {
          "output_type": "stream",
          "name": "stdout",
          "text": [
            "Win rate: 0.38\n",
            "Draw rate: 0.06\n",
            "\n",
            "Time taken: 327.47 seconds\n"
          ]
        },
        {
          "output_type": "stream",
          "name": "stderr",
          "text": [
            "\n"
          ]
        },
        {
          "output_type": "error",
          "ename": "AttributeError",
          "evalue": "'Dict' object has no attribute 'low'",
          "traceback": [
            "\u001b[0;31m---------------------------------------------------------------------------\u001b[0m",
            "\u001b[0;31mAttributeError\u001b[0m                            Traceback (most recent call last)",
            "\u001b[0;32m<ipython-input-37-350c085492cc>\u001b[0m in \u001b[0;36m<cell line: 14>\u001b[0;34m()\u001b[0m\n\u001b[1;32m     12\u001b[0m \u001b[0;34m\u001b[0m\u001b[0m\n\u001b[1;32m     13\u001b[0m \u001b[0mn_test_episodes\u001b[0m \u001b[0;34m=\u001b[0m \u001b[0;36m10000\u001b[0m\u001b[0;34m\u001b[0m\u001b[0;34m\u001b[0m\u001b[0m\n\u001b[0;32m---> 14\u001b[0;31m \u001b[0mrewards\u001b[0m \u001b[0;34m=\u001b[0m \u001b[0;34m[\u001b[0m\u001b[0mplay_episode\u001b[0m\u001b[0;34m(\u001b[0m\u001b[0menv\u001b[0m\u001b[0;34m,\u001b[0m \u001b[0magent\u001b[0m\u001b[0;34m)\u001b[0m \u001b[0;32mfor\u001b[0m \u001b[0m_\u001b[0m \u001b[0;32min\u001b[0m \u001b[0mrange\u001b[0m\u001b[0;34m(\u001b[0m\u001b[0mn_test_episodes\u001b[0m\u001b[0;34m)\u001b[0m\u001b[0;34m]\u001b[0m\u001b[0;34m\u001b[0m\u001b[0;34m\u001b[0m\u001b[0m\n\u001b[0m\u001b[1;32m     15\u001b[0m \u001b[0mn_wins\u001b[0m \u001b[0;34m=\u001b[0m \u001b[0msum\u001b[0m\u001b[0;34m(\u001b[0m\u001b[0mreward\u001b[0m \u001b[0;34m==\u001b[0m \u001b[0;36m1\u001b[0m \u001b[0;32mfor\u001b[0m \u001b[0mreward\u001b[0m \u001b[0;32min\u001b[0m \u001b[0mrewards\u001b[0m\u001b[0;34m)\u001b[0m\u001b[0;34m\u001b[0m\u001b[0;34m\u001b[0m\u001b[0m\n\u001b[1;32m     16\u001b[0m \u001b[0mn_draws\u001b[0m \u001b[0;34m=\u001b[0m \u001b[0msum\u001b[0m\u001b[0;34m(\u001b[0m\u001b[0mreward\u001b[0m \u001b[0;34m==\u001b[0m \u001b[0;36m0\u001b[0m \u001b[0;32mfor\u001b[0m \u001b[0mreward\u001b[0m \u001b[0;32min\u001b[0m \u001b[0mrewards\u001b[0m\u001b[0;34m)\u001b[0m\u001b[0;34m\u001b[0m\u001b[0;34m\u001b[0m\u001b[0m\n",
            "\u001b[0;32m<ipython-input-37-350c085492cc>\u001b[0m in \u001b[0;36m<listcomp>\u001b[0;34m(.0)\u001b[0m\n\u001b[1;32m     12\u001b[0m \u001b[0;34m\u001b[0m\u001b[0m\n\u001b[1;32m     13\u001b[0m \u001b[0mn_test_episodes\u001b[0m \u001b[0;34m=\u001b[0m \u001b[0;36m10000\u001b[0m\u001b[0;34m\u001b[0m\u001b[0;34m\u001b[0m\u001b[0m\n\u001b[0;32m---> 14\u001b[0;31m \u001b[0mrewards\u001b[0m \u001b[0;34m=\u001b[0m \u001b[0;34m[\u001b[0m\u001b[0mplay_episode\u001b[0m\u001b[0;34m(\u001b[0m\u001b[0menv\u001b[0m\u001b[0;34m,\u001b[0m \u001b[0magent\u001b[0m\u001b[0;34m)\u001b[0m \u001b[0;32mfor\u001b[0m \u001b[0m_\u001b[0m \u001b[0;32min\u001b[0m \u001b[0mrange\u001b[0m\u001b[0;34m(\u001b[0m\u001b[0mn_test_episodes\u001b[0m\u001b[0;34m)\u001b[0m\u001b[0;34m]\u001b[0m\u001b[0;34m\u001b[0m\u001b[0;34m\u001b[0m\u001b[0m\n\u001b[0m\u001b[1;32m     15\u001b[0m \u001b[0mn_wins\u001b[0m \u001b[0;34m=\u001b[0m \u001b[0msum\u001b[0m\u001b[0;34m(\u001b[0m\u001b[0mreward\u001b[0m \u001b[0;34m==\u001b[0m \u001b[0;36m1\u001b[0m \u001b[0;32mfor\u001b[0m \u001b[0mreward\u001b[0m \u001b[0;32min\u001b[0m \u001b[0mrewards\u001b[0m\u001b[0;34m)\u001b[0m\u001b[0;34m\u001b[0m\u001b[0;34m\u001b[0m\u001b[0m\n\u001b[1;32m     16\u001b[0m \u001b[0mn_draws\u001b[0m \u001b[0;34m=\u001b[0m \u001b[0msum\u001b[0m\u001b[0;34m(\u001b[0m\u001b[0mreward\u001b[0m \u001b[0;34m==\u001b[0m \u001b[0;36m0\u001b[0m \u001b[0;32mfor\u001b[0m \u001b[0mreward\u001b[0m \u001b[0;32min\u001b[0m \u001b[0mrewards\u001b[0m\u001b[0;34m)\u001b[0m\u001b[0;34m\u001b[0m\u001b[0;34m\u001b[0m\u001b[0m\n",
            "\u001b[0;32m<ipython-input-3-2a5ebd4a8f49>\u001b[0m in \u001b[0;36mplay_episode\u001b[0;34m(env, agent, render, array_encoding)\u001b[0m\n\u001b[1;32m     13\u001b[0m         \u001b[0mstate\u001b[0m \u001b[0;34m=\u001b[0m \u001b[0mstate_to_tensor_encoding\u001b[0m\u001b[0;34m(\u001b[0m\u001b[0mstate\u001b[0m\u001b[0;34m,\u001b[0m \u001b[0menv\u001b[0m\u001b[0;34m.\u001b[0m\u001b[0mobservation_space\u001b[0m\u001b[0;34m)\u001b[0m\u001b[0;34m\u001b[0m\u001b[0;34m\u001b[0m\u001b[0m\n\u001b[1;32m     14\u001b[0m     \u001b[0;32melse\u001b[0m\u001b[0;34m:\u001b[0m\u001b[0;34m\u001b[0m\u001b[0;34m\u001b[0m\u001b[0m\n\u001b[0;32m---> 15\u001b[0;31m         \u001b[0mstate\u001b[0m \u001b[0;34m=\u001b[0m \u001b[0mstate_to_index\u001b[0m\u001b[0;34m(\u001b[0m\u001b[0mstate\u001b[0m\u001b[0;34m,\u001b[0m \u001b[0menv\u001b[0m\u001b[0;34m.\u001b[0m\u001b[0mobservation_space\u001b[0m\u001b[0;34m)\u001b[0m\u001b[0;34m\u001b[0m\u001b[0;34m\u001b[0m\u001b[0m\n\u001b[0m\u001b[1;32m     16\u001b[0m     \u001b[0mterminated\u001b[0m \u001b[0;34m=\u001b[0m \u001b[0;32mFalse\u001b[0m\u001b[0;34m\u001b[0m\u001b[0;34m\u001b[0m\u001b[0m\n\u001b[1;32m     17\u001b[0m     \u001b[0;32mwhile\u001b[0m \u001b[0;32mnot\u001b[0m \u001b[0mterminated\u001b[0m\u001b[0;34m:\u001b[0m\u001b[0;34m\u001b[0m\u001b[0;34m\u001b[0m\u001b[0m\n",
            "\u001b[0;32m/content/drive/MyDrive/RL/blackjack/src/utils/general.py\u001b[0m in \u001b[0;36mstate_to_index\u001b[0;34m(state, space)\u001b[0m\n\u001b[1;32m     14\u001b[0m         \u001b[0mint\u001b[0m\u001b[0;34m:\u001b[0m \u001b[0mIndex\u001b[0m\u001b[0;34m.\u001b[0m\u001b[0;34m\u001b[0m\u001b[0;34m\u001b[0m\u001b[0m\n\u001b[1;32m     15\u001b[0m     \"\"\"   \n\u001b[0;32m---> 16\u001b[0;31m     \u001b[0mstate\u001b[0m \u001b[0;34m=\u001b[0m \u001b[0mstate\u001b[0m \u001b[0;34m-\u001b[0m \u001b[0mspace\u001b[0m\u001b[0;34m.\u001b[0m\u001b[0mlow\u001b[0m\u001b[0;34m\u001b[0m\u001b[0;34m\u001b[0m\u001b[0m\n\u001b[0m\u001b[1;32m     17\u001b[0m     \u001b[0mwidth\u001b[0m \u001b[0;34m=\u001b[0m \u001b[0mspace\u001b[0m\u001b[0;34m.\u001b[0m\u001b[0mhigh\u001b[0m \u001b[0;34m-\u001b[0m \u001b[0mspace\u001b[0m\u001b[0;34m.\u001b[0m\u001b[0mlow\u001b[0m \u001b[0;34m+\u001b[0m \u001b[0;36m1\u001b[0m\u001b[0;34m\u001b[0m\u001b[0;34m\u001b[0m\u001b[0m\n\u001b[1;32m     18\u001b[0m \u001b[0;34m\u001b[0m\u001b[0m\n",
            "\u001b[0;31mAttributeError\u001b[0m: 'Dict' object has no attribute 'low'"
          ]
        }
      ]
    },
    {
      "cell_type": "code",
      "source": [
        "n_test_episodes = 10000\n",
        "rewards = [play_episode(env, agent) for _ in range(n_test_episodes)]\n",
        "n_wins = sum(reward == 1 for reward in rewards)\n",
        "n_draws = sum(reward == 0 for reward in rewards)\n",
        "print(f\"Win rate: {n_wins / n_test_episodes:.4f}\")\n",
        "print(f\"Draw rate: {n_draws / n_test_episodes:.4f}\")"
      ],
      "metadata": {
        "colab": {
          "base_uri": "https://localhost:8080/"
        },
        "id": "-8dR1JvK_kb2",
        "outputId": "3dc474ed-0a87-4312-9b4d-1d3ac58b3c3d"
      },
      "execution_count": 40,
      "outputs": [
        {
          "output_type": "stream",
          "name": "stdout",
          "text": [
            "Win rate: 0.4111\n",
            "Draw rate: 0.0665\n"
          ]
        }
      ]
    },
    {
      "cell_type": "markdown",
      "source": [
        "### DQN encoding"
      ],
      "metadata": {
        "id": "_QLUIWr82p5T"
      }
    },
    {
      "cell_type": "code",
      "source": [
        "params = DQNParameters()\n",
        "q_network = MLP(get_input_dim_encoding(env.observation_space), 64, env.action_space.n).to(params.device)\n",
        "target_network = MLP(get_input_dim_encoding(env.observation_space), 64, env.action_space.n).to(params.device)\n",
        "target_network.load_state_dict(q_network.state_dict())\n",
        "replay_buffer = ReplayBuffer(10_000)\n",
        "optimizer = torch.optim.AdamW(q_network.parameters(), lr=0.001, weight_decay=0.0001)\n",
        "criterion = torch.nn.MSELoss()\n",
        "exploration = EpsilonGreedy(0.8, 0.99)\n",
        "\n",
        "agent = DQN(q_network, target_network, replay_buffer, optimizer, criterion, exploration, params)\n",
        "main_dqn(env, agent, n_episodes)"
      ],
      "metadata": {
        "colab": {
          "base_uri": "https://localhost:8080/",
          "height": 443
        },
        "id": "K15E99Wc2t4d",
        "outputId": "6fb216c5-d9b9-4f48-fc1e-a5e00fd4c659"
      },
      "execution_count": 41,
      "outputs": [
        {
          "output_type": "stream",
          "name": "stderr",
          "text": [
            "100%|██████████| 100000/100000 [05:40<00:00, 293.45it/s]\n"
          ]
        },
        {
          "output_type": "stream",
          "name": "stdout",
          "text": [
            "Win rate: 0.37\n",
            "Draw rate: 0.05\n",
            "\n",
            "Time taken: 340.78 seconds\n"
          ]
        },
        {
          "output_type": "error",
          "ename": "RuntimeError",
          "evalue": "mat1 and mat2 shapes cannot be multiplied (1x23 and 11x64)",
          "traceback": [
            "\u001b[0;31m---------------------------------------------------------------------------\u001b[0m",
            "\u001b[0;31mRuntimeError\u001b[0m                              Traceback (most recent call last)",
            "\u001b[0;32m<ipython-input-41-c941f4afe290>\u001b[0m in \u001b[0;36m<cell line: 14>\u001b[0;34m()\u001b[0m\n\u001b[1;32m     12\u001b[0m \u001b[0;34m\u001b[0m\u001b[0m\n\u001b[1;32m     13\u001b[0m \u001b[0mn_test_episodes\u001b[0m \u001b[0;34m=\u001b[0m \u001b[0;36m10000\u001b[0m\u001b[0;34m\u001b[0m\u001b[0;34m\u001b[0m\u001b[0m\n\u001b[0;32m---> 14\u001b[0;31m \u001b[0mrewards\u001b[0m \u001b[0;34m=\u001b[0m \u001b[0;34m[\u001b[0m\u001b[0mplay_episode\u001b[0m\u001b[0;34m(\u001b[0m\u001b[0menv\u001b[0m\u001b[0;34m,\u001b[0m \u001b[0magent\u001b[0m\u001b[0;34m)\u001b[0m \u001b[0;32mfor\u001b[0m \u001b[0m_\u001b[0m \u001b[0;32min\u001b[0m \u001b[0mrange\u001b[0m\u001b[0;34m(\u001b[0m\u001b[0mn_test_episodes\u001b[0m\u001b[0;34m)\u001b[0m\u001b[0;34m]\u001b[0m\u001b[0;34m\u001b[0m\u001b[0;34m\u001b[0m\u001b[0m\n\u001b[0m\u001b[1;32m     15\u001b[0m \u001b[0mn_wins\u001b[0m \u001b[0;34m=\u001b[0m \u001b[0msum\u001b[0m\u001b[0;34m(\u001b[0m\u001b[0mreward\u001b[0m \u001b[0;34m==\u001b[0m \u001b[0;36m1\u001b[0m \u001b[0;32mfor\u001b[0m \u001b[0mreward\u001b[0m \u001b[0;32min\u001b[0m \u001b[0mrewards\u001b[0m\u001b[0;34m)\u001b[0m\u001b[0;34m\u001b[0m\u001b[0;34m\u001b[0m\u001b[0m\n\u001b[1;32m     16\u001b[0m \u001b[0mn_draws\u001b[0m \u001b[0;34m=\u001b[0m \u001b[0msum\u001b[0m\u001b[0;34m(\u001b[0m\u001b[0mreward\u001b[0m \u001b[0;34m==\u001b[0m \u001b[0;36m0\u001b[0m \u001b[0;32mfor\u001b[0m \u001b[0mreward\u001b[0m \u001b[0;32min\u001b[0m \u001b[0mrewards\u001b[0m\u001b[0;34m)\u001b[0m\u001b[0;34m\u001b[0m\u001b[0;34m\u001b[0m\u001b[0m\n",
            "\u001b[0;32m<ipython-input-41-c941f4afe290>\u001b[0m in \u001b[0;36m<listcomp>\u001b[0;34m(.0)\u001b[0m\n\u001b[1;32m     12\u001b[0m \u001b[0;34m\u001b[0m\u001b[0m\n\u001b[1;32m     13\u001b[0m \u001b[0mn_test_episodes\u001b[0m \u001b[0;34m=\u001b[0m \u001b[0;36m10000\u001b[0m\u001b[0;34m\u001b[0m\u001b[0;34m\u001b[0m\u001b[0m\n\u001b[0;32m---> 14\u001b[0;31m \u001b[0mrewards\u001b[0m \u001b[0;34m=\u001b[0m \u001b[0;34m[\u001b[0m\u001b[0mplay_episode\u001b[0m\u001b[0;34m(\u001b[0m\u001b[0menv\u001b[0m\u001b[0;34m,\u001b[0m \u001b[0magent\u001b[0m\u001b[0;34m)\u001b[0m \u001b[0;32mfor\u001b[0m \u001b[0m_\u001b[0m \u001b[0;32min\u001b[0m \u001b[0mrange\u001b[0m\u001b[0;34m(\u001b[0m\u001b[0mn_test_episodes\u001b[0m\u001b[0;34m)\u001b[0m\u001b[0;34m]\u001b[0m\u001b[0;34m\u001b[0m\u001b[0;34m\u001b[0m\u001b[0m\n\u001b[0m\u001b[1;32m     15\u001b[0m \u001b[0mn_wins\u001b[0m \u001b[0;34m=\u001b[0m \u001b[0msum\u001b[0m\u001b[0;34m(\u001b[0m\u001b[0mreward\u001b[0m \u001b[0;34m==\u001b[0m \u001b[0;36m1\u001b[0m \u001b[0;32mfor\u001b[0m \u001b[0mreward\u001b[0m \u001b[0;32min\u001b[0m \u001b[0mrewards\u001b[0m\u001b[0;34m)\u001b[0m\u001b[0;34m\u001b[0m\u001b[0;34m\u001b[0m\u001b[0m\n\u001b[1;32m     16\u001b[0m \u001b[0mn_draws\u001b[0m \u001b[0;34m=\u001b[0m \u001b[0msum\u001b[0m\u001b[0;34m(\u001b[0m\u001b[0mreward\u001b[0m \u001b[0;34m==\u001b[0m \u001b[0;36m0\u001b[0m \u001b[0;32mfor\u001b[0m \u001b[0mreward\u001b[0m \u001b[0;32min\u001b[0m \u001b[0mrewards\u001b[0m\u001b[0;34m)\u001b[0m\u001b[0;34m\u001b[0m\u001b[0;34m\u001b[0m\u001b[0m\n",
            "\u001b[0;32m<ipython-input-39-bdabc9b29319>\u001b[0m in \u001b[0;36mplay_episode\u001b[0;34m(env, agent, render)\u001b[0m\n\u001b[1;32m     40\u001b[0m     \u001b[0mterminated\u001b[0m \u001b[0;34m=\u001b[0m \u001b[0;32mFalse\u001b[0m\u001b[0;34m\u001b[0m\u001b[0;34m\u001b[0m\u001b[0m\n\u001b[1;32m     41\u001b[0m     \u001b[0;32mwhile\u001b[0m \u001b[0;32mnot\u001b[0m \u001b[0mterminated\u001b[0m\u001b[0;34m:\u001b[0m\u001b[0;34m\u001b[0m\u001b[0;34m\u001b[0m\u001b[0m\n\u001b[0;32m---> 42\u001b[0;31m         \u001b[0maction\u001b[0m \u001b[0;34m=\u001b[0m \u001b[0magent\u001b[0m\u001b[0;34m.\u001b[0m\u001b[0mget_best_action\u001b[0m\u001b[0;34m(\u001b[0m\u001b[0mstate\u001b[0m\u001b[0;34m)\u001b[0m\u001b[0;34m\u001b[0m\u001b[0;34m\u001b[0m\u001b[0m\n\u001b[0m\u001b[1;32m     43\u001b[0m         \u001b[0mnext_state\u001b[0m\u001b[0;34m,\u001b[0m \u001b[0mreward\u001b[0m\u001b[0;34m,\u001b[0m \u001b[0mterminated\u001b[0m\u001b[0;34m,\u001b[0m \u001b[0m_\u001b[0m\u001b[0;34m,\u001b[0m \u001b[0m_\u001b[0m \u001b[0;34m=\u001b[0m \u001b[0menv\u001b[0m\u001b[0;34m.\u001b[0m\u001b[0mstep\u001b[0m\u001b[0;34m(\u001b[0m\u001b[0maction\u001b[0m\u001b[0;34m)\u001b[0m\u001b[0;34m\u001b[0m\u001b[0;34m\u001b[0m\u001b[0m\n\u001b[1;32m     44\u001b[0m         \u001b[0;32mif\u001b[0m \u001b[0mrender\u001b[0m\u001b[0;34m:\u001b[0m\u001b[0;34m\u001b[0m\u001b[0;34m\u001b[0m\u001b[0m\n",
            "\u001b[0;32m/content/drive/MyDrive/RL/blackjack/src/agents/dqn.py\u001b[0m in \u001b[0;36mget_best_action\u001b[0;34m(self, state)\u001b[0m\n\u001b[1;32m     53\u001b[0m \u001b[0;34m\u001b[0m\u001b[0m\n\u001b[1;32m     54\u001b[0m     \u001b[0;32mdef\u001b[0m \u001b[0mget_best_action\u001b[0m\u001b[0;34m(\u001b[0m\u001b[0mself\u001b[0m\u001b[0;34m,\u001b[0m \u001b[0mstate\u001b[0m\u001b[0;34m:\u001b[0m \u001b[0mtorch\u001b[0m\u001b[0;34m.\u001b[0m\u001b[0mTensor\u001b[0m\u001b[0;34m)\u001b[0m \u001b[0;34m->\u001b[0m \u001b[0mint\u001b[0m\u001b[0;34m:\u001b[0m\u001b[0;34m\u001b[0m\u001b[0;34m\u001b[0m\u001b[0m\n\u001b[0;32m---> 55\u001b[0;31m         \u001b[0;32mreturn\u001b[0m \u001b[0mself\u001b[0m\u001b[0;34m.\u001b[0m\u001b[0mq_network\u001b[0m\u001b[0;34m(\u001b[0m\u001b[0mstate\u001b[0m\u001b[0;34m.\u001b[0m\u001b[0mfloat\u001b[0m\u001b[0;34m(\u001b[0m\u001b[0;34m)\u001b[0m\u001b[0;34m.\u001b[0m\u001b[0mto\u001b[0m\u001b[0;34m(\u001b[0m\u001b[0mself\u001b[0m\u001b[0;34m.\u001b[0m\u001b[0mparams\u001b[0m\u001b[0;34m.\u001b[0m\u001b[0mdevice\u001b[0m\u001b[0;34m)\u001b[0m\u001b[0;34m)\u001b[0m\u001b[0;34m.\u001b[0m\u001b[0mmax\u001b[0m\u001b[0;34m(\u001b[0m\u001b[0;34m-\u001b[0m\u001b[0;36m1\u001b[0m\u001b[0;34m)\u001b[0m\u001b[0;34m.\u001b[0m\u001b[0mindices\u001b[0m\u001b[0;34m.\u001b[0m\u001b[0mitem\u001b[0m\u001b[0;34m(\u001b[0m\u001b[0;34m)\u001b[0m\u001b[0;34m\u001b[0m\u001b[0;34m\u001b[0m\u001b[0m\n\u001b[0m",
            "\u001b[0;32m/usr/local/lib/python3.10/dist-packages/torch/nn/modules/module.py\u001b[0m in \u001b[0;36m_wrapped_call_impl\u001b[0;34m(self, *args, **kwargs)\u001b[0m\n\u001b[1;32m   1509\u001b[0m             \u001b[0;32mreturn\u001b[0m \u001b[0mself\u001b[0m\u001b[0;34m.\u001b[0m\u001b[0m_compiled_call_impl\u001b[0m\u001b[0;34m(\u001b[0m\u001b[0;34m*\u001b[0m\u001b[0margs\u001b[0m\u001b[0;34m,\u001b[0m \u001b[0;34m**\u001b[0m\u001b[0mkwargs\u001b[0m\u001b[0;34m)\u001b[0m  \u001b[0;31m# type: ignore[misc]\u001b[0m\u001b[0;34m\u001b[0m\u001b[0;34m\u001b[0m\u001b[0m\n\u001b[1;32m   1510\u001b[0m         \u001b[0;32melse\u001b[0m\u001b[0;34m:\u001b[0m\u001b[0;34m\u001b[0m\u001b[0;34m\u001b[0m\u001b[0m\n\u001b[0;32m-> 1511\u001b[0;31m             \u001b[0;32mreturn\u001b[0m \u001b[0mself\u001b[0m\u001b[0;34m.\u001b[0m\u001b[0m_call_impl\u001b[0m\u001b[0;34m(\u001b[0m\u001b[0;34m*\u001b[0m\u001b[0margs\u001b[0m\u001b[0;34m,\u001b[0m \u001b[0;34m**\u001b[0m\u001b[0mkwargs\u001b[0m\u001b[0;34m)\u001b[0m\u001b[0;34m\u001b[0m\u001b[0;34m\u001b[0m\u001b[0m\n\u001b[0m\u001b[1;32m   1512\u001b[0m \u001b[0;34m\u001b[0m\u001b[0m\n\u001b[1;32m   1513\u001b[0m     \u001b[0;32mdef\u001b[0m \u001b[0m_call_impl\u001b[0m\u001b[0;34m(\u001b[0m\u001b[0mself\u001b[0m\u001b[0;34m,\u001b[0m \u001b[0;34m*\u001b[0m\u001b[0margs\u001b[0m\u001b[0;34m,\u001b[0m \u001b[0;34m**\u001b[0m\u001b[0mkwargs\u001b[0m\u001b[0;34m)\u001b[0m\u001b[0;34m:\u001b[0m\u001b[0;34m\u001b[0m\u001b[0;34m\u001b[0m\u001b[0m\n",
            "\u001b[0;32m/usr/local/lib/python3.10/dist-packages/torch/nn/modules/module.py\u001b[0m in \u001b[0;36m_call_impl\u001b[0;34m(self, *args, **kwargs)\u001b[0m\n\u001b[1;32m   1518\u001b[0m                 \u001b[0;32mor\u001b[0m \u001b[0m_global_backward_pre_hooks\u001b[0m \u001b[0;32mor\u001b[0m \u001b[0m_global_backward_hooks\u001b[0m\u001b[0;34m\u001b[0m\u001b[0;34m\u001b[0m\u001b[0m\n\u001b[1;32m   1519\u001b[0m                 or _global_forward_hooks or _global_forward_pre_hooks):\n\u001b[0;32m-> 1520\u001b[0;31m             \u001b[0;32mreturn\u001b[0m \u001b[0mforward_call\u001b[0m\u001b[0;34m(\u001b[0m\u001b[0;34m*\u001b[0m\u001b[0margs\u001b[0m\u001b[0;34m,\u001b[0m \u001b[0;34m**\u001b[0m\u001b[0mkwargs\u001b[0m\u001b[0;34m)\u001b[0m\u001b[0;34m\u001b[0m\u001b[0;34m\u001b[0m\u001b[0m\n\u001b[0m\u001b[1;32m   1521\u001b[0m \u001b[0;34m\u001b[0m\u001b[0m\n\u001b[1;32m   1522\u001b[0m         \u001b[0;32mtry\u001b[0m\u001b[0;34m:\u001b[0m\u001b[0;34m\u001b[0m\u001b[0;34m\u001b[0m\u001b[0m\n",
            "\u001b[0;32m/content/drive/MyDrive/RL/blackjack/src/networks/mlp.py\u001b[0m in \u001b[0;36mforward\u001b[0;34m(self, x)\u001b[0m\n\u001b[1;32m     14\u001b[0m \u001b[0;34m\u001b[0m\u001b[0m\n\u001b[1;32m     15\u001b[0m     \u001b[0;32mdef\u001b[0m \u001b[0mforward\u001b[0m\u001b[0;34m(\u001b[0m\u001b[0mself\u001b[0m\u001b[0;34m,\u001b[0m \u001b[0mx\u001b[0m\u001b[0;34m:\u001b[0m \u001b[0mtorch\u001b[0m\u001b[0;34m.\u001b[0m\u001b[0mTensor\u001b[0m\u001b[0;34m)\u001b[0m \u001b[0;34m->\u001b[0m \u001b[0mtorch\u001b[0m\u001b[0;34m.\u001b[0m\u001b[0mTensor\u001b[0m\u001b[0;34m:\u001b[0m\u001b[0;34m\u001b[0m\u001b[0;34m\u001b[0m\u001b[0m\n\u001b[0;32m---> 16\u001b[0;31m         \u001b[0;32mreturn\u001b[0m \u001b[0mself\u001b[0m\u001b[0;34m.\u001b[0m\u001b[0mmain\u001b[0m\u001b[0;34m(\u001b[0m\u001b[0mx\u001b[0m\u001b[0;34m)\u001b[0m\u001b[0;34m\u001b[0m\u001b[0;34m\u001b[0m\u001b[0m\n\u001b[0m\u001b[1;32m     17\u001b[0m \u001b[0;34m\u001b[0m\u001b[0m\n\u001b[1;32m     18\u001b[0m \u001b[0;32mclass\u001b[0m \u001b[0mMLPEmbedding\u001b[0m\u001b[0;34m(\u001b[0m\u001b[0mnn\u001b[0m\u001b[0;34m.\u001b[0m\u001b[0mModule\u001b[0m\u001b[0;34m)\u001b[0m\u001b[0;34m:\u001b[0m\u001b[0;34m\u001b[0m\u001b[0;34m\u001b[0m\u001b[0m\n",
            "\u001b[0;32m/usr/local/lib/python3.10/dist-packages/torch/nn/modules/module.py\u001b[0m in \u001b[0;36m_wrapped_call_impl\u001b[0;34m(self, *args, **kwargs)\u001b[0m\n\u001b[1;32m   1509\u001b[0m             \u001b[0;32mreturn\u001b[0m \u001b[0mself\u001b[0m\u001b[0;34m.\u001b[0m\u001b[0m_compiled_call_impl\u001b[0m\u001b[0;34m(\u001b[0m\u001b[0;34m*\u001b[0m\u001b[0margs\u001b[0m\u001b[0;34m,\u001b[0m \u001b[0;34m**\u001b[0m\u001b[0mkwargs\u001b[0m\u001b[0;34m)\u001b[0m  \u001b[0;31m# type: ignore[misc]\u001b[0m\u001b[0;34m\u001b[0m\u001b[0;34m\u001b[0m\u001b[0m\n\u001b[1;32m   1510\u001b[0m         \u001b[0;32melse\u001b[0m\u001b[0;34m:\u001b[0m\u001b[0;34m\u001b[0m\u001b[0;34m\u001b[0m\u001b[0m\n\u001b[0;32m-> 1511\u001b[0;31m             \u001b[0;32mreturn\u001b[0m \u001b[0mself\u001b[0m\u001b[0;34m.\u001b[0m\u001b[0m_call_impl\u001b[0m\u001b[0;34m(\u001b[0m\u001b[0;34m*\u001b[0m\u001b[0margs\u001b[0m\u001b[0;34m,\u001b[0m \u001b[0;34m**\u001b[0m\u001b[0mkwargs\u001b[0m\u001b[0;34m)\u001b[0m\u001b[0;34m\u001b[0m\u001b[0;34m\u001b[0m\u001b[0m\n\u001b[0m\u001b[1;32m   1512\u001b[0m \u001b[0;34m\u001b[0m\u001b[0m\n\u001b[1;32m   1513\u001b[0m     \u001b[0;32mdef\u001b[0m \u001b[0m_call_impl\u001b[0m\u001b[0;34m(\u001b[0m\u001b[0mself\u001b[0m\u001b[0;34m,\u001b[0m \u001b[0;34m*\u001b[0m\u001b[0margs\u001b[0m\u001b[0;34m,\u001b[0m \u001b[0;34m**\u001b[0m\u001b[0mkwargs\u001b[0m\u001b[0;34m)\u001b[0m\u001b[0;34m:\u001b[0m\u001b[0;34m\u001b[0m\u001b[0;34m\u001b[0m\u001b[0m\n",
            "\u001b[0;32m/usr/local/lib/python3.10/dist-packages/torch/nn/modules/module.py\u001b[0m in \u001b[0;36m_call_impl\u001b[0;34m(self, *args, **kwargs)\u001b[0m\n\u001b[1;32m   1518\u001b[0m                 \u001b[0;32mor\u001b[0m \u001b[0m_global_backward_pre_hooks\u001b[0m \u001b[0;32mor\u001b[0m \u001b[0m_global_backward_hooks\u001b[0m\u001b[0;34m\u001b[0m\u001b[0;34m\u001b[0m\u001b[0m\n\u001b[1;32m   1519\u001b[0m                 or _global_forward_hooks or _global_forward_pre_hooks):\n\u001b[0;32m-> 1520\u001b[0;31m             \u001b[0;32mreturn\u001b[0m \u001b[0mforward_call\u001b[0m\u001b[0;34m(\u001b[0m\u001b[0;34m*\u001b[0m\u001b[0margs\u001b[0m\u001b[0;34m,\u001b[0m \u001b[0;34m**\u001b[0m\u001b[0mkwargs\u001b[0m\u001b[0;34m)\u001b[0m\u001b[0;34m\u001b[0m\u001b[0;34m\u001b[0m\u001b[0m\n\u001b[0m\u001b[1;32m   1521\u001b[0m \u001b[0;34m\u001b[0m\u001b[0m\n\u001b[1;32m   1522\u001b[0m         \u001b[0;32mtry\u001b[0m\u001b[0;34m:\u001b[0m\u001b[0;34m\u001b[0m\u001b[0;34m\u001b[0m\u001b[0m\n",
            "\u001b[0;32m/usr/local/lib/python3.10/dist-packages/torch/nn/modules/container.py\u001b[0m in \u001b[0;36mforward\u001b[0;34m(self, input)\u001b[0m\n\u001b[1;32m    215\u001b[0m     \u001b[0;32mdef\u001b[0m \u001b[0mforward\u001b[0m\u001b[0;34m(\u001b[0m\u001b[0mself\u001b[0m\u001b[0;34m,\u001b[0m \u001b[0minput\u001b[0m\u001b[0;34m)\u001b[0m\u001b[0;34m:\u001b[0m\u001b[0;34m\u001b[0m\u001b[0;34m\u001b[0m\u001b[0m\n\u001b[1;32m    216\u001b[0m         \u001b[0;32mfor\u001b[0m \u001b[0mmodule\u001b[0m \u001b[0;32min\u001b[0m \u001b[0mself\u001b[0m\u001b[0;34m:\u001b[0m\u001b[0;34m\u001b[0m\u001b[0;34m\u001b[0m\u001b[0m\n\u001b[0;32m--> 217\u001b[0;31m             \u001b[0minput\u001b[0m \u001b[0;34m=\u001b[0m \u001b[0mmodule\u001b[0m\u001b[0;34m(\u001b[0m\u001b[0minput\u001b[0m\u001b[0;34m)\u001b[0m\u001b[0;34m\u001b[0m\u001b[0;34m\u001b[0m\u001b[0m\n\u001b[0m\u001b[1;32m    218\u001b[0m         \u001b[0;32mreturn\u001b[0m \u001b[0minput\u001b[0m\u001b[0;34m\u001b[0m\u001b[0;34m\u001b[0m\u001b[0m\n\u001b[1;32m    219\u001b[0m \u001b[0;34m\u001b[0m\u001b[0m\n",
            "\u001b[0;32m/usr/local/lib/python3.10/dist-packages/torch/nn/modules/module.py\u001b[0m in \u001b[0;36m_wrapped_call_impl\u001b[0;34m(self, *args, **kwargs)\u001b[0m\n\u001b[1;32m   1509\u001b[0m             \u001b[0;32mreturn\u001b[0m \u001b[0mself\u001b[0m\u001b[0;34m.\u001b[0m\u001b[0m_compiled_call_impl\u001b[0m\u001b[0;34m(\u001b[0m\u001b[0;34m*\u001b[0m\u001b[0margs\u001b[0m\u001b[0;34m,\u001b[0m \u001b[0;34m**\u001b[0m\u001b[0mkwargs\u001b[0m\u001b[0;34m)\u001b[0m  \u001b[0;31m# type: ignore[misc]\u001b[0m\u001b[0;34m\u001b[0m\u001b[0;34m\u001b[0m\u001b[0m\n\u001b[1;32m   1510\u001b[0m         \u001b[0;32melse\u001b[0m\u001b[0;34m:\u001b[0m\u001b[0;34m\u001b[0m\u001b[0;34m\u001b[0m\u001b[0m\n\u001b[0;32m-> 1511\u001b[0;31m             \u001b[0;32mreturn\u001b[0m \u001b[0mself\u001b[0m\u001b[0;34m.\u001b[0m\u001b[0m_call_impl\u001b[0m\u001b[0;34m(\u001b[0m\u001b[0;34m*\u001b[0m\u001b[0margs\u001b[0m\u001b[0;34m,\u001b[0m \u001b[0;34m**\u001b[0m\u001b[0mkwargs\u001b[0m\u001b[0;34m)\u001b[0m\u001b[0;34m\u001b[0m\u001b[0;34m\u001b[0m\u001b[0m\n\u001b[0m\u001b[1;32m   1512\u001b[0m \u001b[0;34m\u001b[0m\u001b[0m\n\u001b[1;32m   1513\u001b[0m     \u001b[0;32mdef\u001b[0m \u001b[0m_call_impl\u001b[0m\u001b[0;34m(\u001b[0m\u001b[0mself\u001b[0m\u001b[0;34m,\u001b[0m \u001b[0;34m*\u001b[0m\u001b[0margs\u001b[0m\u001b[0;34m,\u001b[0m \u001b[0;34m**\u001b[0m\u001b[0mkwargs\u001b[0m\u001b[0;34m)\u001b[0m\u001b[0;34m:\u001b[0m\u001b[0;34m\u001b[0m\u001b[0;34m\u001b[0m\u001b[0m\n",
            "\u001b[0;32m/usr/local/lib/python3.10/dist-packages/torch/nn/modules/module.py\u001b[0m in \u001b[0;36m_call_impl\u001b[0;34m(self, *args, **kwargs)\u001b[0m\n\u001b[1;32m   1518\u001b[0m                 \u001b[0;32mor\u001b[0m \u001b[0m_global_backward_pre_hooks\u001b[0m \u001b[0;32mor\u001b[0m \u001b[0m_global_backward_hooks\u001b[0m\u001b[0;34m\u001b[0m\u001b[0;34m\u001b[0m\u001b[0m\n\u001b[1;32m   1519\u001b[0m                 or _global_forward_hooks or _global_forward_pre_hooks):\n\u001b[0;32m-> 1520\u001b[0;31m             \u001b[0;32mreturn\u001b[0m \u001b[0mforward_call\u001b[0m\u001b[0;34m(\u001b[0m\u001b[0;34m*\u001b[0m\u001b[0margs\u001b[0m\u001b[0;34m,\u001b[0m \u001b[0;34m**\u001b[0m\u001b[0mkwargs\u001b[0m\u001b[0;34m)\u001b[0m\u001b[0;34m\u001b[0m\u001b[0;34m\u001b[0m\u001b[0m\n\u001b[0m\u001b[1;32m   1521\u001b[0m \u001b[0;34m\u001b[0m\u001b[0m\n\u001b[1;32m   1522\u001b[0m         \u001b[0;32mtry\u001b[0m\u001b[0;34m:\u001b[0m\u001b[0;34m\u001b[0m\u001b[0;34m\u001b[0m\u001b[0m\n",
            "\u001b[0;32m/usr/local/lib/python3.10/dist-packages/torch/nn/modules/linear.py\u001b[0m in \u001b[0;36mforward\u001b[0;34m(self, input)\u001b[0m\n\u001b[1;32m    114\u001b[0m \u001b[0;34m\u001b[0m\u001b[0m\n\u001b[1;32m    115\u001b[0m     \u001b[0;32mdef\u001b[0m \u001b[0mforward\u001b[0m\u001b[0;34m(\u001b[0m\u001b[0mself\u001b[0m\u001b[0;34m,\u001b[0m \u001b[0minput\u001b[0m\u001b[0;34m:\u001b[0m \u001b[0mTensor\u001b[0m\u001b[0;34m)\u001b[0m \u001b[0;34m->\u001b[0m \u001b[0mTensor\u001b[0m\u001b[0;34m:\u001b[0m\u001b[0;34m\u001b[0m\u001b[0;34m\u001b[0m\u001b[0m\n\u001b[0;32m--> 116\u001b[0;31m         \u001b[0;32mreturn\u001b[0m \u001b[0mF\u001b[0m\u001b[0;34m.\u001b[0m\u001b[0mlinear\u001b[0m\u001b[0;34m(\u001b[0m\u001b[0minput\u001b[0m\u001b[0;34m,\u001b[0m \u001b[0mself\u001b[0m\u001b[0;34m.\u001b[0m\u001b[0mweight\u001b[0m\u001b[0;34m,\u001b[0m \u001b[0mself\u001b[0m\u001b[0;34m.\u001b[0m\u001b[0mbias\u001b[0m\u001b[0;34m)\u001b[0m\u001b[0;34m\u001b[0m\u001b[0;34m\u001b[0m\u001b[0m\n\u001b[0m\u001b[1;32m    117\u001b[0m \u001b[0;34m\u001b[0m\u001b[0m\n\u001b[1;32m    118\u001b[0m     \u001b[0;32mdef\u001b[0m \u001b[0mextra_repr\u001b[0m\u001b[0;34m(\u001b[0m\u001b[0mself\u001b[0m\u001b[0;34m)\u001b[0m \u001b[0;34m->\u001b[0m \u001b[0mstr\u001b[0m\u001b[0;34m:\u001b[0m\u001b[0;34m\u001b[0m\u001b[0;34m\u001b[0m\u001b[0m\n",
            "\u001b[0;31mRuntimeError\u001b[0m: mat1 and mat2 shapes cannot be multiplied (1x23 and 11x64)"
          ]
        }
      ]
    },
    {
      "cell_type": "code",
      "source": [
        "def play_episode(env: gym.Env, agent: DQN, render: bool = False):\n",
        "    state = env.reset()\n",
        "    if render:\n",
        "        env.render()\n",
        "    state = state_to_tensor_encoding(state, env.observation_space)\n",
        "    terminated = False\n",
        "    while not terminated:\n",
        "        action = agent.get_best_action(state)\n",
        "        next_state, reward, terminated, _, _ = env.step(action)\n",
        "        if render:\n",
        "            env.render()\n",
        "        next_state = state_to_tensor_encoding(next_state, env.observation_space)\n",
        "        state = next_state\n",
        "    return reward"
      ],
      "metadata": {
        "id": "9ho-BL4RBGqJ"
      },
      "execution_count": 42,
      "outputs": []
    },
    {
      "cell_type": "code",
      "source": [
        "n_test_episodes = 10000\n",
        "rewards = [play_episode(env, agent) for _ in range(n_test_episodes)]\n",
        "n_wins = sum(reward == 1 for reward in rewards)\n",
        "n_draws = sum(reward == 0 for reward in rewards)\n",
        "print(f\"Win rate: {n_wins / n_test_episodes:.4f}\")\n",
        "print(f\"Draw rate: {n_draws / n_test_episodes:.4f}\")"
      ],
      "metadata": {
        "colab": {
          "base_uri": "https://localhost:8080/"
        },
        "id": "tnjkLravBJXD",
        "outputId": "399d5657-3bd9-4ecc-9872-c37f33b11b11"
      },
      "execution_count": 43,
      "outputs": [
        {
          "output_type": "stream",
          "name": "stdout",
          "text": [
            "Win rate: 0.3786\n",
            "Draw rate: 0.0559\n"
          ]
        }
      ]
    },
    {
      "cell_type": "markdown",
      "source": [
        "### DQN embedding"
      ],
      "metadata": {
        "id": "SImlpQ6X2xIc"
      }
    },
    {
      "cell_type": "code",
      "source": [
        "from src.networks import MLPEmbedding\n",
        "\n",
        "input_range = env.observation_space[\"dealer\"].high.item() - env.observation_space[\"dealer\"].low.item() + 1\n",
        "\n",
        "params = DQNParameters(device=torch.device(\"cpu\"))\n",
        "q_network = MLPEmbedding(1, 64, env.action_space.n, input_range).to(params.device)\n",
        "target_network = MLPEmbedding(1, 64, env.action_space.n, input_range).to(params.device)\n",
        "target_network.load_state_dict(q_network.state_dict())\n",
        "replay_buffer = ReplayBuffer(10_000)\n",
        "optimizer = torch.optim.AdamW(q_network.parameters(), lr=0.001, weight_decay=0.0001)\n",
        "criterion = torch.nn.MSELoss()\n",
        "exploration = EpsilonGreedy(0.8, 0.99)\n",
        "\n",
        "agent = DQN(q_network, target_network, replay_buffer, optimizer, criterion, exploration, params)\n",
        "main_dqn(env, agent, n_episodes)\n",
        "\n",
        "n_test_episodes = 10_000\n",
        "rewards = [play_episode(env, agent) for _ in range(n_test_episodes)]\n",
        "n_wins = sum(reward == 1 for reward in rewards)\n",
        "n_draws = sum(reward == 0 for reward in rewards)\n",
        "print(f\"Win rate: {n_wins / n_test_episodes:.4f}\")\n",
        "print(f\"Draw rate: {n_draws / n_test_episodes:.4f}\")"
      ],
      "metadata": {
        "colab": {
          "base_uri": "https://localhost:8080/"
        },
        "id": "Y5Qhe4KG2zFZ",
        "outputId": "86978f0c-ccd5-4e2e-ce6e-7453a0ce38ea"
      },
      "execution_count": 44,
      "outputs": [
        {
          "output_type": "stream",
          "name": "stderr",
          "text": [
            "100%|██████████| 100000/100000 [11:21<00:00, 146.70it/s]\n"
          ]
        },
        {
          "output_type": "stream",
          "name": "stdout",
          "text": [
            "Win rate: 0.06\n",
            "Draw rate: 0.01\n",
            "\n",
            "Time taken: 681.69 seconds\n",
            "Win rate: 0.0102\n",
            "Draw rate: 0.0017\n"
          ]
        }
      ]
    }
  ],
  "metadata": {
    "colab": {
      "provenance": []
    },
    "kernelspec": {
      "display_name": "Python 3",
      "name": "python3"
    },
    "language_info": {
      "codemirror_mode": {
        "name": "ipython",
        "version": 3
      },
      "file_extension": ".py",
      "mimetype": "text/x-python",
      "name": "python",
      "nbconvert_exporter": "python",
      "pygments_lexer": "ipython3",
      "version": "3.12.2"
    }
  },
  "nbformat": 4,
  "nbformat_minor": 0
}