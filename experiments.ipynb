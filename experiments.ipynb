{
  "cells": [
    {
      "cell_type": "markdown",
      "metadata": {
        "id": "5IX5AzyVmJmh"
      },
      "source": [
        "# Benchmarking RL methods to solve BlackJack"
      ]
    },
    {
      "cell_type": "markdown",
      "metadata": {
        "id": "S6HQNwj2mRKL"
      },
      "source": [
        "Thomas Lemercier & Gaspard Berthelier"
      ]
    },
    {
      "cell_type": "markdown",
      "metadata": {
        "id": "EbUr9u7-mTHs"
      },
      "source": [
        "## Imports"
      ]
    },
    {
      "cell_type": "code",
      "execution_count": 1,
      "metadata": {
        "id": "WtHOWPSYmsqH",
        "colab": {
          "base_uri": "https://localhost:8080/"
        },
        "outputId": "fb3817c4-a273-48b3-e2bb-1036c60dba7e"
      },
      "outputs": [
        {
          "output_type": "stream",
          "name": "stdout",
          "text": [
            "Drive already mounted at /content/drive; to attempt to forcibly remount, call drive.mount(\"/content/drive\", force_remount=True).\n",
            "/content/drive/MyDrive/RL/blackjack\n"
          ]
        }
      ],
      "source": [
        "from google.colab import drive\n",
        "drive.mount(\"/content/drive\")\n",
        "%cd /content/drive/MyDrive/RL/blackjack"
      ]
    },
    {
      "cell_type": "code",
      "execution_count": 2,
      "metadata": {
        "id": "xLiubk8DOCKa"
      },
      "outputs": [],
      "source": [
        "import gym\n",
        "import time\n",
        "from tqdm import tqdm\n",
        "import numpy as np"
      ]
    },
    {
      "cell_type": "code",
      "execution_count": 3,
      "metadata": {
        "id": "xz1mM5hjSX9Z",
        "colab": {
          "base_uri": "https://localhost:8080/"
        },
        "outputId": "27560e8f-0d03-4cf7-8a97-2cedb0fef970"
      },
      "outputs": [
        {
          "output_type": "stream",
          "name": "stderr",
          "text": [
            "/usr/local/lib/python3.10/dist-packages/ipykernel/ipkernel.py:283: DeprecationWarning: `should_run_async` will not call `transform_cell` automatically in the future. Please pass the result to `transformed_cell` argument and any exception that happen during thetransform in `preprocessing_exc_tuple` in IPython 7.17 and above.\n",
            "  and should_run_async(code)\n"
          ]
        }
      ],
      "source": [
        "from src.utils.general import state_to_index, get_num_states, state_to_tensor_encoding\n",
        "from src.utils.data_struct import Transition\n",
        "from src.agents import Agent\n",
        "from src.utils.visualization import plot_policy_simple_blackjack\n",
        "\n",
        "\n",
        "def play_episode(env: gym.Env, agent: Agent, render: bool = False, array_encoding: bool = False):\n",
        "    \"\"\"plays one episode of given agent\"\"\"\n",
        "    state = env.reset()\n",
        "    if render:\n",
        "        env.render()\n",
        "    if array_encoding:\n",
        "        state = state_to_tensor_encoding(state, env.observation_space)\n",
        "    else:\n",
        "        state = state_to_index(state, env.observation_space)\n",
        "    terminated = False\n",
        "    while not terminated:\n",
        "        action = agent.get_best_action(state)\n",
        "        next_state, reward, terminated, _, _ = env.step(action)\n",
        "        if render:\n",
        "            env.render()\n",
        "        if array_encoding:\n",
        "            next_state = state_to_tensor_encoding(next_state, env.observation_space)\n",
        "        else:\n",
        "            next_state = state_to_index(next_state, env.observation_space)\n",
        "        state = next_state\n",
        "    return reward"
      ]
    },
    {
      "cell_type": "code",
      "execution_count": 4,
      "metadata": {
        "id": "7_wi1CGbaXYs",
        "colab": {
          "base_uri": "https://localhost:8080/"
        },
        "outputId": "43239772-7ab9-446f-90cc-36d424cfde6f"
      },
      "outputs": [
        {
          "output_type": "stream",
          "name": "stderr",
          "text": [
            "/usr/local/lib/python3.10/dist-packages/ipykernel/ipkernel.py:283: DeprecationWarning: `should_run_async` will not call `transform_cell` automatically in the future. Please pass the result to `transformed_cell` argument and any exception that happen during thetransform in `preprocessing_exc_tuple` in IPython 7.17 and above.\n",
            "  and should_run_async(code)\n"
          ]
        }
      ],
      "source": [
        "def play_policy(env: gym.Env, agent: Agent, n_test_episodes: int,  array_encoding: bool = False):\n",
        "  \"\"\"test the agent's policy on multiple episodes, prints the last one\"\"\"\n",
        "  rewards = [play_episode(env, agent, render= i == n_test_episodes-1, array_encoding=array_encoding) for i in range(n_test_episodes)]\n",
        "  rewards = np.array(rewards)\n",
        "  n_wins = np.sum(rewards == 1)\n",
        "  n_draws = np.sum(rewards == 0)\n",
        "  print(f\"Win rate: {n_wins / n_test_episodes:.4f}\")\n",
        "  print(f\"Draw rate: {n_draws / n_test_episodes:.4f}\")"
      ]
    },
    {
      "cell_type": "code",
      "execution_count": 5,
      "metadata": {
        "id": "C1bhUODb1ila"
      },
      "outputs": [],
      "source": [
        "n_episodes = 500_000\n",
        "n_test_episodes = 100_000"
      ]
    },
    {
      "cell_type": "markdown",
      "metadata": {
        "id": "mEW-HDRRNspy"
      },
      "source": [
        "## Infinite Deck"
      ]
    },
    {
      "cell_type": "markdown",
      "metadata": {
        "id": "Eat3HW85vqjI"
      },
      "source": [
        "Infinite deck, aka probabilities of drawing each card remains constant"
      ]
    },
    {
      "cell_type": "code",
      "execution_count": 6,
      "metadata": {
        "id": "uWjp0tF0P8Qr"
      },
      "outputs": [],
      "source": [
        "from src.envs import InfiniteSimpleBlackjack"
      ]
    },
    {
      "cell_type": "markdown",
      "metadata": {
        "id": "z2iNpf3mN788"
      },
      "source": [
        "### Random"
      ]
    },
    {
      "cell_type": "markdown",
      "metadata": {
        "id": "hr0AXicDvuKs"
      },
      "source": [
        "Random agent which takes action randomly at each step"
      ]
    },
    {
      "cell_type": "code",
      "execution_count": 7,
      "metadata": {
        "id": "waKQO4rJWOpU",
        "colab": {
          "base_uri": "https://localhost:8080/"
        },
        "outputId": "8bc47caa-ac75-4a12-a2c2-a63f67256b5b"
      },
      "outputs": [
        {
          "output_type": "stream",
          "name": "stdout",
          "text": [
            "\n",
            "Player's hand: [10, 9] (value: 19)\n",
            "Dealer's hand: [4, 2] (value: 6)\n",
            "Current state: [19  4  0]\n",
            "\n",
            "\n",
            "Player's hand: [10, 9] (value: 19)\n",
            "Dealer's hand: [4, 2, 7, 10] (value: 23)\n",
            "Current state: [19  4  0]\n",
            "\n",
            "Win rate: 0.2836\n",
            "Draw rate: 0.0419\n"
          ]
        }
      ],
      "source": [
        "from src.agents import RandomAgent\n",
        "\n",
        "env = InfiniteSimpleBlackjack(seed=42)\n",
        "agent = RandomAgent(env.action_space)\n",
        "play_policy(env, agent, n_test_episodes)"
      ]
    },
    {
      "cell_type": "markdown",
      "source": [
        "### Monte Carlo"
      ],
      "metadata": {
        "id": "vLUgykOg3az0"
      }
    },
    {
      "cell_type": "code",
      "source": [
        "from src.agents import MonteCarloAgent\n",
        "\n",
        "def main_monte_carlo(env: gym.Env, agent: MonteCarloAgent, n_episodes: int):\n",
        "    start = time.time()\n",
        "    n_wins = 0\n",
        "    n_draws = 0\n",
        "    for _ in tqdm(range(n_episodes)):\n",
        "        episode = agent.generate_episode(env)\n",
        "        reward = episode[-1][2]\n",
        "        agent.step(episode)\n",
        "\n",
        "        if reward == 1:\n",
        "            n_wins += 1\n",
        "        elif reward == 0:\n",
        "            n_draws += 1\n",
        "    print(f\"Win rate: {n_wins / n_episodes:.2f}\")\n",
        "    print(f\"Draw rate: {n_draws / n_episodes:.2f}\")\n",
        "    print(f\"\\nTime taken: {time.time() - start:.2f} seconds\")"
      ],
      "metadata": {
        "id": "_AxVGPK23cBO"
      },
      "execution_count": 8,
      "outputs": []
    },
    {
      "cell_type": "code",
      "source": [
        "from src.explorations import EpsilonGreedy, UCB\n",
        "from src.utils.visualization import plot_policy_simple_blackjack\n",
        "from src.utils.data_struct import MonteCarloParameters\n",
        "\n",
        "n_episodes = 500_000\n",
        "env = InfiniteSimpleBlackjack(seed=42)\n",
        "exploration = UCB(num_states=get_num_states(env.observation_space), num_actions=env.action_space.n, seed=42)\n",
        "monte_carlo_parameters = MonteCarloParameters(num_states=get_num_states(env.observation_space), num_actions=env.action_space.n)\n",
        "agent = MonteCarloAgent(monte_carlo_parameters, exploration)\n",
        "\n",
        "main_monte_carlo(env, agent, n_episodes)\n",
        "\n",
        "policy = agent.get_policy()\n",
        "plot_policy_simple_blackjack(policy, env.observation_space)\n",
        "\n",
        "n_test_episodes = 10000\n",
        "env = InfiniteSimpleBlackjack(seed=666)\n",
        "rewards = [play_episode(env, agent) for _ in range(n_test_episodes)]\n",
        "n_wins = sum(reward == 1 for reward in rewards)\n",
        "n_draws = sum(reward == 0 for reward in rewards)\n",
        "print(f\"Win rate: {n_wins / n_test_episodes:.4f}\")\n",
        "print(f\"Draw rate: {n_draws / n_test_episodes:.4f}\")"
      ],
      "metadata": {
        "id": "e0uCeyQD32F1",
        "colab": {
          "base_uri": "https://localhost:8080/",
          "height": 634
        },
        "outputId": "33d1796e-8710-4404-cd22-1b91539ae25f"
      },
      "execution_count": 9,
      "outputs": [
        {
          "output_type": "stream",
          "name": "stderr",
          "text": [
            "100%|██████████| 500000/500000 [00:54<00:00, 9096.96it/s]\n"
          ]
        },
        {
          "output_type": "stream",
          "name": "stdout",
          "text": [
            "Win rate: 0.41\n",
            "Draw rate: 0.09\n",
            "\n",
            "Time taken: 54.97 seconds\n"
          ]
        },
        {
          "output_type": "display_data",
          "data": {
            "text/plain": [
              "<Figure size 1000x500 with 4 Axes>"
            ],
            "image/png": "[encoded data removed]"
          },
          "metadata": {}
        },
        {
          "output_type": "stream",
          "name": "stdout",
          "text": [
            "Win rate: 0.4149\n",
            "Draw rate: 0.0873\n"
          ]
        }
      ]
    },
    {
      "cell_type": "code",
      "source": [
        "from src.explorations import EpsilonGreedy, UCB\n",
        "from src.utils.visualization import plot_policy_simple_blackjack\n",
        "from src.utils.data_struct import MonteCarloParameters\n",
        "\n",
        "n_episodes = 500_000\n",
        "env = InfiniteSimpleBlackjack(seed=42)\n",
        "exploration = EpsilonGreedy(epsilon=0.8, decay=0.999999, seed=42)\n",
        "monte_carlo_parameters = MonteCarloParameters(num_states=get_num_states(env.observation_space), num_actions=env.action_space.n)\n",
        "agent = MonteCarloAgent(monte_carlo_parameters, exploration)\n",
        "\n",
        "main_monte_carlo(env, agent, n_episodes)\n",
        "\n",
        "policy = agent.get_policy()\n",
        "plot_policy_simple_blackjack(policy, env.observation_space)\n",
        "\n",
        "\n",
        "n_test_episodes = 10000\n",
        "env = InfiniteSimpleBlackjack(seed=666)\n",
        "rewards = [play_episode(env, agent) for _ in range(n_test_episodes)]\n",
        "n_wins = sum(reward == 1 for reward in rewards)\n",
        "n_draws = sum(reward == 0 for reward in rewards)\n",
        "print(f\"Win rate: {n_wins / n_test_episodes:.4f}\")\n",
        "print(f\"Draw rate: {n_draws / n_test_episodes:.4f}\")"
      ],
      "metadata": {
        "colab": {
          "base_uri": "https://localhost:8080/",
          "height": 634
        },
        "id": "ls-v_hSIBLW3",
        "outputId": "548f2863-dc22-44c3-ab4d-066ac3604e94"
      },
      "execution_count": 10,
      "outputs": [
        {
          "output_type": "stream",
          "name": "stderr",
          "text": [
            "100%|██████████| 500000/500000 [00:33<00:00, 14959.66it/s]\n"
          ]
        },
        {
          "output_type": "stream",
          "name": "stdout",
          "text": [
            "Win rate: 0.34\n",
            "Draw rate: 0.06\n",
            "\n",
            "Time taken: 33.43 seconds\n"
          ]
        },
        {
          "output_type": "display_data",
          "data": {
            "text/plain": [
              "<Figure size 1000x500 with 4 Axes>"
            ],
            "image/png": "[encoded data removed]"
          },
          "metadata": {}
        },
        {
          "output_type": "stream",
          "name": "stdout",
          "text": [
            "Win rate: 0.4111\n",
            "Draw rate: 0.0762\n"
          ]
        }
      ]
    },
    {
      "cell_type": "markdown",
      "metadata": {
        "id": "3FApiNG6N1h5"
      },
      "source": [
        "### Sarsa"
      ]
    },
    {
      "cell_type": "code",
      "execution_count": 11,
      "metadata": {
        "id": "ldaEeJFt1ile"
      },
      "outputs": [],
      "source": [
        "from src.explorations import EpsilonGreedy, UCB\n",
        "from src.utils.data_struct import SarsaParameters\n",
        "from src.agents import SarsaAgent\n",
        "\n",
        "def main_sarsa(env: gym.Env, agent: SarsaAgent, n_episodes: int):\n",
        "    start = time.time()\n",
        "    n_wins = 0\n",
        "    n_draws = 0\n",
        "    for _ in tqdm(range(n_episodes)):\n",
        "        state = env.reset()\n",
        "        state = state_to_index(state, env.observation_space)\n",
        "        terminated = False\n",
        "        action = agent.act(state)\n",
        "        while not terminated:\n",
        "            next_state, reward, terminated, _, _ = env.step(action)\n",
        "            next_state = state_to_index(next_state, env.observation_space)\n",
        "\n",
        "            transition = Transition(state=state, action=action, next_state=next_state, reward=reward, done=terminated)\n",
        "\n",
        "            action = agent.act(next_state)\n",
        "            state = next_state\n",
        "            agent.step(transition, action)\n",
        "\n",
        "        if reward == 1:\n",
        "            n_wins += 1\n",
        "        elif reward == 0:\n",
        "            n_draws += 1\n",
        "\n",
        "    print(f\"Win rate: {n_wins / n_episodes:.4f}\")\n",
        "    print(f\"Draw rate: {n_draws / n_episodes:.4f}\")\n",
        "\n",
        "    print(f\"\\nTime taken: {time.time() - start:.4f} seconds\")"
      ]
    },
    {
      "cell_type": "code",
      "execution_count": 12,
      "metadata": {
        "colab": {
          "base_uri": "https://localhost:8080/",
          "height": 807
        },
        "id": "RnVNmgvvW2ae",
        "outputId": "20fd60c0-93db-4e3b-c630-e237da0a32ac"
      },
      "outputs": [
        {
          "output_type": "stream",
          "name": "stderr",
          "text": [
            "100%|██████████| 500000/500000 [01:30<00:00, 5532.65it/s]\n"
          ]
        },
        {
          "output_type": "stream",
          "name": "stdout",
          "text": [
            "Win rate: 0.3585\n",
            "Draw rate: 0.0768\n",
            "\n",
            "Time taken: 90.3787 seconds\n"
          ]
        },
        {
          "output_type": "display_data",
          "data": {
            "text/plain": [
              "<Figure size 1000x500 with 4 Axes>"
            ],
            "image/png": "[encoded data removed]"
          },
          "metadata": {}
        },
        {
          "output_type": "stream",
          "name": "stdout",
          "text": [
            "\n",
            "Player's hand: [4, 10] (value: 14)\n",
            "Dealer's hand: [2, 10] (value: 12)\n",
            "Current state: [14  2  0]\n",
            "\n",
            "\n",
            "Player's hand: [4, 10, 10] (value: 24)\n",
            "Dealer's hand: [2, 10] (value: 12)\n",
            "Current state: [24  2  0]\n",
            "\n",
            "Win rate: 0.3543\n",
            "Draw rate: 0.0727\n"
          ]
        }
      ],
      "source": [
        "#ucb\n",
        "env = InfiniteSimpleBlackjack(seed=42)\n",
        "exploration = UCB(num_states=get_num_states(env.observation_space), num_actions=env.action_space.n, seed=42)\n",
        "qlearning_parameters = SarsaParameters(num_states=get_num_states(env.observation_space), num_actions=env.action_space.n)\n",
        "agent = SarsaAgent(qlearning_parameters, exploration)\n",
        "main_sarsa(env, agent, n_episodes)\n",
        "\n",
        "env = InfiniteSimpleBlackjack(seed=666)\n",
        "policy = agent.get_policy()\n",
        "plot_policy_simple_blackjack(policy, env.observation_space)\n",
        "play_policy(env, agent, n_test_episodes)"
      ]
    },
    {
      "cell_type": "code",
      "source": [
        "#epsilon greedy 0.8\n",
        "env = InfiniteSimpleBlackjack(seed=42)\n",
        "exploration = EpsilonGreedy(epsilon=0.8, decay=0.999999, seed=42)\n",
        "qlearning_parameters = SarsaParameters(num_states=get_num_states(env.observation_space), num_actions=env.action_space.n)\n",
        "agent = SarsaAgent(qlearning_parameters, exploration)\n",
        "main_sarsa(env, agent, n_episodes)\n",
        "\n",
        "env = InfiniteSimpleBlackjack(seed=666)\n",
        "policy = agent.get_policy()\n",
        "play_policy(env, agent, n_test_episodes)"
      ],
      "metadata": {
        "id": "GiO6x2fV16A2",
        "colab": {
          "base_uri": "https://localhost:8080/"
        },
        "outputId": "65f9649d-b124-40d3-8a75-8f468d6deaa5"
      },
      "execution_count": 13,
      "outputs": [
        {
          "output_type": "stream",
          "name": "stderr",
          "text": [
            "100%|██████████| 500000/500000 [00:27<00:00, 18157.15it/s]\n"
          ]
        },
        {
          "output_type": "stream",
          "name": "stdout",
          "text": [
            "Win rate: 0.3309\n",
            "Draw rate: 0.0625\n",
            "\n",
            "Time taken: 27.5435 seconds\n",
            "\n",
            "Player's hand: [6, 3] (value: 9)\n",
            "Dealer's hand: [2, 11] (value: 13)\n",
            "Current state: [9 2 0]\n",
            "\n",
            "\n",
            "Player's hand: [6, 3, 4] (value: 13)\n",
            "Dealer's hand: [2, 11] (value: 13)\n",
            "Current state: [13  2  0]\n",
            "\n",
            "\n",
            "Player's hand: [6, 3, 4, 7] (value: 20)\n",
            "Dealer's hand: [2, 11] (value: 13)\n",
            "Current state: [20  2  0]\n",
            "\n",
            "\n",
            "Player's hand: [6, 3, 4, 7] (value: 20)\n",
            "Dealer's hand: [2, 11, 10, 11, 3] (value: 17)\n",
            "Current state: [20  2  0]\n",
            "\n",
            "Win rate: 0.3986\n",
            "Draw rate: 0.0859\n"
          ]
        }
      ]
    },
    {
      "cell_type": "code",
      "source": [
        "#epsilon greedy 0.2\n",
        "env = InfiniteSimpleBlackjack(seed=42)\n",
        "exploration = EpsilonGreedy(epsilon=0.2, decay=0.999999, seed=42)\n",
        "qlearning_parameters = SarsaParameters(num_states=get_num_states(env.observation_space), num_actions=env.action_space.n)\n",
        "agent = SarsaAgent(qlearning_parameters, exploration)\n",
        "main_sarsa(env, agent, n_episodes)\n",
        "\n",
        "env = InfiniteSimpleBlackjack(seed=666)\n",
        "policy = agent.get_policy()\n",
        "play_policy(env, agent, n_test_episodes)"
      ],
      "metadata": {
        "colab": {
          "base_uri": "https://localhost:8080/"
        },
        "id": "QlUe9weNb11c",
        "outputId": "24fdf430-dde9-4948-83fa-d8dbae131169"
      },
      "execution_count": 14,
      "outputs": [
        {
          "output_type": "stream",
          "name": "stderr",
          "text": [
            "100%|██████████| 500000/500000 [00:30<00:00, 16509.25it/s]\n"
          ]
        },
        {
          "output_type": "stream",
          "name": "stdout",
          "text": [
            "Win rate: 0.3684\n",
            "Draw rate: 0.0781\n",
            "\n",
            "Time taken: 30.2970 seconds\n",
            "\n",
            "Player's hand: [10, 8] (value: 18)\n",
            "Dealer's hand: [3, 2] (value: 5)\n",
            "Current state: [18  3  0]\n",
            "\n",
            "\n",
            "Player's hand: [10, 8] (value: 18)\n",
            "Dealer's hand: [3, 2, 6, 7] (value: 18)\n",
            "Current state: [18  3  0]\n",
            "\n",
            "Win rate: 0.3867\n",
            "Draw rate: 0.0854\n"
          ]
        }
      ]
    },
    {
      "cell_type": "markdown",
      "metadata": {
        "id": "xtshRf6XN3La"
      },
      "source": [
        "### Q Learning"
      ]
    },
    {
      "cell_type": "code",
      "execution_count": 15,
      "metadata": {
        "id": "99queHAwZ3a_"
      },
      "outputs": [],
      "source": [
        "from src.agents import QlearningAgent\n",
        "from src.utils.data_struct import QlearningParameters\n",
        "\n",
        "def main_qlearning(env: gym.Env, agent: QlearningAgent, n_episodes: int):\n",
        "    start = time.time()\n",
        "    n_wins = 0\n",
        "    n_draws = 0\n",
        "    for _ in tqdm(range(n_episodes)):\n",
        "        state = env.reset()\n",
        "        state = state_to_index(state, env.observation_space)\n",
        "        terminated = False\n",
        "        while not terminated:\n",
        "            action = agent.act(state)\n",
        "            next_state, reward, terminated, _, _ = env.step(action)\n",
        "            next_state = state_to_index(next_state, env.observation_space)\n",
        "\n",
        "            transition = Transition(state=state, action=action, next_state=next_state, reward=reward, done=terminated)\n",
        "\n",
        "            state = next_state\n",
        "            agent.step(transition)\n",
        "\n",
        "        if reward == 1:\n",
        "            n_wins += 1\n",
        "        elif reward == 0:\n",
        "            n_draws += 1\n",
        "\n",
        "    print(f\"Win rate: {n_wins / n_episodes:.4f}\")\n",
        "    print(f\"Draw rate: {n_draws / n_episodes:.4f}\")\n",
        "    print(f\"\\nTime taken: {time.time() - start:.4f} seconds\")"
      ]
    },
    {
      "cell_type": "code",
      "execution_count": 16,
      "metadata": {
        "id": "qYznTMeJNup1",
        "colab": {
          "base_uri": "https://localhost:8080/",
          "height": 0
        },
        "outputId": "b530c9c9-808b-4719-8696-f07d814ab183"
      },
      "outputs": [
        {
          "output_type": "stream",
          "name": "stderr",
          "text": [
            "100%|██████████| 500000/500000 [01:11<00:00, 7020.64it/s]\n"
          ]
        },
        {
          "output_type": "stream",
          "name": "stdout",
          "text": [
            "Win rate: 0.3666\n",
            "Draw rate: 0.0796\n",
            "\n",
            "Time taken: 71.2276 seconds\n"
          ]
        },
        {
          "output_type": "display_data",
          "data": {
            "text/plain": [
              "<Figure size 1000x500 with 4 Axes>"
            ],
            "image/png": "[encoded data removed]"
          },
          "metadata": {}
        },
        {
          "output_type": "stream",
          "name": "stdout",
          "text": [
            "\n",
            "Player's hand: [5, 11] (value: 16)\n",
            "Dealer's hand: [10, 10] (value: 20)\n",
            "Current state: [16 10  1]\n",
            "\n",
            "\n",
            "Player's hand: [5, 11, 11] (value: 17)\n",
            "Dealer's hand: [10, 10] (value: 20)\n",
            "Current state: [17 10  1]\n",
            "\n",
            "\n",
            "Player's hand: [5, 11, 11, 11] (value: 18)\n",
            "Dealer's hand: [10, 10] (value: 20)\n",
            "Current state: [18 10  1]\n",
            "\n",
            "\n",
            "Player's hand: [5, 11, 11, 11, 11] (value: 19)\n",
            "Dealer's hand: [10, 10] (value: 20)\n",
            "Current state: [19 10  1]\n",
            "\n",
            "\n",
            "Player's hand: [5, 11, 11, 11, 11, 10] (value: 19)\n",
            "Dealer's hand: [10, 10] (value: 20)\n",
            "Current state: [19 10  0]\n",
            "\n",
            "\n",
            "Player's hand: [5, 11, 11, 11, 11, 10, 6] (value: 25)\n",
            "Dealer's hand: [10, 10] (value: 20)\n",
            "Current state: [25 10  0]\n",
            "\n",
            "Win rate: 0.3639\n",
            "Draw rate: 0.0764\n"
          ]
        }
      ],
      "source": [
        "#ucb\n",
        "env = InfiniteSimpleBlackjack(seed=42)\n",
        "exploration = UCB(num_states=get_num_states(env.observation_space), num_actions=env.action_space.n, seed=42)\n",
        "qlearning_parameters = QlearningParameters(num_states=get_num_states(env.observation_space), num_actions=env.action_space.n)\n",
        "agent = QlearningAgent(qlearning_parameters, exploration)\n",
        "main_qlearning(env, agent, n_episodes)\n",
        "\n",
        "env = InfiniteSimpleBlackjack(seed=666)\n",
        "policy = agent.get_policy()\n",
        "plot_policy_simple_blackjack(policy, env.observation_space)\n",
        "play_policy(env, agent, n_test_episodes)"
      ]
    },
    {
      "cell_type": "code",
      "source": [
        "#epsilon greedy 0.8\n",
        "env = InfiniteSimpleBlackjack(seed=42)\n",
        "exploration = EpsilonGreedy(epsilon=0.8, decay=0.999999, seed=42)\n",
        "qlearning_parameters = QlearningParameters(num_states=get_num_states(env.observation_space), num_actions=env.action_space.n)\n",
        "agent = QlearningAgent(qlearning_parameters, exploration)\n",
        "main_qlearning(env, agent, n_episodes)\n",
        "\n",
        "env = InfiniteSimpleBlackjack(seed=666)\n",
        "policy = agent.get_policy()\n",
        "play_policy(env, agent, n_test_episodes)"
      ],
      "metadata": {
        "id": "DSSFpS3K2DAD",
        "colab": {
          "base_uri": "https://localhost:8080/"
        },
        "outputId": "a8b36f43-e1d0-41df-dcc0-044d04f65c9f"
      },
      "execution_count": 17,
      "outputs": [
        {
          "output_type": "stream",
          "name": "stderr",
          "text": [
            "100%|██████████| 500000/500000 [00:31<00:00, 15741.73it/s]\n"
          ]
        },
        {
          "output_type": "stream",
          "name": "stdout",
          "text": [
            "Win rate: 0.3222\n",
            "Draw rate: 0.0578\n",
            "\n",
            "Time taken: 31.7696 seconds\n",
            "\n",
            "Player's hand: [3, 8] (value: 11)\n",
            "Dealer's hand: [8, 7] (value: 15)\n",
            "Current state: [11  8  0]\n",
            "\n",
            "\n",
            "Player's hand: [3, 8, 8] (value: 19)\n",
            "Dealer's hand: [8, 7] (value: 15)\n",
            "Current state: [19  8  0]\n",
            "\n",
            "\n",
            "Player's hand: [3, 8, 8] (value: 19)\n",
            "Dealer's hand: [8, 7, 9] (value: 24)\n",
            "Current state: [19  8  0]\n",
            "\n",
            "Win rate: 0.3877\n",
            "Draw rate: 0.0748\n"
          ]
        }
      ]
    },
    {
      "cell_type": "code",
      "source": [
        "#epsilon greedy 0.2\n",
        "\n",
        "env = InfiniteSimpleBlackjack(seed=42)\n",
        "exploration = EpsilonGreedy(epsilon=0.2, decay=0.999999, seed=42)\n",
        "qlearning_parameters = QlearningParameters(num_states=get_num_states(env.observation_space), num_actions=env.action_space.n)\n",
        "agent = QlearningAgent(qlearning_parameters, exploration)\n",
        "main_qlearning(env, agent, n_episodes)\n",
        "\n",
        "env = InfiniteSimpleBlackjack(seed=666)\n",
        "policy = agent.get_policy()\n",
        "play_policy(env, agent, n_test_episodes)"
      ],
      "metadata": {
        "id": "OHK6lvekb8q6",
        "colab": {
          "base_uri": "https://localhost:8080/"
        },
        "outputId": "f2ab2b14-8510-4ca5-fa2f-7d487fa12b1b"
      },
      "execution_count": 18,
      "outputs": [
        {
          "output_type": "stream",
          "name": "stderr",
          "text": [
            "100%|██████████| 500000/500000 [00:35<00:00, 14174.09it/s]\n"
          ]
        },
        {
          "output_type": "stream",
          "name": "stdout",
          "text": [
            "Win rate: 0.3673\n",
            "Draw rate: 0.0767\n",
            "\n",
            "Time taken: 35.2853 seconds\n",
            "\n",
            "Player's hand: [8, 11] (value: 19)\n",
            "Dealer's hand: [2, 10] (value: 12)\n",
            "Current state: [19  2  1]\n",
            "\n",
            "\n",
            "Player's hand: [8, 11] (value: 19)\n",
            "Dealer's hand: [2, 10, 10] (value: 22)\n",
            "Current state: [19  2  1]\n",
            "\n",
            "Win rate: 0.3906\n",
            "Draw rate: 0.0800\n"
          ]
        }
      ]
    },
    {
      "cell_type": "markdown",
      "metadata": {
        "id": "_7Bn03oODbWI"
      },
      "source": [
        "### DQN"
      ]
    },
    {
      "cell_type": "code",
      "execution_count": 19,
      "metadata": {
        "id": "z3I0RMqtDbWJ"
      },
      "outputs": [],
      "source": [
        "from src.agents.dqn import DQN\n",
        "from src.utils.general import get_input_dim_encoding\n",
        "import torch\n",
        "\n",
        "def main_dqn(env: gym.Env, agent: DQN, n_episodes: int):\n",
        "    start = time.time()\n",
        "    n_wins = 0\n",
        "    n_draws = 0\n",
        "    for _ in tqdm(range(n_episodes)):\n",
        "        state = env.reset()\n",
        "        state = state_to_index(state, env.observation_space)\n",
        "        terminated = False\n",
        "        while not terminated:\n",
        "            action = agent.act(state)\n",
        "            next_state, reward, terminated, _, _ = env.step(action)\n",
        "\n",
        "            next_state = state_to_index(next_state, env.observation_space)\n",
        "            action = torch.Tensor([action]).long()\n",
        "            reward = torch.Tensor([reward]).float()\n",
        "            terminated = torch.Tensor([terminated]).float()\n",
        "\n",
        "            transition = Transition(state=state, action=action, next_state=next_state, reward=reward, done=terminated)\n",
        "\n",
        "            state = next_state\n",
        "            agent.step(transition)\n",
        "\n",
        "        if reward == 1:\n",
        "            n_wins += 1\n",
        "        elif reward == 0:\n",
        "            n_draws += 1\n",
        "\n",
        "    print(f\"Win rate: {n_wins / n_episodes:.2f}\")\n",
        "    print(f\"Draw rate: {n_draws / n_episodes:.2f}\")\n",
        "\n",
        "    print(f\"\\nTime taken: {time.time() - start:.2f} seconds\")"
      ]
    },
    {
      "cell_type": "code",
      "execution_count": 20,
      "metadata": {
        "id": "HdK2EvSpDbWK",
        "colab": {
          "base_uri": "https://localhost:8080/",
          "height": 373
        },
        "outputId": "6e09d07c-bf33-4ee8-813f-3283126ace28"
      },
      "outputs": [
        {
          "output_type": "stream",
          "name": "stderr",
          "text": [
            "  0%|          | 0/100000 [00:00<?, ?it/s]\n"
          ]
        },
        {
          "output_type": "error",
          "ename": "AttributeError",
          "evalue": "'numpy.int64' object has no attribute 'float'",
          "traceback": [
            "\u001b[0;31m---------------------------------------------------------------------------\u001b[0m",
            "\u001b[0;31mAttributeError\u001b[0m                            Traceback (most recent call last)",
            "\u001b[0;32m<ipython-input-20-7b93989be3e2>\u001b[0m in \u001b[0;36m<cell line: 18>\u001b[0;34m()\u001b[0m\n\u001b[1;32m     16\u001b[0m \u001b[0mexploration\u001b[0m \u001b[0;34m=\u001b[0m \u001b[0mEpsilonGreedy\u001b[0m\u001b[0;34m(\u001b[0m\u001b[0;36m0.3\u001b[0m\u001b[0;34m,\u001b[0m \u001b[0;36m0.9\u001b[0m\u001b[0;34m)\u001b[0m\u001b[0;34m\u001b[0m\u001b[0;34m\u001b[0m\u001b[0m\n\u001b[1;32m     17\u001b[0m \u001b[0magent\u001b[0m \u001b[0;34m=\u001b[0m \u001b[0mDQN\u001b[0m\u001b[0;34m(\u001b[0m\u001b[0mq_network\u001b[0m\u001b[0;34m,\u001b[0m \u001b[0mtarget_network\u001b[0m\u001b[0;34m,\u001b[0m \u001b[0mreplay_buffer\u001b[0m\u001b[0;34m,\u001b[0m \u001b[0moptimizer\u001b[0m\u001b[0;34m,\u001b[0m \u001b[0mcriterion\u001b[0m\u001b[0;34m,\u001b[0m \u001b[0mexploration\u001b[0m\u001b[0;34m,\u001b[0m \u001b[0mparams\u001b[0m\u001b[0;34m)\u001b[0m\u001b[0;34m\u001b[0m\u001b[0;34m\u001b[0m\u001b[0m\n\u001b[0;32m---> 18\u001b[0;31m \u001b[0mmain_dqn\u001b[0m\u001b[0;34m(\u001b[0m\u001b[0menv\u001b[0m\u001b[0;34m,\u001b[0m \u001b[0magent\u001b[0m\u001b[0;34m,\u001b[0m \u001b[0mn_episodes\u001b[0m\u001b[0;34m)\u001b[0m\u001b[0;34m\u001b[0m\u001b[0;34m\u001b[0m\u001b[0m\n\u001b[0m\u001b[1;32m     19\u001b[0m \u001b[0;34m\u001b[0m\u001b[0m\n\u001b[1;32m     20\u001b[0m \u001b[0menv\u001b[0m \u001b[0;34m=\u001b[0m \u001b[0mInfiniteSimpleBlackjack\u001b[0m\u001b[0;34m(\u001b[0m\u001b[0mseed\u001b[0m\u001b[0;34m=\u001b[0m\u001b[0;36m666\u001b[0m\u001b[0;34m)\u001b[0m\u001b[0;34m\u001b[0m\u001b[0;34m\u001b[0m\u001b[0m\n",
            "\u001b[0;32m<ipython-input-19-55262fbec478>\u001b[0m in \u001b[0;36mmain_dqn\u001b[0;34m(env, agent, n_episodes)\u001b[0m\n\u001b[1;32m     12\u001b[0m         \u001b[0mterminated\u001b[0m \u001b[0;34m=\u001b[0m \u001b[0;32mFalse\u001b[0m\u001b[0;34m\u001b[0m\u001b[0;34m\u001b[0m\u001b[0m\n\u001b[1;32m     13\u001b[0m         \u001b[0;32mwhile\u001b[0m \u001b[0;32mnot\u001b[0m \u001b[0mterminated\u001b[0m\u001b[0;34m:\u001b[0m\u001b[0;34m\u001b[0m\u001b[0;34m\u001b[0m\u001b[0m\n\u001b[0;32m---> 14\u001b[0;31m             \u001b[0maction\u001b[0m \u001b[0;34m=\u001b[0m \u001b[0magent\u001b[0m\u001b[0;34m.\u001b[0m\u001b[0mact\u001b[0m\u001b[0;34m(\u001b[0m\u001b[0mstate\u001b[0m\u001b[0;34m)\u001b[0m\u001b[0;34m\u001b[0m\u001b[0;34m\u001b[0m\u001b[0m\n\u001b[0m\u001b[1;32m     15\u001b[0m             \u001b[0mnext_state\u001b[0m\u001b[0;34m,\u001b[0m \u001b[0mreward\u001b[0m\u001b[0;34m,\u001b[0m \u001b[0mterminated\u001b[0m\u001b[0;34m,\u001b[0m \u001b[0m_\u001b[0m\u001b[0;34m,\u001b[0m \u001b[0m_\u001b[0m \u001b[0;34m=\u001b[0m \u001b[0menv\u001b[0m\u001b[0;34m.\u001b[0m\u001b[0mstep\u001b[0m\u001b[0;34m(\u001b[0m\u001b[0maction\u001b[0m\u001b[0;34m)\u001b[0m\u001b[0;34m\u001b[0m\u001b[0;34m\u001b[0m\u001b[0m\n\u001b[1;32m     16\u001b[0m \u001b[0;34m\u001b[0m\u001b[0m\n",
            "\u001b[0;32m/content/drive/MyDrive/RL/blackjack/src/agents/dqn.py\u001b[0m in \u001b[0;36mact\u001b[0;34m(self, state)\u001b[0m\n\u001b[1;32m     49\u001b[0m \u001b[0;34m\u001b[0m\u001b[0m\n\u001b[1;32m     50\u001b[0m     \u001b[0;32mdef\u001b[0m \u001b[0mact\u001b[0m\u001b[0;34m(\u001b[0m\u001b[0mself\u001b[0m\u001b[0;34m,\u001b[0m \u001b[0mstate\u001b[0m\u001b[0;34m:\u001b[0m \u001b[0mtorch\u001b[0m\u001b[0;34m.\u001b[0m\u001b[0mTensor\u001b[0m\u001b[0;34m)\u001b[0m \u001b[0;34m->\u001b[0m \u001b[0mint\u001b[0m\u001b[0;34m:\u001b[0m\u001b[0;34m\u001b[0m\u001b[0;34m\u001b[0m\u001b[0m\n\u001b[0;32m---> 51\u001b[0;31m         \u001b[0mq_values\u001b[0m \u001b[0;34m=\u001b[0m \u001b[0mself\u001b[0m\u001b[0;34m.\u001b[0m\u001b[0mq_network\u001b[0m\u001b[0;34m(\u001b[0m\u001b[0mstate\u001b[0m\u001b[0;34m.\u001b[0m\u001b[0mfloat\u001b[0m\u001b[0;34m(\u001b[0m\u001b[0;34m)\u001b[0m\u001b[0;34m.\u001b[0m\u001b[0mto\u001b[0m\u001b[0;34m(\u001b[0m\u001b[0mself\u001b[0m\u001b[0;34m.\u001b[0m\u001b[0mparams\u001b[0m\u001b[0;34m.\u001b[0m\u001b[0mdevice\u001b[0m\u001b[0;34m)\u001b[0m\u001b[0;34m)\u001b[0m\u001b[0;34m.\u001b[0m\u001b[0mdetach\u001b[0m\u001b[0;34m(\u001b[0m\u001b[0;34m)\u001b[0m\u001b[0;34m.\u001b[0m\u001b[0mcpu\u001b[0m\u001b[0;34m(\u001b[0m\u001b[0;34m)\u001b[0m\u001b[0;34m.\u001b[0m\u001b[0mnumpy\u001b[0m\u001b[0;34m(\u001b[0m\u001b[0;34m)\u001b[0m\u001b[0;34m\u001b[0m\u001b[0;34m\u001b[0m\u001b[0m\n\u001b[0m\u001b[1;32m     52\u001b[0m         \u001b[0;32mreturn\u001b[0m \u001b[0mself\u001b[0m\u001b[0;34m.\u001b[0m\u001b[0mexploration\u001b[0m\u001b[0;34m(\u001b[0m\u001b[0mq_values\u001b[0m\u001b[0;34m,\u001b[0m \u001b[0mstate\u001b[0m\u001b[0;34m)\u001b[0m\u001b[0;34m\u001b[0m\u001b[0;34m\u001b[0m\u001b[0m\n\u001b[1;32m     53\u001b[0m \u001b[0;34m\u001b[0m\u001b[0m\n",
            "\u001b[0;31mAttributeError\u001b[0m: 'numpy.int64' object has no attribute 'float'"
          ]
        }
      ],
      "source": [
        "from src.utils.data_struct import DQNParameters\n",
        "from src.networks import MLP\n",
        "from src.utils.buffer import ReplayBuffer\n",
        "from src.explorations import EpsilonGreedy\n",
        "\n",
        "n_episodes = 100_000\n",
        "params = DQNParameters()\n",
        "env = InfiniteSimpleBlackjack(seed=42)\n",
        "\n",
        "q_network = MLP(11, 64, env.action_space.n).to(params.device)\n",
        "target_network = MLP(11, 64, env.action_space.n).to(params.device)\n",
        "target_network.load_state_dict(q_network.state_dict())\n",
        "replay_buffer = ReplayBuffer(10_000)\n",
        "optimizer = torch.optim.AdamW(q_network.parameters(), lr=0.001, weight_decay=0.0001)\n",
        "criterion = torch.nn.MSELoss()\n",
        "exploration = EpsilonGreedy(0.3, 0.9)\n",
        "agent = DQN(q_network, target_network, replay_buffer, optimizer, criterion, exploration, params)\n",
        "main_dqn(env, agent, n_episodes)\n",
        "\n",
        "env = InfiniteSimpleBlackjack(seed=666)\n",
        "play_policy(env, agent, n_test_episodes, array_encoding=True)"
      ]
    },
    {
      "cell_type": "markdown",
      "metadata": {
        "id": "V7geU9B_baQk"
      },
      "source": [
        "## Simple Finite"
      ]
    },
    {
      "cell_type": "code",
      "execution_count": 21,
      "metadata": {
        "id": "l6ufzvqkbXx9"
      },
      "outputs": [],
      "source": [
        "from src.envs import SimpleBlackjack\n",
        "env = SimpleBlackjack(seed=42, packs=4)"
      ]
    },
    {
      "cell_type": "markdown",
      "metadata": {
        "id": "cO0og164bXx-"
      },
      "source": [
        "### Random"
      ]
    },
    {
      "cell_type": "code",
      "execution_count": 22,
      "metadata": {
        "id": "XT7BnqI9bXx_",
        "colab": {
          "base_uri": "https://localhost:8080/"
        },
        "outputId": "2be087a7-1f72-47be-9e81-557530481d4f"
      },
      "outputs": [
        {
          "output_type": "stream",
          "name": "stdout",
          "text": [
            "\n",
            "Player's hand: [10, 10] (value: 20)\n",
            "Dealer's hand: [6, 7] (value: 13)\n",
            "Current state: [20  6  0  2]\n",
            "\n",
            "\n",
            "Player's hand: [10, 10] (value: 20)\n",
            "Dealer's hand: [6, 7, 2, 11, 10] (value: 26)\n",
            "Current state: [20  6  0  2]\n",
            "\n",
            "Win rate: 0.2827\n",
            "Draw rate: 0.0432\n"
          ]
        }
      ],
      "source": [
        "agent = RandomAgent(env.action_space, seed=42)\n",
        "play_policy(env, agent, n_test_episodes)"
      ]
    },
    {
      "cell_type": "markdown",
      "source": [
        "### Monte Carlo"
      ],
      "metadata": {
        "id": "tzUKBhgXDPMs"
      }
    },
    {
      "cell_type": "code",
      "source": [
        "def main_monte_carlo(env: gym.Env, agent: MonteCarloAgent, n_episodes: int):\n",
        "    start = time.time()\n",
        "    n_wins = 0\n",
        "    n_draws = 0\n",
        "    for _ in tqdm(range(n_episodes)):\n",
        "        episode = agent.generate_episode(env)\n",
        "        reward = episode[-1][2]\n",
        "        agent.step(episode)\n",
        "\n",
        "        if reward == 1:\n",
        "            n_wins += 1\n",
        "        elif reward == 0:\n",
        "            n_draws += 1\n",
        "    print(f\"Win rate: {n_wins / n_episodes:.2f}\")\n",
        "    print(f\"Draw rate: {n_draws / n_episodes:.2f}\")\n",
        "    print(f\"\\nTime taken: {time.time() - start:.2f} seconds\")"
      ],
      "metadata": {
        "id": "jhOi1pw0DPMt"
      },
      "execution_count": 23,
      "outputs": []
    },
    {
      "cell_type": "code",
      "source": [
        "#UCB\n",
        "n_episodes = 500_000\n",
        "env = SimpleBlackjack(seed=42, packs=4)\n",
        "exploration = UCB(num_states=get_num_states(env.observation_space), num_actions=env.action_space.n, seed=42)\n",
        "monte_carlo_parameters = MonteCarloParameters(num_states=get_num_states(env.observation_space), num_actions=env.action_space.n)\n",
        "agent = MonteCarloAgent(monte_carlo_parameters, exploration)\n",
        "\n",
        "main_monte_carlo(env, agent, n_episodes)\n",
        "\n",
        "env = SimpleBlackjack(seed=666, packs=4)\n",
        "policy = agent.get_policy()\n",
        "\n",
        "n_test_episodes = 10000\n",
        "env = InfiniteSimpleBlackjack(seed=666)\n",
        "rewards = [play_episode(env, agent) for _ in range(n_test_episodes)]\n",
        "n_wins = sum(reward == 1 for reward in rewards)\n",
        "n_draws = sum(reward == 0 for reward in rewards)\n",
        "print(f\"Win rate: {n_wins / n_test_episodes:.4f}\")\n",
        "print(f\"Draw rate: {n_draws / n_test_episodes:.4f}\")"
      ],
      "metadata": {
        "id": "BdfsCCDwDPMu",
        "colab": {
          "base_uri": "https://localhost:8080/"
        },
        "outputId": "939fe32e-7e45-43ac-f3ed-69f2b2e5e49a"
      },
      "execution_count": 25,
      "outputs": [
        {
          "output_type": "stream",
          "name": "stderr",
          "text": [
            "100%|██████████| 500000/500000 [02:17<00:00, 3633.60it/s]\n"
          ]
        },
        {
          "output_type": "stream",
          "name": "stdout",
          "text": [
            "Win rate: 0.41\n",
            "Draw rate: 0.08\n",
            "\n",
            "Time taken: 137.61 seconds\n",
            "Win rate: 0.3762\n",
            "Draw rate: 0.0473\n"
          ]
        }
      ]
    },
    {
      "cell_type": "code",
      "source": [
        "n_episodes = 500_000\n",
        "env = SimpleBlackjack(seed=42, packs=4)\n",
        "exploration = EpsilonGreedy(epsilon=0.8, decay=0.999999, seed=42)\n",
        "monte_carlo_parameters = MonteCarloParameters(num_states=get_num_states(env.observation_space), num_actions=env.action_space.n)\n",
        "agent = MonteCarloAgent(monte_carlo_parameters, exploration)\n",
        "\n",
        "main_monte_carlo(env, agent, n_episodes)\n",
        "\n",
        "policy = agent.get_policy()\n",
        "\n",
        "n_test_episodes = 10000\n",
        "env = SimpleBlackjack(seed=666, packs=4)\n",
        "rewards = [play_episode(env, agent) for _ in range(n_test_episodes)]\n",
        "n_wins = sum(reward == 1 for reward in rewards)\n",
        "n_draws = sum(reward == 0 for reward in rewards)\n",
        "print(f\"Win rate: {n_wins / n_test_episodes:.4f}\")\n",
        "print(f\"Draw rate: {n_draws / n_test_episodes:.4f}\")"
      ],
      "metadata": {
        "id": "fVzqzNlpDPMv",
        "colab": {
          "base_uri": "https://localhost:8080/"
        },
        "outputId": "25660bfc-3f0d-4fc4-b1ab-57d2e1900d76"
      },
      "execution_count": 26,
      "outputs": [
        {
          "output_type": "stream",
          "name": "stderr",
          "text": [
            "100%|██████████| 500000/500000 [01:50<00:00, 4519.66it/s]\n"
          ]
        },
        {
          "output_type": "stream",
          "name": "stdout",
          "text": [
            "Win rate: 0.34\n",
            "Draw rate: 0.06\n",
            "\n",
            "Time taken: 110.63 seconds\n",
            "Win rate: 0.4161\n",
            "Draw rate: 0.0800\n"
          ]
        }
      ]
    },
    {
      "cell_type": "markdown",
      "metadata": {
        "id": "9GvCU1jkbXx_"
      },
      "source": [
        "### Sarsa"
      ]
    },
    {
      "cell_type": "code",
      "execution_count": 27,
      "metadata": {
        "id": "qzY8tIVabXx_",
        "colab": {
          "base_uri": "https://localhost:8080/"
        },
        "outputId": "721539de-c450-40c3-d958-d961da01f551"
      },
      "outputs": [
        {
          "output_type": "stream",
          "name": "stderr",
          "text": [
            "100%|██████████| 500000/500000 [02:11<00:00, 3798.77it/s]\n"
          ]
        },
        {
          "output_type": "stream",
          "name": "stdout",
          "text": [
            "Win rate: 0.3681\n",
            "Draw rate: 0.0775\n",
            "\n",
            "Time taken: 131.6274 seconds\n",
            "\n",
            "Player's hand: [10, 4] (value: 14)\n",
            "Dealer's hand: [10, 3] (value: 13)\n",
            "Current state: [14 10  0  2]\n",
            "\n",
            "\n",
            "Player's hand: [10, 4, 4] (value: 18)\n",
            "Dealer's hand: [10, 3] (value: 13)\n",
            "Current state: [18 10  0  3]\n",
            "\n",
            "\n",
            "Player's hand: [10, 4, 4, 10] (value: 28)\n",
            "Dealer's hand: [10, 3] (value: 13)\n",
            "Current state: [28 10  0  4]\n",
            "\n",
            "Win rate: 0.3586\n",
            "Draw rate: 0.0756\n"
          ]
        }
      ],
      "source": [
        "#ucb\n",
        "env = SimpleBlackjack(seed=42, packs=4)\n",
        "exploration = UCB(num_states=get_num_states(env.observation_space), num_actions=env.action_space.n, seed=42)\n",
        "qlearning_parameters = SarsaParameters(num_states=get_num_states(env.observation_space), num_actions=env.action_space.n)\n",
        "agent = SarsaAgent(qlearning_parameters, exploration)\n",
        "\n",
        "main_sarsa(env, agent, n_episodes)\n",
        "\n",
        "env = SimpleBlackjack(seed=666, packs=4)\n",
        "policy = agent.get_policy()\n",
        "play_policy(env, agent, n_test_episodes)"
      ]
    },
    {
      "cell_type": "code",
      "source": [
        "#epsilon greedy 0.8\n",
        "env = SimpleBlackjack(seed=42, packs=4)\n",
        "exploration = EpsilonGreedy(epsilon=0.8, decay=0.999999, seed=42)\n",
        "qlearning_parameters = SarsaParameters(num_states=get_num_states(env.observation_space), num_actions=env.action_space.n)\n",
        "agent = SarsaAgent(qlearning_parameters, exploration)\n",
        "main_sarsa(env, agent, n_episodes)\n",
        "\n",
        "env = SimpleBlackjack(seed=666, packs=4)\n",
        "policy = agent.get_policy()\n",
        "play_policy(env, agent, n_test_episodes)"
      ],
      "metadata": {
        "id": "OhtPvfJo2J0E",
        "colab": {
          "base_uri": "https://localhost:8080/"
        },
        "outputId": "4a709e8f-8d45-4690-946b-baba97f3341e"
      },
      "execution_count": 28,
      "outputs": [
        {
          "output_type": "stream",
          "name": "stderr",
          "text": [
            "100%|██████████| 500000/500000 [01:14<00:00, 6683.20it/s]\n"
          ]
        },
        {
          "output_type": "stream",
          "name": "stdout",
          "text": [
            "Win rate: 0.3308\n",
            "Draw rate: 0.0628\n",
            "\n",
            "Time taken: 74.8201 seconds\n",
            "\n",
            "Player's hand: [10, 4] (value: 14)\n",
            "Dealer's hand: [10, 3] (value: 13)\n",
            "Current state: [14 10  0  2]\n",
            "\n",
            "\n",
            "Player's hand: [10, 4, 4] (value: 18)\n",
            "Dealer's hand: [10, 3] (value: 13)\n",
            "Current state: [18 10  0  3]\n",
            "\n",
            "\n",
            "Player's hand: [10, 4, 4, 10] (value: 28)\n",
            "Dealer's hand: [10, 3] (value: 13)\n",
            "Current state: [28 10  0  4]\n",
            "\n",
            "Win rate: 0.3738\n",
            "Draw rate: 0.0829\n"
          ]
        }
      ]
    },
    {
      "cell_type": "code",
      "source": [
        "#epsilon greedy 0.2\n",
        "env = SimpleBlackjack(seed=42, packs=4)\n",
        "exploration = EpsilonGreedy(epsilon=0.2, decay=0.999999, seed=42)\n",
        "qlearning_parameters = SarsaParameters(num_states=get_num_states(env.observation_space), num_actions=env.action_space.n)\n",
        "agent = SarsaAgent(qlearning_parameters, exploration)\n",
        "main_sarsa(env, agent, n_episodes)\n",
        "\n",
        "env = SimpleBlackjack(seed=666, packs=4)\n",
        "policy = agent.get_policy()\n",
        "play_policy(env, agent, n_test_episodes)"
      ],
      "metadata": {
        "id": "yeiEwb4C2Pbx",
        "colab": {
          "base_uri": "https://localhost:8080/"
        },
        "outputId": "2081745e-ba9a-4e9f-a910-d895240baac8"
      },
      "execution_count": 29,
      "outputs": [
        {
          "output_type": "stream",
          "name": "stderr",
          "text": [
            "100%|██████████| 500000/500000 [01:15<00:00, 6627.12it/s]\n"
          ]
        },
        {
          "output_type": "stream",
          "name": "stdout",
          "text": [
            "Win rate: 0.3696\n",
            "Draw rate: 0.0777\n",
            "\n",
            "Time taken: 75.4594 seconds\n",
            "\n",
            "Player's hand: [10, 4] (value: 14)\n",
            "Dealer's hand: [10, 3] (value: 13)\n",
            "Current state: [14 10  0  2]\n",
            "\n",
            "\n",
            "Player's hand: [10, 4, 4] (value: 18)\n",
            "Dealer's hand: [10, 3] (value: 13)\n",
            "Current state: [18 10  0  3]\n",
            "\n",
            "\n",
            "Player's hand: [10, 4, 4, 10] (value: 28)\n",
            "Dealer's hand: [10, 3] (value: 13)\n",
            "Current state: [28 10  0  4]\n",
            "\n",
            "Win rate: 0.3701\n",
            "Draw rate: 0.0840\n"
          ]
        }
      ]
    },
    {
      "cell_type": "markdown",
      "metadata": {
        "id": "_RmWRIHdbXx_"
      },
      "source": [
        "### Q Learning"
      ]
    },
    {
      "cell_type": "code",
      "execution_count": 30,
      "metadata": {
        "id": "JcS-775TbXyA",
        "colab": {
          "base_uri": "https://localhost:8080/"
        },
        "outputId": "ca46c93b-8c08-4a0e-a33d-406babf76577"
      },
      "outputs": [
        {
          "output_type": "stream",
          "name": "stderr",
          "text": [
            "100%|██████████| 500000/500000 [01:59<00:00, 4167.97it/s]\n"
          ]
        },
        {
          "output_type": "stream",
          "name": "stdout",
          "text": [
            "Win rate: 0.3741\n",
            "Draw rate: 0.0809\n",
            "\n",
            "Time taken: 119.9670 seconds\n",
            "\n",
            "Player's hand: [10, 4] (value: 14)\n",
            "Dealer's hand: [10, 3] (value: 13)\n",
            "Current state: [14 10  0  2]\n",
            "\n",
            "\n",
            "Player's hand: [10, 4, 4] (value: 18)\n",
            "Dealer's hand: [10, 3] (value: 13)\n",
            "Current state: [18 10  0  3]\n",
            "\n",
            "\n",
            "Player's hand: [10, 4, 4, 10] (value: 28)\n",
            "Dealer's hand: [10, 3] (value: 13)\n",
            "Current state: [28 10  0  4]\n",
            "\n",
            "Win rate: 0.3685\n",
            "Draw rate: 0.0806\n"
          ]
        }
      ],
      "source": [
        "#ucb\n",
        "env = SimpleBlackjack(seed=42, packs=4)\n",
        "exploration = UCB(num_states=get_num_states(env.observation_space), num_actions=env.action_space.n, seed=42)\n",
        "qlearning_parameters = QlearningParameters(num_states=get_num_states(env.observation_space), num_actions=env.action_space.n)\n",
        "agent = QlearningAgent(qlearning_parameters, exploration)\n",
        "main_qlearning(env, agent, n_episodes)\n",
        "\n",
        "env = SimpleBlackjack(seed=666, packs=4)\n",
        "policy = agent.get_policy()\n",
        "play_policy(env, agent, n_test_episodes)"
      ]
    },
    {
      "cell_type": "code",
      "source": [
        "#epsilon greedy 0.8\n",
        "env = SimpleBlackjack(seed=42, packs=4)\n",
        "exploration = EpsilonGreedy(epsilon=0.8, decay=0.999999, seed=42)\n",
        "qlearning_parameters = QlearningParameters(num_states=get_num_states(env.observation_space), num_actions=env.action_space.n)\n",
        "agent = QlearningAgent(qlearning_parameters, exploration)\n",
        "main_qlearning(env, agent, n_episodes)\n",
        "\n",
        "env = SimpleBlackjack(seed=666, packs=4)\n",
        "policy = agent.get_policy()\n",
        "play_policy(env, agent, n_test_episodes)"
      ],
      "metadata": {
        "id": "05arpQ8m2QsW",
        "colab": {
          "base_uri": "https://localhost:8080/"
        },
        "outputId": "4e27b4bd-8170-490e-eee8-b5de3528c3f6"
      },
      "execution_count": 31,
      "outputs": [
        {
          "output_type": "stream",
          "name": "stderr",
          "text": [
            "100%|██████████| 500000/500000 [01:22<00:00, 6075.61it/s]\n"
          ]
        },
        {
          "output_type": "stream",
          "name": "stdout",
          "text": [
            "Win rate: 0.3224\n",
            "Draw rate: 0.0576\n",
            "\n",
            "Time taken: 82.3034 seconds\n",
            "\n",
            "Player's hand: [10, 4] (value: 14)\n",
            "Dealer's hand: [10, 3] (value: 13)\n",
            "Current state: [14 10  0  2]\n",
            "\n",
            "\n",
            "Player's hand: [10, 4, 4] (value: 18)\n",
            "Dealer's hand: [10, 3] (value: 13)\n",
            "Current state: [18 10  0  3]\n",
            "\n",
            "\n",
            "Player's hand: [10, 4, 4, 10] (value: 28)\n",
            "Dealer's hand: [10, 3] (value: 13)\n",
            "Current state: [28 10  0  4]\n",
            "\n",
            "Win rate: 0.3866\n",
            "Draw rate: 0.0828\n"
          ]
        }
      ]
    },
    {
      "cell_type": "code",
      "source": [
        "#epsilon greedy 0.2\n",
        "env = SimpleBlackjack(seed=42, packs=4)\n",
        "exploration = EpsilonGreedy(epsilon=0.2, decay=0.999999, seed=42)\n",
        "qlearning_parameters = QlearningParameters(num_states=get_num_states(env.observation_space), num_actions=env.action_space.n)\n",
        "agent = QlearningAgent(qlearning_parameters, exploration)\n",
        "main_qlearning(env, agent, n_episodes)\n",
        "\n",
        "env = SimpleBlackjack(seed=666, packs=4)\n",
        "policy = agent.get_policy()\n",
        "play_policy(env, agent, n_test_episodes)"
      ],
      "metadata": {
        "id": "hUzq6IFo2SiA",
        "colab": {
          "base_uri": "https://localhost:8080/"
        },
        "outputId": "c17efe5c-4d2f-425c-d079-ffb91e535112"
      },
      "execution_count": 32,
      "outputs": [
        {
          "output_type": "stream",
          "name": "stderr",
          "text": [
            "100%|██████████| 500000/500000 [01:23<00:00, 6000.64it/s]\n"
          ]
        },
        {
          "output_type": "stream",
          "name": "stdout",
          "text": [
            "Win rate: 0.3702\n",
            "Draw rate: 0.0761\n",
            "\n",
            "Time taken: 83.3303 seconds\n",
            "\n",
            "Player's hand: [10, 4] (value: 14)\n",
            "Dealer's hand: [10, 3] (value: 13)\n",
            "Current state: [14 10  0  2]\n",
            "\n",
            "\n",
            "Player's hand: [10, 4, 4] (value: 18)\n",
            "Dealer's hand: [10, 3] (value: 13)\n",
            "Current state: [18 10  0  3]\n",
            "\n",
            "\n",
            "Player's hand: [10, 4, 4, 10] (value: 28)\n",
            "Dealer's hand: [10, 3] (value: 13)\n",
            "Current state: [28 10  0  4]\n",
            "\n",
            "Win rate: 0.3764\n",
            "Draw rate: 0.0840\n"
          ]
        }
      ]
    },
    {
      "cell_type": "markdown",
      "metadata": {
        "id": "yyGcuv8qdH5T"
      },
      "source": [
        "## Complete"
      ]
    },
    {
      "cell_type": "code",
      "execution_count": 33,
      "metadata": {
        "id": "zStFwB5HdMyB"
      },
      "outputs": [],
      "source": [
        "from src.envs import Blackjack"
      ]
    },
    {
      "cell_type": "markdown",
      "source": [
        "### Random"
      ],
      "metadata": {
        "id": "4pnR4fHz8By1"
      }
    },
    {
      "cell_type": "code",
      "source": [
        "from src.agents import RandomAgent\n",
        "\n",
        "env = Blackjack(seed=42, packs=4)\n",
        "agent = RandomAgent(env.action_space)\n",
        "play_policy(env, agent, n_test_episodes, array_encoding=True)"
      ],
      "metadata": {
        "colab": {
          "base_uri": "https://localhost:8080/"
        },
        "id": "c4eNkIjC8Bed",
        "outputId": "be3c9067-f402-450d-9c57-43dcf0c4c688"
      },
      "execution_count": 34,
      "outputs": [
        {
          "name": "stdout",
          "output_type": "stream",
          "text": [
            "\n",
            "Player's hand: [10, 7] (value: 17)\n",
            "Dealer's hand: [7, 9] (value: 16)\n",
            "Current state: {'dealer': 7, 'player': [10, 7]}\n",
            "\n",
            "\n",
            "Player's hand: [10, 7] (value: 17)\n",
            "Dealer's hand: [7, 9, 5] (value: 21)\n",
            "Current state: {'dealer': 7, 'player': [10, 7]}\n",
            "\n",
            "Win rate: 0.2792\n",
            "Draw rate: 0.0418\n"
          ]
        }
      ]
    },
    {
      "cell_type": "markdown",
      "metadata": {
        "id": "Mo2tjCr_dYYs"
      },
      "source": [
        "### DQN"
      ]
    },
    {
      "cell_type": "code",
      "execution_count": 35,
      "metadata": {
        "id": "I1wPMVBydZjU"
      },
      "outputs": [],
      "source": [
        "from src.agents.dqn import DQN\n",
        "from src.utils.general import get_input_dim_encoding\n",
        "import torch\n",
        "\n",
        "def main_dqn(env: gym.Env, agent: DQN, n_episodes: int):\n",
        "    start = time.time()\n",
        "    n_wins = 0\n",
        "    n_draws = 0\n",
        "    for _ in tqdm(range(n_episodes)):\n",
        "        state = env.reset()\n",
        "        state = state_to_tensor_encoding(state, env.observation_space)\n",
        "        terminated = False\n",
        "        while not terminated:\n",
        "            action = agent.act(state)\n",
        "            next_state, reward, terminated, _, _ = env.step(action)\n",
        "\n",
        "            next_state = state_to_tensor_encoding(next_state, env.observation_space)\n",
        "            action = torch.Tensor([action]).long()\n",
        "            reward = torch.Tensor([reward]).float()\n",
        "            terminated = torch.Tensor([terminated]).float()\n",
        "\n",
        "            transition = Transition(state=state, action=action, next_state=next_state, reward=reward, done=terminated)\n",
        "\n",
        "            state = next_state\n",
        "            agent.step(transition)\n",
        "\n",
        "        if reward == 1:\n",
        "            n_wins += 1\n",
        "        elif reward == 0:\n",
        "            n_draws += 1\n",
        "\n",
        "    print(f\"Win rate: {n_wins / n_episodes:.2f}\")\n",
        "    print(f\"Draw rate: {n_draws / n_episodes:.2f}\")\n",
        "\n",
        "    print(f\"\\nTime taken: {time.time() - start:.2f} seconds\")"
      ]
    },
    {
      "cell_type": "code",
      "execution_count": 36,
      "metadata": {
        "id": "8zGv-gWP1iln"
      },
      "outputs": [],
      "source": [
        "n_episodes = 100_000"
      ]
    },
    {
      "cell_type": "code",
      "execution_count": 37,
      "metadata": {
        "id": "rntxpzokdlty",
        "colab": {
          "base_uri": "https://localhost:8080/"
        },
        "outputId": "c67ffe78-47d5-44f9-9ec9-eb4f95a7bda1"
      },
      "outputs": [
        {
          "output_type": "stream",
          "name": "stderr",
          "text": [
            "100%|██████████| 100000/100000 [05:26<00:00, 306.08it/s]"
          ]
        },
        {
          "output_type": "stream",
          "name": "stdout",
          "text": [
            "Win rate: 0.32\n",
            "Draw rate: 0.05\n",
            "\n",
            "Time taken: 326.72 seconds\n"
          ]
        },
        {
          "output_type": "stream",
          "name": "stderr",
          "text": [
            "\n"
          ]
        }
      ],
      "source": [
        "from src.utils.data_struct import DQNParameters\n",
        "from src.networks import MLP\n",
        "from src.utils.buffer import ReplayBuffer\n",
        "\n",
        "env = Blackjack(seed=42, packs=4)\n",
        "params = DQNParameters()\n",
        "q_network = MLP(get_input_dim_encoding(env.observation_space), 64, env.action_space.n).to(params.device)\n",
        "target_network = MLP(get_input_dim_encoding(env.observation_space), 64, env.action_space.n).to(params.device)\n",
        "target_network.load_state_dict(q_network.state_dict())\n",
        "replay_buffer = ReplayBuffer(10_000)\n",
        "optimizer = torch.optim.AdamW(q_network.parameters(), lr=0.001, weight_decay=0.0001)\n",
        "criterion = torch.nn.MSELoss()\n",
        "exploration = EpsilonGreedy(0.3, 0.9)\n",
        "\n",
        "agent = DQN(q_network, target_network, replay_buffer, optimizer, criterion, exploration, params)\n",
        "main_dqn(env, agent, n_episodes)"
      ]
    },
    {
      "cell_type": "code",
      "execution_count": 38,
      "metadata": {
        "id": "pG6jMxnrdlty",
        "colab": {
          "base_uri": "https://localhost:8080/"
        },
        "outputId": "dd15eb3b-bd45-45c9-f9e1-6481b69e3d7f"
      },
      "outputs": [
        {
          "output_type": "stream",
          "name": "stdout",
          "text": [
            "\n",
            "Player's hand: [10, 4] (value: 14)\n",
            "Dealer's hand: [10, 3] (value: 13)\n",
            "Current state: {'dealer': 10, 'player': [10, 4]}\n",
            "\n",
            "\n",
            "Player's hand: [10, 4] (value: 14)\n",
            "Dealer's hand: [10, 3, 4] (value: 17)\n",
            "Current state: {'dealer': 10, 'player': [10, 4]}\n",
            "\n",
            "Win rate: 0.3791\n",
            "Draw rate: 0.0578\n"
          ]
        }
      ],
      "source": [
        "env = Blackjack(seed=666, packs=4)\n",
        "play_policy(env, agent, n_test_episodes, array_encoding=True)"
      ]
    },
    {
      "cell_type": "code",
      "source": [
        "#ucb\n",
        "env = Blackjack(seed=42, packs=4)\n",
        "params = DQNParameters()\n",
        "q_network = MLP(get_input_dim_encoding(env.observation_space), 64, env.action_space.n).to(params.device)\n",
        "target_network = MLP(get_input_dim_encoding(env.observation_space), 64, env.action_space.n).to(params.device)\n",
        "target_network.load_state_dict(q_network.state_dict())\n",
        "replay_buffer = ReplayBuffer(10_000)\n",
        "optimizer = torch.optim.AdamW(q_network.parameters(), lr=0.001, weight_decay=0.0001)\n",
        "criterion = torch.nn.MSELoss()\n",
        "exploration = UCB(num_states=get_num_states(env.observation_space), num_actions=env.action_space.n, seed=42)\n",
        "\n",
        "agent = DQN(q_network, target_network, replay_buffer, optimizer, criterion, exploration, params)\n",
        "main_dqn(env, agent, n_episodes)\n",
        "\n",
        "env = Blackjack(seed=666, packs=4)\n",
        "play_policy(env, agent, n_test_episodes, array_encoding=True)"
      ],
      "metadata": {
        "colab": {
          "base_uri": "https://localhost:8080/",
          "height": 332
        },
        "id": "km_RlyeV5-DD",
        "outputId": "f0ad2242-036d-45a2-a68b-343474efcc25"
      },
      "execution_count": 39,
      "outputs": [
        {
          "output_type": "error",
          "ename": "AttributeError",
          "evalue": "'Dict' object has no attribute 'high'",
          "traceback": [
            "\u001b[0;31m---------------------------------------------------------------------------\u001b[0m",
            "\u001b[0;31mAttributeError\u001b[0m                            Traceback (most recent call last)",
            "\u001b[0;32m<ipython-input-39-50bdfba31f30>\u001b[0m in \u001b[0;36m<cell line: 10>\u001b[0;34m()\u001b[0m\n\u001b[1;32m      8\u001b[0m \u001b[0moptimizer\u001b[0m \u001b[0;34m=\u001b[0m \u001b[0mtorch\u001b[0m\u001b[0;34m.\u001b[0m\u001b[0moptim\u001b[0m\u001b[0;34m.\u001b[0m\u001b[0mAdamW\u001b[0m\u001b[0;34m(\u001b[0m\u001b[0mq_network\u001b[0m\u001b[0;34m.\u001b[0m\u001b[0mparameters\u001b[0m\u001b[0;34m(\u001b[0m\u001b[0;34m)\u001b[0m\u001b[0;34m,\u001b[0m \u001b[0mlr\u001b[0m\u001b[0;34m=\u001b[0m\u001b[0;36m0.001\u001b[0m\u001b[0;34m,\u001b[0m \u001b[0mweight_decay\u001b[0m\u001b[0;34m=\u001b[0m\u001b[0;36m0.0001\u001b[0m\u001b[0;34m)\u001b[0m\u001b[0;34m\u001b[0m\u001b[0;34m\u001b[0m\u001b[0m\n\u001b[1;32m      9\u001b[0m \u001b[0mcriterion\u001b[0m \u001b[0;34m=\u001b[0m \u001b[0mtorch\u001b[0m\u001b[0;34m.\u001b[0m\u001b[0mnn\u001b[0m\u001b[0;34m.\u001b[0m\u001b[0mMSELoss\u001b[0m\u001b[0;34m(\u001b[0m\u001b[0;34m)\u001b[0m\u001b[0;34m\u001b[0m\u001b[0;34m\u001b[0m\u001b[0m\n\u001b[0;32m---> 10\u001b[0;31m \u001b[0mexploration\u001b[0m \u001b[0;34m=\u001b[0m \u001b[0mUCB\u001b[0m\u001b[0;34m(\u001b[0m\u001b[0mnum_states\u001b[0m\u001b[0;34m=\u001b[0m\u001b[0mget_num_states\u001b[0m\u001b[0;34m(\u001b[0m\u001b[0menv\u001b[0m\u001b[0;34m.\u001b[0m\u001b[0mobservation_space\u001b[0m\u001b[0;34m)\u001b[0m\u001b[0;34m,\u001b[0m \u001b[0mnum_actions\u001b[0m\u001b[0;34m=\u001b[0m\u001b[0menv\u001b[0m\u001b[0;34m.\u001b[0m\u001b[0maction_space\u001b[0m\u001b[0;34m.\u001b[0m\u001b[0mn\u001b[0m\u001b[0;34m,\u001b[0m \u001b[0mseed\u001b[0m\u001b[0;34m=\u001b[0m\u001b[0;36m42\u001b[0m\u001b[0;34m)\u001b[0m\u001b[0;34m\u001b[0m\u001b[0;34m\u001b[0m\u001b[0m\n\u001b[0m\u001b[1;32m     11\u001b[0m \u001b[0;34m\u001b[0m\u001b[0m\n\u001b[1;32m     12\u001b[0m \u001b[0magent\u001b[0m \u001b[0;34m=\u001b[0m \u001b[0mDQN\u001b[0m\u001b[0;34m(\u001b[0m\u001b[0mq_network\u001b[0m\u001b[0;34m,\u001b[0m \u001b[0mtarget_network\u001b[0m\u001b[0;34m,\u001b[0m \u001b[0mreplay_buffer\u001b[0m\u001b[0;34m,\u001b[0m \u001b[0moptimizer\u001b[0m\u001b[0;34m,\u001b[0m \u001b[0mcriterion\u001b[0m\u001b[0;34m,\u001b[0m \u001b[0mexploration\u001b[0m\u001b[0;34m,\u001b[0m \u001b[0mparams\u001b[0m\u001b[0;34m)\u001b[0m\u001b[0;34m\u001b[0m\u001b[0;34m\u001b[0m\u001b[0m\n",
            "\u001b[0;32m/content/drive/MyDrive/RL/blackjack/src/utils/general.py\u001b[0m in \u001b[0;36mget_num_states\u001b[0;34m(space)\u001b[0m\n\u001b[1;32m     45\u001b[0m         \u001b[0mint\u001b[0m\u001b[0;34m:\u001b[0m \u001b[0mNumber\u001b[0m \u001b[0mof\u001b[0m \u001b[0mstates\u001b[0m\u001b[0;34m.\u001b[0m\u001b[0;34m\u001b[0m\u001b[0;34m\u001b[0m\u001b[0m\n\u001b[1;32m     46\u001b[0m     \"\"\"\n\u001b[0;32m---> 47\u001b[0;31m     \u001b[0;32mreturn\u001b[0m \u001b[0mnp\u001b[0m\u001b[0;34m.\u001b[0m\u001b[0mprod\u001b[0m\u001b[0;34m(\u001b[0m\u001b[0mspace\u001b[0m\u001b[0;34m.\u001b[0m\u001b[0mhigh\u001b[0m \u001b[0;34m-\u001b[0m \u001b[0mspace\u001b[0m\u001b[0;34m.\u001b[0m\u001b[0mlow\u001b[0m \u001b[0;34m+\u001b[0m \u001b[0;36m1\u001b[0m\u001b[0;34m)\u001b[0m\u001b[0;34m\u001b[0m\u001b[0;34m\u001b[0m\u001b[0m\n\u001b[0m\u001b[1;32m     48\u001b[0m \u001b[0;34m\u001b[0m\u001b[0m\n\u001b[1;32m     49\u001b[0m \u001b[0;34m\u001b[0m\u001b[0m\n",
            "\u001b[0;31mAttributeError\u001b[0m: 'Dict' object has no attribute 'high'"
          ]
        }
      ]
    },
    {
      "cell_type": "markdown",
      "source": [
        "### DQN sequence"
      ],
      "metadata": {
        "id": "zwv069gB2jGI"
      }
    },
    {
      "cell_type": "code",
      "source": [
        "from src.utils.general import state_to_tensor_sequence\n",
        "\n",
        "def main(env: gym.Env, agent: DQN, n_episodes: int):\n",
        "    start = time.time()\n",
        "    n_wins = 0\n",
        "    n_draws = 0\n",
        "    for _ in tqdm(range(n_episodes)):\n",
        "        state = env.reset()\n",
        "        state = state_to_tensor_sequence(state, env.observation_space, env.max_number_of_cards)\n",
        "        terminated = False\n",
        "        while not terminated:\n",
        "            action = agent.act(state)\n",
        "            next_state, reward, terminated, _, _ = env.step(action)\n",
        "\n",
        "            next_state = state_to_tensor_sequence(next_state, env.observation_space, env.max_number_of_cards)\n",
        "            action = torch.Tensor([action]).long()\n",
        "            reward = torch.Tensor([reward]).float()\n",
        "            terminated = torch.Tensor([terminated]).float()\n",
        "\n",
        "            transition = Transition(state=state, action=action, next_state=next_state, reward=reward, done=terminated)\n",
        "\n",
        "            state = next_state\n",
        "            agent.step(transition)\n",
        "\n",
        "        if reward == 1:\n",
        "            n_wins += 1\n",
        "        elif reward == 0:\n",
        "            n_draws += 1\n",
        "\n",
        "    print(f\"Win rate: {n_wins / n_episodes:.2f}\")\n",
        "    print(f\"Draw rate: {n_draws / n_episodes:.2f}\")\n",
        "\n",
        "    print(f\"\\nTime taken: {time.time() - start:.2f} seconds\")\n",
        "\n",
        "def play_episode(env: gym.Env, agent: DQN, render: bool = False):\n",
        "    state = env.reset()\n",
        "    if render:\n",
        "        env.render()\n",
        "    state = state_to_tensor_sequence(state, env.observation_space, env.max_number_of_cards)\n",
        "    terminated = False\n",
        "    while not terminated:\n",
        "        action = agent.get_best_action(state)\n",
        "        next_state, reward, terminated, _, _ = env.step(action)\n",
        "        if render:\n",
        "            env.render()\n",
        "        next_state = state_to_tensor_sequence(next_state, env.observation_space, env.max_number_of_cards)\n",
        "        state = next_state\n",
        "    return reward"
      ],
      "metadata": {
        "id": "jv9zcaRR96nR"
      },
      "execution_count": 40,
      "outputs": []
    },
    {
      "cell_type": "code",
      "source": [
        "params = DQNParameters()\n",
        "env = Blackjack(seed=42, packs=4)\n",
        "q_network = MLP(1 + env.max_number_of_cards, 64, env.action_space.n).to(params.device)\n",
        "target_network = MLP(1 + env.max_number_of_cards, 64, env.action_space.n).to(params.device)\n",
        "target_network.load_state_dict(q_network.state_dict())\n",
        "replay_buffer = ReplayBuffer(10_000)\n",
        "optimizer = torch.optim.AdamW(q_network.parameters(), lr=0.001, weight_decay=0.0001)\n",
        "criterion = torch.nn.MSELoss()\n",
        "exploration = EpsilonGreedy(0.8, 0.99)\n",
        "\n",
        "agent = DQN(q_network, target_network, replay_buffer, optimizer, criterion, exploration, params)\n",
        "main(env, agent, n_episodes)"
      ],
      "metadata": {
        "colab": {
          "base_uri": "https://localhost:8080/"
        },
        "id": "3pFCPZUd2lOx",
        "outputId": "dbeb26b6-be98-4ca6-9243-435e6e2b53c7"
      },
      "execution_count": 41,
      "outputs": [
        {
          "output_type": "stream",
          "name": "stderr",
          "text": [
            "100%|██████████| 100000/100000 [04:59<00:00, 334.19it/s]"
          ]
        },
        {
          "output_type": "stream",
          "name": "stdout",
          "text": [
            "Win rate: 0.38\n",
            "Draw rate: 0.07\n",
            "\n",
            "Time taken: 299.24 seconds\n"
          ]
        },
        {
          "output_type": "stream",
          "name": "stderr",
          "text": [
            "\n"
          ]
        }
      ]
    },
    {
      "cell_type": "code",
      "source": [
        "n_test_episodes = 10000\n",
        "env = Blackjack(seed=666, packs=4)\n",
        "\n",
        "rewards = [play_episode(env, agent) for _ in range(n_test_episodes)]\n",
        "n_wins = sum(reward == 1 for reward in rewards)\n",
        "n_draws = sum(reward == 0 for reward in rewards)\n",
        "print(f\"Win rate: {n_wins / n_test_episodes:.4f}\")\n",
        "print(f\"Draw rate: {n_draws / n_test_episodes:.4f}\")"
      ],
      "metadata": {
        "colab": {
          "base_uri": "https://localhost:8080/"
        },
        "id": "-8dR1JvK_kb2",
        "outputId": "734279da-c556-4b07-8774-1c30a65f7e5d"
      },
      "execution_count": 42,
      "outputs": [
        {
          "output_type": "stream",
          "name": "stdout",
          "text": [
            "Win rate: 0.4054\n",
            "Draw rate: 0.0747\n"
          ]
        }
      ]
    },
    {
      "cell_type": "markdown",
      "source": [
        "### DQN encoding"
      ],
      "metadata": {
        "id": "_QLUIWr82p5T"
      }
    },
    {
      "cell_type": "code",
      "source": [
        "from src.utils.data_struct import DQNParameters\n",
        "from src.networks import MLP\n",
        "from src.utils.buffer import ReplayBuffer\n",
        "from src.explorations import EpsilonGreedy, UCB\n",
        "from src.utils.data_struct import SarsaParameters\n",
        "from src.agents import SarsaAgent"
      ],
      "metadata": {
        "id": "D9HO_jWRtis4"
      },
      "execution_count": 43,
      "outputs": []
    },
    {
      "cell_type": "code",
      "source": [
        "params = DQNParameters()\n",
        "env = Blackjack(seed=42, packs=4)\n",
        "\n",
        "q_network = MLP(get_input_dim_encoding(env.observation_space), 64, env.action_space.n).to(params.device)\n",
        "target_network = MLP(get_input_dim_encoding(env.observation_space), 64, env.action_space.n).to(params.device)\n",
        "target_network.load_state_dict(q_network.state_dict())\n",
        "replay_buffer = ReplayBuffer(10_000)\n",
        "optimizer = torch.optim.AdamW(q_network.parameters(), lr=0.001, weight_decay=0.0001)\n",
        "criterion = torch.nn.MSELoss()\n",
        "exploration = EpsilonGreedy(0.8, 0.99)\n",
        "\n",
        "agent = DQN(q_network, target_network, replay_buffer, optimizer, criterion, exploration, params)\n",
        "main_dqn(env, agent, n_episodes)"
      ],
      "metadata": {
        "colab": {
          "base_uri": "https://localhost:8080/"
        },
        "id": "K15E99Wc2t4d",
        "outputId": "bc1d21d5-29ed-4a75-8db8-81dab0a41633"
      },
      "execution_count": 44,
      "outputs": [
        {
          "output_type": "stream",
          "name": "stderr",
          "text": [
            "100%|██████████| 100000/100000 [05:47<00:00, 287.81it/s]"
          ]
        },
        {
          "output_type": "stream",
          "name": "stdout",
          "text": [
            "Win rate: 0.34\n",
            "Draw rate: 0.05\n",
            "\n",
            "Time taken: 347.45 seconds\n"
          ]
        },
        {
          "output_type": "stream",
          "name": "stderr",
          "text": [
            "\n"
          ]
        }
      ]
    },
    {
      "cell_type": "code",
      "source": [
        "def play_episode(env: gym.Env, agent: DQN, render: bool = False):\n",
        "    state = env.reset()\n",
        "    if render:\n",
        "        env.render()\n",
        "    state = state_to_tensor_encoding(state, env.observation_space)\n",
        "    terminated = False\n",
        "    while not terminated:\n",
        "        action = agent.get_best_action(state)\n",
        "        next_state, reward, terminated, _, _ = env.step(action)\n",
        "        if render:\n",
        "            env.render()\n",
        "        next_state = state_to_tensor_encoding(next_state, env.observation_space)\n",
        "        state = next_state\n",
        "    return reward"
      ],
      "metadata": {
        "id": "9ho-BL4RBGqJ"
      },
      "execution_count": 45,
      "outputs": []
    },
    {
      "cell_type": "code",
      "source": [
        "n_test_episodes = 10000\n",
        "env = Blackjack(seed=666, packs=4)\n",
        "\n",
        "rewards = [play_episode(env, agent) for _ in range(n_test_episodes)]\n",
        "n_wins = sum(reward == 1 for reward in rewards)\n",
        "n_draws = sum(reward == 0 for reward in rewards)\n",
        "print(f\"Win rate: {n_wins / n_test_episodes:.4f}\")\n",
        "print(f\"Draw rate: {n_draws / n_test_episodes:.4f}\")"
      ],
      "metadata": {
        "colab": {
          "base_uri": "https://localhost:8080/"
        },
        "id": "tnjkLravBJXD",
        "outputId": "35c646c3-7a17-4637-9e03-ed37c63a1504"
      },
      "execution_count": 46,
      "outputs": [
        {
          "output_type": "stream",
          "name": "stdout",
          "text": [
            "Win rate: 0.3782\n",
            "Draw rate: 0.0536\n"
          ]
        }
      ]
    },
    {
      "cell_type": "markdown",
      "source": [
        "### DQN embedding"
      ],
      "metadata": {
        "id": "SImlpQ6X2xIc"
      }
    },
    {
      "cell_type": "code",
      "source": [
        "from src.networks import MLPEmbedding\n",
        "env = Blackjack(seed=42, packs=4)\n",
        "\n",
        "input_range = env.observation_space[\"dealer\"].high.item() - env.observation_space[\"dealer\"].low.item() + 1\n",
        "\n",
        "params = DQNParameters(device=torch.device(\"cpu\"))\n",
        "q_network = MLPEmbedding(1, 64, env.action_space.n, input_range).to(params.device)\n",
        "target_network = MLPEmbedding(1, 64, env.action_space.n, input_range).to(params.device)\n",
        "target_network.load_state_dict(q_network.state_dict())\n",
        "replay_buffer = ReplayBuffer(10_000)\n",
        "optimizer = torch.optim.AdamW(q_network.parameters(), lr=0.001, weight_decay=0.0001)\n",
        "criterion = torch.nn.MSELoss()\n",
        "exploration = EpsilonGreedy(0.8, 0.99)\n",
        "\n",
        "agent = DQN(q_network, target_network, replay_buffer, optimizer, criterion, exploration, params)\n",
        "main_dqn(env, agent, n_episodes)\n",
        "\n",
        "env = Blackjack(seed=666, packs=4)\n",
        "\n",
        "n_test_episodes = 10_000\n",
        "rewards = [play_episode(env, agent) for _ in range(n_test_episodes)]\n",
        "n_wins = sum(reward == 1 for reward in rewards)\n",
        "n_draws = sum(reward == 0 for reward in rewards)\n",
        "print(f\"Win rate: {n_wins / n_test_episodes:.4f}\")\n",
        "print(f\"Draw rate: {n_draws / n_test_episodes:.4f}\")"
      ],
      "metadata": {
        "colab": {
          "base_uri": "https://localhost:8080/"
        },
        "id": "Y5Qhe4KG2zFZ",
        "outputId": "1d4c35f0-f3d5-42da-971e-5ebff4288bcb"
      },
      "execution_count": 47,
      "outputs": [
        {
          "output_type": "stream",
          "name": "stderr",
          "text": [
            "100%|██████████| 100000/100000 [05:55<00:00, 280.92it/s]\n"
          ]
        },
        {
          "output_type": "stream",
          "name": "stdout",
          "text": [
            "Win rate: 0.34\n",
            "Draw rate: 0.05\n",
            "\n",
            "Time taken: 355.98 seconds\n",
            "Win rate: 0.3782\n",
            "Draw rate: 0.0536\n"
          ]
        }
      ]
    }
  ],
  "metadata": {
    "colab": {
      "provenance": [],
      "collapsed_sections": [
        "EbUr9u7-mTHs",
        "z2iNpf3mN788",
        "vLUgykOg3az0",
        "3FApiNG6N1h5",
        "xtshRf6XN3La",
        "_7Bn03oODbWI",
        "cO0og164bXx-",
        "tzUKBhgXDPMs",
        "9GvCU1jkbXx_",
        "_RmWRIHdbXx_",
        "4pnR4fHz8By1",
        "Mo2tjCr_dYYs",
        "zwv069gB2jGI",
        "_QLUIWr82p5T",
        "SImlpQ6X2xIc"
      ]
    },
    "kernelspec": {
      "display_name": "Python 3",
      "name": "python3"
    },
    "language_info": {
      "codemirror_mode": {
        "name": "ipython",
        "version": 3
      },
      "file_extension": ".py",
      "mimetype": "text/x-python",
      "name": "python",
      "nbconvert_exporter": "python",
      "pygments_lexer": "ipython3",
      "version": "3.12.2"
    }
  },
  "nbformat": 4,
  "nbformat_minor": 0
}