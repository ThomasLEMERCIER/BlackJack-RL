{
  "cells": [
    {
      "cell_type": "markdown",
      "metadata": {
        "id": "5IX5AzyVmJmh"
      },
      "source": [
        "# Benchmarking RL methods to solve BlackJack\n"
      ]
    },
    {
      "cell_type": "markdown",
      "metadata": {
        "id": "S6HQNwj2mRKL"
      },
      "source": [
        "Thomas Lemercier & Gaspard Berthelier"
      ]
    },
    {
      "cell_type": "markdown",
      "metadata": {
        "id": "EbUr9u7-mTHs"
      },
      "source": [
        "## Imports"
      ]
    },
    {
      "cell_type": "code",
      "execution_count": 1,
      "metadata": {
        "colab": {
          "base_uri": "https://localhost:8080/"
        },
        "id": "WtHOWPSYmsqH",
        "outputId": "b806b029-f27d-45af-fbd0-1e59c83e5d89"
      },
      "outputs": [
        {
          "output_type": "stream",
          "name": "stdout",
          "text": [
            "Drive already mounted at /content/drive; to attempt to forcibly remount, call drive.mount(\"/content/drive\", force_remount=True).\n",
            "/content/drive/MyDrive/RL/blackjack\n"
          ]
        }
      ],
      "source": [
        "from google.colab import drive\n",
        "drive.mount(\"/content/drive\")\n",
        "%cd /content/drive/MyDrive/RL/blackjack"
      ]
    },
    {
      "cell_type": "code",
      "execution_count": 2,
      "metadata": {
        "id": "xLiubk8DOCKa"
      },
      "outputs": [],
      "source": [
        "import gym\n",
        "import time\n",
        "from tqdm import tqdm\n",
        "import numpy as np"
      ]
    },
    {
      "cell_type": "code",
      "execution_count": 3,
      "metadata": {
        "id": "xz1mM5hjSX9Z",
        "colab": {
          "base_uri": "https://localhost:8080/"
        },
        "outputId": "dedcfed8-dbcb-42b6-b34b-9a661cf24479"
      },
      "outputs": [
        {
          "output_type": "stream",
          "name": "stderr",
          "text": [
            "/usr/local/lib/python3.10/dist-packages/ipykernel/ipkernel.py:283: DeprecationWarning: `should_run_async` will not call `transform_cell` automatically in the future. Please pass the result to `transformed_cell` argument and any exception that happen during thetransform in `preprocessing_exc_tuple` in IPython 7.17 and above.\n",
            "  and should_run_async(code)\n"
          ]
        }
      ],
      "source": [
        "from src.utils.general import state_to_index, get_num_states, state_to_tensor_encoding\n",
        "from src.utils.data_struct import Transition\n",
        "from src.agents import Agent\n",
        "from src.utils.visualization import plot_policy_simple_blackjack\n",
        "\n",
        "\n",
        "def play_episode(env: gym.Env, agent: Agent, render: bool = False, array_encoding: bool = False):\n",
        "    \"\"\"plays one episode of given agent\"\"\"\n",
        "    state = env.reset()\n",
        "    if render:\n",
        "        env.render()\n",
        "    if array_encoding:\n",
        "        state = state_to_tensor_encoding(state, env.observation_space)\n",
        "    else:\n",
        "        state = state_to_index(state, env.observation_space)\n",
        "    terminated = False\n",
        "    while not terminated:\n",
        "        action = agent.get_best_action(state)\n",
        "        next_state, reward, terminated, _, _ = env.step(action)\n",
        "        if render:\n",
        "            env.render()\n",
        "        if array_encoding:\n",
        "            next_state = state_to_tensor_encoding(next_state, env.observation_space)\n",
        "        else:\n",
        "            next_state = state_to_index(next_state, env.observation_space)\n",
        "        state = next_state\n",
        "    return reward"
      ]
    },
    {
      "cell_type": "code",
      "execution_count": 4,
      "metadata": {
        "id": "7_wi1CGbaXYs",
        "colab": {
          "base_uri": "https://localhost:8080/"
        },
        "outputId": "9883c578-aee2-4a33-9b02-1b654ce7fb36"
      },
      "outputs": [
        {
          "output_type": "stream",
          "name": "stderr",
          "text": [
            "/usr/local/lib/python3.10/dist-packages/ipykernel/ipkernel.py:283: DeprecationWarning: `should_run_async` will not call `transform_cell` automatically in the future. Please pass the result to `transformed_cell` argument and any exception that happen during thetransform in `preprocessing_exc_tuple` in IPython 7.17 and above.\n",
            "  and should_run_async(code)\n"
          ]
        }
      ],
      "source": [
        "def play_policy(env: gym.Env, agent: Agent, n_test_episodes: int,  array_encoding: bool = False):\n",
        "  \"\"\"test the agent's policy on multiple episodes, prints the last one\"\"\"\n",
        "  rewards = [play_episode(env, agent, render= i == n_test_episodes-1, array_encoding=array_encoding) for i in range(n_test_episodes)]\n",
        "  rewards = np.array(rewards)\n",
        "  n_wins = np.sum(rewards == 1)\n",
        "  n_draws = np.sum(rewards == 0)\n",
        "  print(f\"Win rate: {n_wins / n_test_episodes:.4f}\")\n",
        "  print(f\"Draw rate: {n_draws / n_test_episodes:.4f}\")"
      ]
    },
    {
      "cell_type": "code",
      "execution_count": 5,
      "metadata": {
        "id": "C1bhUODb1ila"
      },
      "outputs": [],
      "source": [
        "n_episodes = 500_000\n",
        "n_test_episodes = 100_000"
      ]
    },
    {
      "cell_type": "markdown",
      "metadata": {
        "id": "mEW-HDRRNspy"
      },
      "source": [
        "## Infinite Deck"
      ]
    },
    {
      "cell_type": "markdown",
      "metadata": {
        "id": "Eat3HW85vqjI"
      },
      "source": [
        "Infinite deck, aka probabilities of drawing each card remains constant"
      ]
    },
    {
      "cell_type": "code",
      "execution_count": 6,
      "metadata": {
        "id": "uWjp0tF0P8Qr"
      },
      "outputs": [],
      "source": [
        "from src.envs import InfiniteSimpleBlackjack\n",
        "env = InfiniteSimpleBlackjack(seed=42)"
      ]
    },
    {
      "cell_type": "markdown",
      "metadata": {
        "id": "z2iNpf3mN788"
      },
      "source": [
        "### Random"
      ]
    },
    {
      "cell_type": "markdown",
      "metadata": {
        "id": "hr0AXicDvuKs"
      },
      "source": [
        "Random agent which takes action randomly at each step"
      ]
    },
    {
      "cell_type": "code",
      "execution_count": 7,
      "metadata": {
        "id": "waKQO4rJWOpU",
        "colab": {
          "base_uri": "https://localhost:8080/"
        },
        "outputId": "6888a9a2-3c38-4be5-cf60-4ab2030f8cb4"
      },
      "outputs": [
        {
          "output_type": "stream",
          "name": "stdout",
          "text": [
            "\n",
            "Player's hand: [10, 9] (value: 19)\n",
            "Dealer's hand: [10, 4] (value: 14)\n",
            "Current state: [19 10  0]\n",
            "\n",
            "\n",
            "Player's hand: [10, 9, 5] (value: 24)\n",
            "Dealer's hand: [10, 4] (value: 14)\n",
            "Current state: [24 10  0]\n",
            "\n",
            "Win rate: 0.2785\n",
            "Draw rate: 0.0419\n"
          ]
        }
      ],
      "source": [
        "from src.agents import RandomAgent\n",
        "\n",
        "agent = RandomAgent(env.action_space)\n",
        "play_policy(env, agent, n_test_episodes)"
      ]
    },
    {
      "cell_type": "markdown",
      "metadata": {
        "id": "3FApiNG6N1h5"
      },
      "source": [
        "### Sarsa"
      ]
    },
    {
      "cell_type": "code",
      "execution_count": 8,
      "metadata": {
        "id": "ldaEeJFt1ile"
      },
      "outputs": [],
      "source": [
        "from src.explorations import EpsilonGreedy, UCB\n",
        "from src.utils.data_struct import SarsaParameters\n",
        "from src.agents import SarsaAgent\n",
        "\n",
        "def main_sarsa(env: gym.Env, agent: SarsaAgent, n_episodes: int):\n",
        "    start = time.time()\n",
        "    n_wins = 0\n",
        "    n_draws = 0\n",
        "    for _ in tqdm(range(n_episodes)):\n",
        "        state = env.reset()\n",
        "        state = state_to_index(state, env.observation_space)\n",
        "        terminated = False\n",
        "        action = agent.act(state)\n",
        "        while not terminated:\n",
        "            next_state, reward, terminated, _, _ = env.step(action)\n",
        "            next_state = state_to_index(next_state, env.observation_space)\n",
        "\n",
        "            transition = Transition(state=state, action=action, next_state=next_state, reward=reward, done=terminated)\n",
        "\n",
        "            action = agent.act(next_state)\n",
        "            state = next_state\n",
        "            agent.step(transition, action)\n",
        "\n",
        "        if reward == 1:\n",
        "            n_wins += 1\n",
        "        elif reward == 0:\n",
        "            n_draws += 1\n",
        "\n",
        "    print(f\"Win rate: {n_wins / n_episodes:.4f}\")\n",
        "    print(f\"Draw rate: {n_draws / n_episodes:.4f}\")\n",
        "\n",
        "    print(f\"\\nTime taken: {time.time() - start:.4f} seconds\")"
      ]
    },
    {
      "cell_type": "code",
      "execution_count": 9,
      "metadata": {
        "colab": {
          "base_uri": "https://localhost:8080/"
        },
        "id": "RnVNmgvvW2ae",
        "outputId": "c69bc02d-9664-411a-86aa-8bebdc04ce15"
      },
      "outputs": [
        {
          "output_type": "stream",
          "name": "stderr",
          "text": [
            "100%|██████████| 500000/500000 [01:49<00:00, 4551.27it/s]\n"
          ]
        },
        {
          "output_type": "stream",
          "name": "stdout",
          "text": [
            "Win rate: 0.3606\n",
            "Draw rate: 0.0773\n",
            "\n",
            "Time taken: 109.8691 seconds\n"
          ]
        }
      ],
      "source": [
        "exploration = UCB(num_states=get_num_states(env.observation_space), num_actions=env.action_space.n, seed=42)\n",
        "qlearning_parameters = SarsaParameters(num_states=get_num_states(env.observation_space), num_actions=env.action_space.n)\n",
        "agent = SarsaAgent(qlearning_parameters, exploration)\n",
        "\n",
        "main_sarsa(env, agent, n_episodes)"
      ]
    },
    {
      "cell_type": "code",
      "execution_count": 10,
      "metadata": {
        "id": "WFmjjikZXsEH",
        "colab": {
          "base_uri": "https://localhost:8080/",
          "height": 720
        },
        "outputId": "20fbd02e-cbf0-43be-d76f-fe92a8adc9eb"
      },
      "outputs": [
        {
          "output_type": "display_data",
          "data": {
            "text/plain": [
              "<Figure size 1000x500 with 4 Axes>"
            ],
            "image/png": "[encoded data removed]"
          },
          "metadata": {}
        },
        {
          "output_type": "stream",
          "name": "stdout",
          "text": [
            "\n",
            "Player's hand: [9, 10] (value: 19)\n",
            "Dealer's hand: [7, 9] (value: 16)\n",
            "Current state: [19  7  0]\n",
            "\n",
            "\n",
            "Player's hand: [9, 10] (value: 19)\n",
            "Dealer's hand: [7, 9, 3] (value: 19)\n",
            "Current state: [19  7  0]\n",
            "\n",
            "Win rate: 0.3586\n",
            "Draw rate: 0.0756\n"
          ]
        }
      ],
      "source": [
        "policy = agent.get_policy()\n",
        "plot_policy_simple_blackjack(policy, env.observation_space)\n",
        "\n",
        "play_policy(env, agent, n_test_episodes)"
      ]
    },
    {
      "cell_type": "code",
      "source": [
        "#epsilon greedy 0.8\n",
        "\n",
        "exploration = EpsilonGreedy(epsilon=0.8, decay=0.999999, seed=42)\n",
        "qlearning_parameters = SarsaParameters(num_states=get_num_states(env.observation_space), num_actions=env.action_space.n)\n",
        "agent = SarsaAgent(qlearning_parameters, exploration)\n",
        "\n",
        "main_sarsa(env, agent, n_episodes)\n",
        "\n",
        "policy = agent.get_policy()\n",
        "play_policy(env, agent, n_test_episodes)"
      ],
      "metadata": {
        "colab": {
          "base_uri": "https://localhost:8080/"
        },
        "id": "GiO6x2fV16A2",
        "outputId": "2ee8f46a-5c9e-44a7-9f4c-02e417a49b01"
      },
      "execution_count": 11,
      "outputs": [
        {
          "output_type": "stream",
          "name": "stderr",
          "text": [
            "100%|██████████| 500000/500000 [00:44<00:00, 11223.96it/s]\n"
          ]
        },
        {
          "output_type": "stream",
          "name": "stdout",
          "text": [
            "Win rate: 0.3303\n",
            "Draw rate: 0.0634\n",
            "\n",
            "Time taken: 44.5555 seconds\n",
            "\n",
            "Player's hand: [4, 6] (value: 10)\n",
            "Dealer's hand: [9, 6] (value: 15)\n",
            "Current state: [10  9  0]\n",
            "\n",
            "\n",
            "Player's hand: [4, 6, 7] (value: 17)\n",
            "Dealer's hand: [9, 6] (value: 15)\n",
            "Current state: [17  9  0]\n",
            "\n",
            "\n",
            "Player's hand: [4, 6, 7, 11] (value: 18)\n",
            "Dealer's hand: [9, 6] (value: 15)\n",
            "Current state: [18  9  0]\n",
            "\n",
            "\n",
            "Player's hand: [4, 6, 7, 11, 8] (value: 26)\n",
            "Dealer's hand: [9, 6] (value: 15)\n",
            "Current state: [26  9  0]\n",
            "\n",
            "Win rate: 0.3851\n",
            "Draw rate: 0.0834\n"
          ]
        }
      ]
    },
    {
      "cell_type": "code",
      "source": [
        "#epsilon greedy 0.2\n",
        "\n",
        "exploration = EpsilonGreedy(epsilon=0.2, decay=0.999999, seed=42)\n",
        "qlearning_parameters = SarsaParameters(num_states=get_num_states(env.observation_space), num_actions=env.action_space.n)\n",
        "agent = SarsaAgent(qlearning_parameters, exploration)\n",
        "\n",
        "main_sarsa(env, agent, n_episodes)\n",
        "\n",
        "policy = agent.get_policy()\n",
        "play_policy(env, agent, n_test_episodes)"
      ],
      "metadata": {
        "colab": {
          "base_uri": "https://localhost:8080/"
        },
        "id": "QlUe9weNb11c",
        "outputId": "aeb6253b-bc4e-46e9-aa70-873bba9e99fc"
      },
      "execution_count": 12,
      "outputs": [
        {
          "output_type": "stream",
          "name": "stderr",
          "text": [
            "100%|██████████| 500000/500000 [00:47<00:00, 10615.71it/s]\n"
          ]
        },
        {
          "output_type": "stream",
          "name": "stdout",
          "text": [
            "Win rate: 0.3676\n",
            "Draw rate: 0.0778\n",
            "\n",
            "Time taken: 47.1095 seconds\n",
            "\n",
            "Player's hand: [5, 4] (value: 9)\n",
            "Dealer's hand: [2, 4] (value: 6)\n",
            "Current state: [9 2 0]\n",
            "\n",
            "\n",
            "Player's hand: [5, 4, 2] (value: 11)\n",
            "Dealer's hand: [2, 4] (value: 6)\n",
            "Current state: [11  2  0]\n",
            "\n",
            "\n",
            "Player's hand: [5, 4, 2, 4] (value: 15)\n",
            "Dealer's hand: [2, 4] (value: 6)\n",
            "Current state: [15  2  0]\n",
            "\n",
            "\n",
            "Player's hand: [5, 4, 2, 4, 10] (value: 25)\n",
            "Dealer's hand: [2, 4] (value: 6)\n",
            "Current state: [25  2  0]\n",
            "\n",
            "Win rate: 0.3841\n",
            "Draw rate: 0.0857\n"
          ]
        }
      ]
    },
    {
      "cell_type": "markdown",
      "metadata": {
        "id": "xtshRf6XN3La"
      },
      "source": [
        "### Q Learning"
      ]
    },
    {
      "cell_type": "code",
      "execution_count": 13,
      "metadata": {
        "id": "99queHAwZ3a_"
      },
      "outputs": [],
      "source": [
        "from src.agents import QlearningAgent\n",
        "from src.utils.data_struct import QlearningParameters\n",
        "\n",
        "def main_qlearning(env: gym.Env, agent: QlearningAgent, n_episodes: int):\n",
        "    start = time.time()\n",
        "    n_wins = 0\n",
        "    n_draws = 0\n",
        "    for _ in tqdm(range(n_episodes)):\n",
        "        state = env.reset()\n",
        "        state = state_to_index(state, env.observation_space)\n",
        "        terminated = False\n",
        "        while not terminated:\n",
        "            action = agent.act(state)\n",
        "            next_state, reward, terminated, _, _ = env.step(action)\n",
        "            next_state = state_to_index(next_state, env.observation_space)\n",
        "\n",
        "            transition = Transition(state=state, action=action, next_state=next_state, reward=reward, done=terminated)\n",
        "\n",
        "            state = next_state\n",
        "            agent.step(transition)\n",
        "\n",
        "        if reward == 1:\n",
        "            n_wins += 1\n",
        "        elif reward == 0:\n",
        "            n_draws += 1\n",
        "\n",
        "    print(f\"Win rate: {n_wins / n_episodes:.4f}\")\n",
        "    print(f\"Draw rate: {n_draws / n_episodes:.4f}\")\n",
        "    print(f\"\\nTime taken: {time.time() - start:.4f} seconds\")"
      ]
    },
    {
      "cell_type": "code",
      "execution_count": 14,
      "metadata": {
        "id": "qYznTMeJNup1",
        "colab": {
          "base_uri": "https://localhost:8080/"
        },
        "outputId": "df8b27c7-4cdb-43ab-c875-d1cadcf6921a"
      },
      "outputs": [
        {
          "output_type": "stream",
          "name": "stderr",
          "text": [
            "100%|██████████| 500000/500000 [01:33<00:00, 5367.42it/s]"
          ]
        },
        {
          "output_type": "stream",
          "name": "stdout",
          "text": [
            "Win rate: 0.3600\n",
            "Draw rate: 0.0771\n",
            "\n",
            "Time taken: 93.1633 seconds\n"
          ]
        },
        {
          "output_type": "stream",
          "name": "stderr",
          "text": [
            "\n"
          ]
        }
      ],
      "source": [
        "exploration = UCB(num_states=get_num_states(env.observation_space), num_actions=env.action_space.n, seed=42)\n",
        "qlearning_parameters = QlearningParameters(num_states=get_num_states(env.observation_space), num_actions=env.action_space.n)\n",
        "agent = QlearningAgent(qlearning_parameters, exploration)\n",
        "\n",
        "main_qlearning(env, agent, n_episodes)"
      ]
    },
    {
      "cell_type": "code",
      "execution_count": 15,
      "metadata": {
        "id": "09rcWZWGY-0J",
        "colab": {
          "base_uri": "https://localhost:8080/",
          "height": 807
        },
        "outputId": "f1088258-6113-469c-8a80-cc6a106f4b76"
      },
      "outputs": [
        {
          "output_type": "display_data",
          "data": {
            "text/plain": [
              "<Figure size 1000x500 with 4 Axes>"
            ],
            "image/png": "[encoded data removed]"
          },
          "metadata": {}
        },
        {
          "output_type": "stream",
          "name": "stdout",
          "text": [
            "\n",
            "Player's hand: [5, 10] (value: 15)\n",
            "Dealer's hand: [10, 5] (value: 15)\n",
            "Current state: [15 10  0]\n",
            "\n",
            "\n",
            "Player's hand: [5, 10, 3] (value: 18)\n",
            "Dealer's hand: [10, 5] (value: 15)\n",
            "Current state: [18 10  0]\n",
            "\n",
            "\n",
            "Player's hand: [5, 10, 3, 6] (value: 24)\n",
            "Dealer's hand: [10, 5] (value: 15)\n",
            "Current state: [24 10  0]\n",
            "\n",
            "Win rate: 0.3567\n",
            "Draw rate: 0.0770\n"
          ]
        }
      ],
      "source": [
        "policy = agent.get_policy()\n",
        "plot_policy_simple_blackjack(policy, env.observation_space)\n",
        "\n",
        "play_policy(env, agent, n_test_episodes)"
      ]
    },
    {
      "cell_type": "code",
      "source": [
        "#epsilon greedy 0.8\n",
        "\n",
        "exploration = EpsilonGreedy(epsilon=0.8, decay=0.999999, seed=42)\n",
        "qlearning_parameters = QlearningParameters(num_states=get_num_states(env.observation_space), num_actions=env.action_space.n)\n",
        "agent = QlearningAgent(qlearning_parameters, exploration)\n",
        "\n",
        "main_qlearning(env, agent, n_episodes)\n",
        "\n",
        "policy = agent.get_policy()\n",
        "play_policy(env, agent, n_test_episodes)"
      ],
      "metadata": {
        "colab": {
          "base_uri": "https://localhost:8080/"
        },
        "id": "DSSFpS3K2DAD",
        "outputId": "613b33a3-e14a-4452-bc75-7e03fbcb79c9"
      },
      "execution_count": 16,
      "outputs": [
        {
          "output_type": "stream",
          "name": "stderr",
          "text": [
            "100%|██████████| 500000/500000 [00:49<00:00, 10152.75it/s]\n"
          ]
        },
        {
          "output_type": "stream",
          "name": "stdout",
          "text": [
            "Win rate: 0.3221\n",
            "Draw rate: 0.0581\n",
            "\n",
            "Time taken: 49.2533 seconds\n",
            "\n",
            "Player's hand: [10, 7] (value: 17)\n",
            "Dealer's hand: [6, 5] (value: 11)\n",
            "Current state: [17  6  0]\n",
            "\n",
            "\n",
            "Player's hand: [10, 7] (value: 17)\n",
            "Dealer's hand: [6, 5, 7] (value: 18)\n",
            "Current state: [17  6  0]\n",
            "\n",
            "Win rate: 0.3936\n",
            "Draw rate: 0.0840\n"
          ]
        }
      ]
    },
    {
      "cell_type": "code",
      "source": [
        "#epsilon greedy 0.2\n",
        "\n",
        "exploration = EpsilonGreedy(epsilon=0.2, decay=0.999999, seed=42)\n",
        "qlearning_parameters = QlearningParameters(num_states=get_num_states(env.observation_space), num_actions=env.action_space.n)\n",
        "agent = QlearningAgent(qlearning_parameters, exploration)\n",
        "\n",
        "main_qlearning(env, agent, n_episodes)\n",
        "\n",
        "policy = agent.get_policy()\n",
        "play_policy(env, agent, n_test_episodes)"
      ],
      "metadata": {
        "colab": {
          "base_uri": "https://localhost:8080/"
        },
        "id": "OHK6lvekb8q6",
        "outputId": "983f3df3-af4f-4292-d053-6c7146c3e3a2"
      },
      "execution_count": 17,
      "outputs": [
        {
          "output_type": "stream",
          "name": "stderr",
          "text": [
            "100%|██████████| 500000/500000 [00:54<00:00, 9180.64it/s]\n"
          ]
        },
        {
          "output_type": "stream",
          "name": "stdout",
          "text": [
            "Win rate: 0.3672\n",
            "Draw rate: 0.0772\n",
            "\n",
            "Time taken: 54.4734 seconds\n",
            "\n",
            "Player's hand: [6, 4] (value: 10)\n",
            "Dealer's hand: [10, 8] (value: 18)\n",
            "Current state: [10 10  0]\n",
            "\n",
            "\n",
            "Player's hand: [6, 4, 11] (value: 21)\n",
            "Dealer's hand: [10, 8] (value: 18)\n",
            "Current state: [21 10  1]\n",
            "\n",
            "\n",
            "Player's hand: [6, 4, 11] (value: 21)\n",
            "Dealer's hand: [10, 8] (value: 18)\n",
            "Current state: [21 10  1]\n",
            "\n",
            "Win rate: 0.3811\n",
            "Draw rate: 0.0778\n"
          ]
        }
      ]
    },
    {
      "cell_type": "markdown",
      "metadata": {
        "id": "V7geU9B_baQk"
      },
      "source": [
        "## Simple Finite"
      ]
    },
    {
      "cell_type": "code",
      "execution_count": 18,
      "metadata": {
        "id": "l6ufzvqkbXx9"
      },
      "outputs": [],
      "source": [
        "from src.envs import SimpleBlackjack\n",
        "env = SimpleBlackjack(seed=42, packs=4)"
      ]
    },
    {
      "cell_type": "markdown",
      "metadata": {
        "id": "cO0og164bXx-"
      },
      "source": [
        "### Random"
      ]
    },
    {
      "cell_type": "code",
      "execution_count": 19,
      "metadata": {
        "id": "XT7BnqI9bXx_",
        "colab": {
          "base_uri": "https://localhost:8080/"
        },
        "outputId": "efb1c25c-5ff6-4bf0-a058-7abecc73af1f"
      },
      "outputs": [
        {
          "output_type": "stream",
          "name": "stdout",
          "text": [
            "\n",
            "Player's hand: [11, 2] (value: 13)\n",
            "Dealer's hand: [10, 7] (value: 17)\n",
            "Current state: [13 10  1  2]\n",
            "\n",
            "\n",
            "Player's hand: [11, 2, 9] (value: 12)\n",
            "Dealer's hand: [10, 7] (value: 17)\n",
            "Current state: [12 10  0  3]\n",
            "\n",
            "\n",
            "Player's hand: [11, 2, 9, 5] (value: 17)\n",
            "Dealer's hand: [10, 7] (value: 17)\n",
            "Current state: [17 10  0  4]\n",
            "\n",
            "\n",
            "Player's hand: [11, 2, 9, 5] (value: 17)\n",
            "Dealer's hand: [10, 7] (value: 17)\n",
            "Current state: [17 10  0  4]\n",
            "\n",
            "Win rate: 0.2791\n",
            "Draw rate: 0.0414\n"
          ]
        }
      ],
      "source": [
        "agent = RandomAgent(env.action_space, seed=42)\n",
        "play_policy(env, agent, n_test_episodes)"
      ]
    },
    {
      "cell_type": "markdown",
      "metadata": {
        "id": "9GvCU1jkbXx_"
      },
      "source": [
        "### Sarsa"
      ]
    },
    {
      "cell_type": "code",
      "execution_count": 20,
      "metadata": {
        "id": "qzY8tIVabXx_",
        "colab": {
          "base_uri": "https://localhost:8080/"
        },
        "outputId": "2d99e916-ccc8-4e01-92ba-acdcc6928286"
      },
      "outputs": [
        {
          "output_type": "stream",
          "name": "stderr",
          "text": [
            "100%|██████████| 500000/500000 [03:08<00:00, 2647.39it/s]"
          ]
        },
        {
          "output_type": "stream",
          "name": "stdout",
          "text": [
            "Win rate: 0.3669\n",
            "Draw rate: 0.0769\n",
            "\n",
            "Time taken: 188.8735 seconds\n"
          ]
        },
        {
          "output_type": "stream",
          "name": "stderr",
          "text": [
            "\n"
          ]
        }
      ],
      "source": [
        "exploration = UCB(num_states=get_num_states(env.observation_space), num_actions=env.action_space.n, seed=42)\n",
        "qlearning_parameters = SarsaParameters(num_states=get_num_states(env.observation_space), num_actions=env.action_space.n)\n",
        "agent = SarsaAgent(qlearning_parameters, exploration)\n",
        "\n",
        "main_sarsa(env, agent, n_episodes)"
      ]
    },
    {
      "cell_type": "code",
      "execution_count": 21,
      "metadata": {
        "id": "WpX49dAlbXx_",
        "colab": {
          "base_uri": "https://localhost:8080/"
        },
        "outputId": "e7c19e94-419a-4f48-de24-a47f60e837c5"
      },
      "outputs": [
        {
          "output_type": "stream",
          "name": "stdout",
          "text": [
            "\n",
            "Player's hand: [2, 6] (value: 8)\n",
            "Dealer's hand: [8, 10] (value: 18)\n",
            "Current state: [8 8 0 2]\n",
            "\n",
            "\n",
            "Player's hand: [2, 6, 8] (value: 16)\n",
            "Dealer's hand: [8, 10] (value: 18)\n",
            "Current state: [16  8  0  3]\n",
            "\n",
            "\n",
            "Player's hand: [2, 6, 8, 10] (value: 26)\n",
            "Dealer's hand: [8, 10] (value: 18)\n",
            "Current state: [26  8  0  4]\n",
            "\n",
            "Win rate: 0.3684\n",
            "Draw rate: 0.0777\n"
          ]
        }
      ],
      "source": [
        "policy = agent.get_policy()\n",
        "play_policy(env, agent, n_test_episodes)"
      ]
    },
    {
      "cell_type": "code",
      "source": [
        "#epsilon greedy 0.8\n",
        "\n",
        "exploration = EpsilonGreedy(epsilon=0.8, decay=0.999999, seed=42)\n",
        "qlearning_parameters = SarsaParameters(num_states=get_num_states(env.observation_space), num_actions=env.action_space.n)\n",
        "agent = SarsaAgent(qlearning_parameters, exploration)\n",
        "\n",
        "main_sarsa(env, agent, n_episodes)\n",
        "\n",
        "policy = agent.get_policy()\n",
        "play_policy(env, agent, n_test_episodes)"
      ],
      "metadata": {
        "colab": {
          "base_uri": "https://localhost:8080/"
        },
        "id": "OhtPvfJo2J0E",
        "outputId": "a8dd0adc-c3cc-4914-9c2f-74bcc80d3cad"
      },
      "execution_count": 22,
      "outputs": [
        {
          "output_type": "stream",
          "name": "stderr",
          "text": [
            "100%|██████████| 500000/500000 [02:00<00:00, 4166.28it/s]\n"
          ]
        },
        {
          "output_type": "stream",
          "name": "stdout",
          "text": [
            "Win rate: 0.3303\n",
            "Draw rate: 0.0620\n",
            "\n",
            "Time taken: 120.0204 seconds\n",
            "\n",
            "Player's hand: [11, 7] (value: 18)\n",
            "Dealer's hand: [7, 3] (value: 10)\n",
            "Current state: [18  7  1  2]\n",
            "\n",
            "\n",
            "Player's hand: [11, 7] (value: 18)\n",
            "Dealer's hand: [7, 3, 2, 10] (value: 22)\n",
            "Current state: [18  7  1  2]\n",
            "\n",
            "Win rate: 0.3841\n",
            "Draw rate: 0.0800\n"
          ]
        }
      ]
    },
    {
      "cell_type": "code",
      "source": [
        "#epsilon greedy 0.2\n",
        "\n",
        "exploration = EpsilonGreedy(epsilon=0.2, decay=0.999999, seed=42)\n",
        "qlearning_parameters = SarsaParameters(num_states=get_num_states(env.observation_space), num_actions=env.action_space.n)\n",
        "agent = SarsaAgent(qlearning_parameters, exploration)\n",
        "\n",
        "main_sarsa(env, agent, n_episodes)\n",
        "\n",
        "policy = agent.get_policy()\n",
        "play_policy(env, agent, n_test_episodes)"
      ],
      "metadata": {
        "colab": {
          "base_uri": "https://localhost:8080/"
        },
        "id": "yeiEwb4C2Pbx",
        "outputId": "4ae040e4-570b-4a00-c371-e376f24ea144"
      },
      "execution_count": 23,
      "outputs": [
        {
          "output_type": "stream",
          "name": "stderr",
          "text": [
            "100%|██████████| 500000/500000 [02:03<00:00, 4058.48it/s]\n"
          ]
        },
        {
          "output_type": "stream",
          "name": "stdout",
          "text": [
            "Win rate: 0.3708\n",
            "Draw rate: 0.0785\n",
            "\n",
            "Time taken: 123.2037 seconds\n",
            "\n",
            "Player's hand: [10, 3] (value: 13)\n",
            "Dealer's hand: [10, 5] (value: 15)\n",
            "Current state: [13 10  0  2]\n",
            "\n",
            "\n",
            "Player's hand: [10, 3, 5] (value: 18)\n",
            "Dealer's hand: [10, 5] (value: 15)\n",
            "Current state: [18 10  0  3]\n",
            "\n",
            "\n",
            "Player's hand: [10, 3, 5, 8] (value: 26)\n",
            "Dealer's hand: [10, 5] (value: 15)\n",
            "Current state: [26 10  0  4]\n",
            "\n",
            "Win rate: 0.3791\n",
            "Draw rate: 0.0810\n"
          ]
        }
      ]
    },
    {
      "cell_type": "markdown",
      "metadata": {
        "id": "_RmWRIHdbXx_"
      },
      "source": [
        "### Q Learning"
      ]
    },
    {
      "cell_type": "code",
      "execution_count": 24,
      "metadata": {
        "id": "JcS-775TbXyA",
        "colab": {
          "base_uri": "https://localhost:8080/"
        },
        "outputId": "f2dcdfa5-c803-4627-d11d-3230c3aa955a"
      },
      "outputs": [
        {
          "output_type": "stream",
          "name": "stderr",
          "text": [
            "100%|██████████| 500000/500000 [02:55<00:00, 2848.51it/s]"
          ]
        },
        {
          "output_type": "stream",
          "name": "stdout",
          "text": [
            "Win rate: 0.3721\n",
            "Draw rate: 0.0804\n",
            "\n",
            "Time taken: 175.5408 seconds\n"
          ]
        },
        {
          "output_type": "stream",
          "name": "stderr",
          "text": [
            "\n"
          ]
        }
      ],
      "source": [
        "exploration = UCB(num_states=get_num_states(env.observation_space), num_actions=env.action_space.n, seed=42)\n",
        "qlearning_parameters = QlearningParameters(num_states=get_num_states(env.observation_space), num_actions=env.action_space.n)\n",
        "agent = QlearningAgent(qlearning_parameters, exploration)\n",
        "\n",
        "main_qlearning(env, agent, n_episodes)"
      ]
    },
    {
      "cell_type": "code",
      "execution_count": 25,
      "metadata": {
        "id": "opY669djbXyA",
        "colab": {
          "base_uri": "https://localhost:8080/"
        },
        "outputId": "bd1d5d6a-cff3-4580-aebe-b680b445d52d"
      },
      "outputs": [
        {
          "output_type": "stream",
          "name": "stdout",
          "text": [
            "\n",
            "Player's hand: [7, 10] (value: 17)\n",
            "Dealer's hand: [5, 4] (value: 9)\n",
            "Current state: [17  5  0  2]\n",
            "\n",
            "\n",
            "Player's hand: [7, 10, 10] (value: 27)\n",
            "Dealer's hand: [5, 4] (value: 9)\n",
            "Current state: [27  5  0  3]\n",
            "\n",
            "Win rate: 0.3595\n",
            "Draw rate: 0.0772\n"
          ]
        }
      ],
      "source": [
        "policy = agent.get_policy()\n",
        "play_policy(env, agent, n_test_episodes)"
      ]
    },
    {
      "cell_type": "code",
      "source": [
        "#epsilon greedy 0.8\n",
        "\n",
        "exploration = EpsilonGreedy(epsilon=0.8, decay=0.999999, seed=42)\n",
        "qlearning_parameters = QlearningParameters(num_states=get_num_states(env.observation_space), num_actions=env.action_space.n)\n",
        "agent = QlearningAgent(qlearning_parameters, exploration)\n",
        "\n",
        "main_qlearning(env, agent, n_episodes)\n",
        "\n",
        "policy = agent.get_policy()\n",
        "play_policy(env, agent, n_test_episodes)"
      ],
      "metadata": {
        "colab": {
          "base_uri": "https://localhost:8080/"
        },
        "id": "05arpQ8m2QsW",
        "outputId": "02ecad72-10d0-4017-fcb7-91d38c1c2931"
      },
      "execution_count": 26,
      "outputs": [
        {
          "output_type": "stream",
          "name": "stderr",
          "text": [
            "100%|██████████| 500000/500000 [02:06<00:00, 3941.34it/s]\n"
          ]
        },
        {
          "output_type": "stream",
          "name": "stdout",
          "text": [
            "Win rate: 0.3228\n",
            "Draw rate: 0.0575\n",
            "\n",
            "Time taken: 126.8664 seconds\n",
            "\n",
            "Player's hand: [6, 10] (value: 16)\n",
            "Dealer's hand: [4, 10] (value: 14)\n",
            "Current state: [16  4  0  2]\n",
            "\n",
            "\n",
            "Player's hand: [6, 10, 9] (value: 25)\n",
            "Dealer's hand: [4, 10] (value: 14)\n",
            "Current state: [25  4  0  3]\n",
            "\n",
            "Win rate: 0.3923\n",
            "Draw rate: 0.0803\n"
          ]
        }
      ]
    },
    {
      "cell_type": "code",
      "source": [
        "#epsilon greedy 0.2\n",
        "\n",
        "exploration = EpsilonGreedy(epsilon=0.2, decay=0.999999, seed=42)\n",
        "qlearning_parameters = QlearningParameters(num_states=get_num_states(env.observation_space), num_actions=env.action_space.n)\n",
        "agent = QlearningAgent(qlearning_parameters, exploration)\n",
        "\n",
        "main_qlearning(env, agent, n_episodes)\n",
        "\n",
        "policy = agent.get_policy()\n",
        "play_policy(env, agent, n_test_episodes)"
      ],
      "metadata": {
        "colab": {
          "base_uri": "https://localhost:8080/"
        },
        "id": "hUzq6IFo2SiA",
        "outputId": "cbbe6f2d-a69f-42ee-dc3c-b69c2ebfae10"
      },
      "execution_count": 27,
      "outputs": [
        {
          "output_type": "stream",
          "name": "stderr",
          "text": [
            "100%|██████████| 500000/500000 [02:12<00:00, 3784.17it/s]\n"
          ]
        },
        {
          "output_type": "stream",
          "name": "stdout",
          "text": [
            "Win rate: 0.3688\n",
            "Draw rate: 0.0765\n",
            "\n",
            "Time taken: 132.1398 seconds\n",
            "\n",
            "Player's hand: [4, 7] (value: 11)\n",
            "Dealer's hand: [8, 4] (value: 12)\n",
            "Current state: [11  8  0  2]\n",
            "\n",
            "\n",
            "Player's hand: [4, 7] (value: 11)\n",
            "Dealer's hand: [8, 4, 4, 10] (value: 26)\n",
            "Current state: [11  8  0  2]\n",
            "\n",
            "Win rate: 0.3812\n",
            "Draw rate: 0.0811\n"
          ]
        }
      ]
    },
    {
      "cell_type": "markdown",
      "metadata": {
        "id": "yyGcuv8qdH5T"
      },
      "source": [
        "## Complete"
      ]
    },
    {
      "cell_type": "code",
      "execution_count": 6,
      "metadata": {
        "id": "zStFwB5HdMyB"
      },
      "outputs": [],
      "source": [
        "from src.envs import Blackjack\n",
        "env = Blackjack(seed=42, packs=4)"
      ]
    },
    {
      "cell_type": "markdown",
      "source": [
        "### Random"
      ],
      "metadata": {
        "id": "4pnR4fHz8By1"
      }
    },
    {
      "cell_type": "code",
      "source": [
        "from src.agents import RandomAgent\n",
        "\n",
        "agent = RandomAgent(env.action_space)\n",
        "play_policy(env, agent, n_test_episodes, array_encoding=True)"
      ],
      "metadata": {
        "colab": {
          "base_uri": "https://localhost:8080/"
        },
        "id": "c4eNkIjC8Bed",
        "outputId": "79c7841e-6aad-4f7c-d04f-42d3bdc7a80e"
      },
      "execution_count": 29,
      "outputs": [
        {
          "output_type": "stream",
          "name": "stdout",
          "text": [
            "\n",
            "Player's hand: [11, 2] (value: 13)\n",
            "Dealer's hand: [10, 7] (value: 17)\n",
            "Current state: {'dealer': 10, 'player': [11, 2]}\n",
            "\n",
            "\n",
            "Player's hand: [11, 2, 9] (value: 12)\n",
            "Dealer's hand: [10, 7] (value: 17)\n",
            "Current state: {'dealer': 10, 'player': [11, 2, 9]}\n",
            "\n",
            "\n",
            "Player's hand: [11, 2, 9, 5] (value: 17)\n",
            "Dealer's hand: [10, 7] (value: 17)\n",
            "Current state: {'dealer': 10, 'player': [11, 2, 9, 5]}\n",
            "\n",
            "\n",
            "Player's hand: [11, 2, 9, 5] (value: 17)\n",
            "Dealer's hand: [10, 7] (value: 17)\n",
            "Current state: {'dealer': 10, 'player': [11, 2, 9, 5]}\n",
            "\n",
            "Win rate: 0.2782\n",
            "Draw rate: 0.0420\n"
          ]
        }
      ]
    },
    {
      "cell_type": "markdown",
      "metadata": {
        "id": "Mo2tjCr_dYYs"
      },
      "source": [
        "### DQN"
      ]
    },
    {
      "cell_type": "code",
      "execution_count": 8,
      "metadata": {
        "id": "I1wPMVBydZjU"
      },
      "outputs": [],
      "source": [
        "from src.agents.dqn import DQN\n",
        "from src.utils.general import get_input_dim_encoding\n",
        "import torch\n",
        "\n",
        "def main_dqn(env: gym.Env, agent: DQN, n_episodes: int):\n",
        "    start = time.time()\n",
        "    n_wins = 0\n",
        "    n_draws = 0\n",
        "    for _ in tqdm(range(n_episodes)):\n",
        "        state = env.reset()\n",
        "        state = state_to_tensor_encoding(state, env.observation_space)\n",
        "        terminated = False\n",
        "        while not terminated:\n",
        "            action = agent.act(state)\n",
        "            next_state, reward, terminated, _, _ = env.step(action)\n",
        "\n",
        "            next_state = state_to_tensor_encoding(next_state, env.observation_space)\n",
        "            action = torch.Tensor([action]).long()\n",
        "            reward = torch.Tensor([reward]).float()\n",
        "            terminated = torch.Tensor([terminated]).float()\n",
        "\n",
        "            transition = Transition(state=state, action=action, next_state=next_state, reward=reward, done=terminated)\n",
        "\n",
        "            state = next_state\n",
        "            agent.step(transition)\n",
        "\n",
        "        if reward == 1:\n",
        "            n_wins += 1\n",
        "        elif reward == 0:\n",
        "            n_draws += 1\n",
        "\n",
        "    print(f\"Win rate: {n_wins / n_episodes:.2f}\")\n",
        "    print(f\"Draw rate: {n_draws / n_episodes:.2f}\")\n",
        "\n",
        "    print(f\"\\nTime taken: {time.time() - start:.2f} seconds\")"
      ]
    },
    {
      "cell_type": "code",
      "execution_count": 31,
      "metadata": {
        "id": "8zGv-gWP1iln"
      },
      "outputs": [],
      "source": [
        "n_episodes = 100_000"
      ]
    },
    {
      "cell_type": "code",
      "execution_count": 32,
      "metadata": {
        "id": "rntxpzokdlty",
        "colab": {
          "base_uri": "https://localhost:8080/"
        },
        "outputId": "5d6c9be3-e9f5-43f8-a129-e2551d09167f"
      },
      "outputs": [
        {
          "output_type": "stream",
          "name": "stderr",
          "text": [
            "100%|██████████| 100000/100000 [06:41<00:00, 248.77it/s]"
          ]
        },
        {
          "output_type": "stream",
          "name": "stdout",
          "text": [
            "Win rate: 0.37\n",
            "Draw rate: 0.05\n",
            "\n",
            "Time taken: 401.99 seconds\n"
          ]
        },
        {
          "output_type": "stream",
          "name": "stderr",
          "text": [
            "\n"
          ]
        }
      ],
      "source": [
        "from src.utils.data_struct import DQNParameters\n",
        "from src.networks import MLP\n",
        "from src.utils.buffer import ReplayBuffer\n",
        "\n",
        "params = DQNParameters()\n",
        "q_network = MLP(get_input_dim_encoding(env.observation_space), 64, env.action_space.n).to(params.device)\n",
        "target_network = MLP(get_input_dim_encoding(env.observation_space), 64, env.action_space.n).to(params.device)\n",
        "target_network.load_state_dict(q_network.state_dict())\n",
        "replay_buffer = ReplayBuffer(10_000)\n",
        "optimizer = torch.optim.AdamW(q_network.parameters(), lr=0.001, weight_decay=0.0001)\n",
        "criterion = torch.nn.MSELoss()\n",
        "exploration = EpsilonGreedy(0.3, 0.9)\n",
        "\n",
        "agent = DQN(q_network, target_network, replay_buffer, optimizer, criterion, exploration, params)\n",
        "main_dqn(env, agent, n_episodes)"
      ]
    },
    {
      "cell_type": "code",
      "execution_count": 33,
      "metadata": {
        "id": "pG6jMxnrdlty",
        "colab": {
          "base_uri": "https://localhost:8080/"
        },
        "outputId": "cd50c433-d117-4731-e4da-805188ba6ea0"
      },
      "outputs": [
        {
          "output_type": "stream",
          "name": "stderr",
          "text": [
            "/usr/local/lib/python3.10/dist-packages/ipykernel/ipkernel.py:283: DeprecationWarning: `should_run_async` will not call `transform_cell` automatically in the future. Please pass the result to `transformed_cell` argument and any exception that happen during thetransform in `preprocessing_exc_tuple` in IPython 7.17 and above.\n",
            "  and should_run_async(code)\n"
          ]
        },
        {
          "output_type": "stream",
          "name": "stdout",
          "text": [
            "\n",
            "Player's hand: [10, 7] (value: 17)\n",
            "Dealer's hand: [3, 9] (value: 12)\n",
            "Current state: {'dealer': 3, 'player': [10, 7]}\n",
            "\n",
            "\n",
            "Player's hand: [10, 7] (value: 17)\n",
            "Dealer's hand: [3, 9, 5] (value: 17)\n",
            "Current state: {'dealer': 3, 'player': [10, 7]}\n",
            "\n",
            "Win rate: 0.3729\n",
            "Draw rate: 0.0518\n"
          ]
        }
      ],
      "source": [
        "play_policy(env, agent, n_test_episodes, array_encoding=True)"
      ]
    },
    {
      "cell_type": "code",
      "source": [
        "#UCB\n",
        "\n",
        "params = DQNParameters()\n",
        "q_network = MLP(get_input_dim_encoding(env.observation_space), 64, env.action_space.n).to(params.device)\n",
        "target_network = MLP(get_input_dim_encoding(env.observation_space), 64, env.action_space.n).to(params.device)\n",
        "target_network.load_state_dict(q_network.state_dict())\n",
        "replay_buffer = ReplayBuffer(10_000)\n",
        "optimizer = torch.optim.AdamW(q_network.parameters(), lr=0.001, weight_decay=0.0001)\n",
        "criterion = torch.nn.MSELoss()\n",
        "exploration = UCB(num_states=get_num_states(env.observation_space), num_actions=env.action_space.n, seed=42)\n",
        "\n",
        "agent = DQN(q_network, target_network, replay_buffer, optimizer, criterion, exploration, params)\n",
        "main_dqn(env, agent, n_episodes)\n",
        "\n",
        "play_policy(env, agent, n_test_episodes, array_encoding=True)"
      ],
      "metadata": {
        "colab": {
          "base_uri": "https://localhost:8080/",
          "height": 332
        },
        "id": "tvGnKhKy9ntm",
        "outputId": "efa3d12a-2f3c-4112-adb7-1812c9b561d6"
      },
      "execution_count": 34,
      "outputs": [
        {
          "output_type": "error",
          "ename": "AttributeError",
          "evalue": "'Dict' object has no attribute 'high'",
          "traceback": [
            "\u001b[0;31m---------------------------------------------------------------------------\u001b[0m",
            "\u001b[0;31mAttributeError\u001b[0m                            Traceback (most recent call last)",
            "\u001b[0;32m<ipython-input-34-6d110796212f>\u001b[0m in \u001b[0;36m<cell line: 8>\u001b[0;34m()\u001b[0m\n\u001b[1;32m      6\u001b[0m \u001b[0moptimizer\u001b[0m \u001b[0;34m=\u001b[0m \u001b[0mtorch\u001b[0m\u001b[0;34m.\u001b[0m\u001b[0moptim\u001b[0m\u001b[0;34m.\u001b[0m\u001b[0mAdamW\u001b[0m\u001b[0;34m(\u001b[0m\u001b[0mq_network\u001b[0m\u001b[0;34m.\u001b[0m\u001b[0mparameters\u001b[0m\u001b[0;34m(\u001b[0m\u001b[0;34m)\u001b[0m\u001b[0;34m,\u001b[0m \u001b[0mlr\u001b[0m\u001b[0;34m=\u001b[0m\u001b[0;36m0.001\u001b[0m\u001b[0;34m,\u001b[0m \u001b[0mweight_decay\u001b[0m\u001b[0;34m=\u001b[0m\u001b[0;36m0.0001\u001b[0m\u001b[0;34m)\u001b[0m\u001b[0;34m\u001b[0m\u001b[0;34m\u001b[0m\u001b[0m\n\u001b[1;32m      7\u001b[0m \u001b[0mcriterion\u001b[0m \u001b[0;34m=\u001b[0m \u001b[0mtorch\u001b[0m\u001b[0;34m.\u001b[0m\u001b[0mnn\u001b[0m\u001b[0;34m.\u001b[0m\u001b[0mMSELoss\u001b[0m\u001b[0;34m(\u001b[0m\u001b[0;34m)\u001b[0m\u001b[0;34m\u001b[0m\u001b[0;34m\u001b[0m\u001b[0m\n\u001b[0;32m----> 8\u001b[0;31m \u001b[0mexploration\u001b[0m \u001b[0;34m=\u001b[0m \u001b[0mUCB\u001b[0m\u001b[0;34m(\u001b[0m\u001b[0mnum_states\u001b[0m\u001b[0;34m=\u001b[0m\u001b[0mget_num_states\u001b[0m\u001b[0;34m(\u001b[0m\u001b[0menv\u001b[0m\u001b[0;34m.\u001b[0m\u001b[0mobservation_space\u001b[0m\u001b[0;34m)\u001b[0m\u001b[0;34m,\u001b[0m \u001b[0mnum_actions\u001b[0m\u001b[0;34m=\u001b[0m\u001b[0menv\u001b[0m\u001b[0;34m.\u001b[0m\u001b[0maction_space\u001b[0m\u001b[0;34m.\u001b[0m\u001b[0mn\u001b[0m\u001b[0;34m,\u001b[0m \u001b[0mseed\u001b[0m\u001b[0;34m=\u001b[0m\u001b[0;36m42\u001b[0m\u001b[0;34m)\u001b[0m\u001b[0;34m\u001b[0m\u001b[0;34m\u001b[0m\u001b[0m\n\u001b[0m\u001b[1;32m      9\u001b[0m \u001b[0;34m\u001b[0m\u001b[0m\n\u001b[1;32m     10\u001b[0m \u001b[0magent\u001b[0m \u001b[0;34m=\u001b[0m \u001b[0mDQN\u001b[0m\u001b[0;34m(\u001b[0m\u001b[0mq_network\u001b[0m\u001b[0;34m,\u001b[0m \u001b[0mtarget_network\u001b[0m\u001b[0;34m,\u001b[0m \u001b[0mreplay_buffer\u001b[0m\u001b[0;34m,\u001b[0m \u001b[0moptimizer\u001b[0m\u001b[0;34m,\u001b[0m \u001b[0mcriterion\u001b[0m\u001b[0;34m,\u001b[0m \u001b[0mexploration\u001b[0m\u001b[0;34m,\u001b[0m \u001b[0mparams\u001b[0m\u001b[0;34m)\u001b[0m\u001b[0;34m\u001b[0m\u001b[0;34m\u001b[0m\u001b[0m\n",
            "\u001b[0;32m/content/drive/MyDrive/RL/blackjack/src/utils/general.py\u001b[0m in \u001b[0;36mget_num_states\u001b[0;34m(space)\u001b[0m\n\u001b[1;32m     45\u001b[0m         \u001b[0mint\u001b[0m\u001b[0;34m:\u001b[0m \u001b[0mNumber\u001b[0m \u001b[0mof\u001b[0m \u001b[0mstates\u001b[0m\u001b[0;34m.\u001b[0m\u001b[0;34m\u001b[0m\u001b[0;34m\u001b[0m\u001b[0m\n\u001b[1;32m     46\u001b[0m     \"\"\"\n\u001b[0;32m---> 47\u001b[0;31m     \u001b[0;32mreturn\u001b[0m \u001b[0mnp\u001b[0m\u001b[0;34m.\u001b[0m\u001b[0mprod\u001b[0m\u001b[0;34m(\u001b[0m\u001b[0mspace\u001b[0m\u001b[0;34m.\u001b[0m\u001b[0mhigh\u001b[0m \u001b[0;34m-\u001b[0m \u001b[0mspace\u001b[0m\u001b[0;34m.\u001b[0m\u001b[0mlow\u001b[0m \u001b[0;34m+\u001b[0m \u001b[0;36m1\u001b[0m\u001b[0;34m)\u001b[0m\u001b[0;34m\u001b[0m\u001b[0;34m\u001b[0m\u001b[0m\n\u001b[0m\u001b[1;32m     48\u001b[0m \u001b[0;34m\u001b[0m\u001b[0m\n\u001b[1;32m     49\u001b[0m \u001b[0;34m\u001b[0m\u001b[0m\n",
            "\u001b[0;31mAttributeError\u001b[0m: 'Dict' object has no attribute 'high'"
          ]
        }
      ]
    },
    {
      "cell_type": "markdown",
      "source": [
        "### DQN sequence"
      ],
      "metadata": {
        "id": "zwv069gB2jGI"
      }
    },
    {
      "cell_type": "code",
      "source": [
        "from src.utils.general import state_to_tensor_sequence\n",
        "\n",
        "def main(env: gym.Env, agent: DQN, n_episodes: int):\n",
        "    start = time.time()\n",
        "    n_wins = 0\n",
        "    n_draws = 0\n",
        "    for _ in tqdm(range(n_episodes)):\n",
        "        state = env.reset()\n",
        "        state = state_to_tensor_sequence(state, env.observation_space, env.max_number_of_cards)\n",
        "        terminated = False\n",
        "        while not terminated:\n",
        "            action = agent.act(state)\n",
        "            next_state, reward, terminated, _, _ = env.step(action)\n",
        "\n",
        "            next_state = state_to_tensor_sequence(next_state, env.observation_space, env.max_number_of_cards)\n",
        "            action = torch.Tensor([action]).long()\n",
        "            reward = torch.Tensor([reward]).float()\n",
        "            terminated = torch.Tensor([terminated]).float()\n",
        "\n",
        "            transition = Transition(state=state, action=action, next_state=next_state, reward=reward, done=terminated)\n",
        "\n",
        "            state = next_state\n",
        "            agent.step(transition)\n",
        "\n",
        "        if reward == 1:\n",
        "            n_wins += 1\n",
        "        elif reward == 0:\n",
        "            n_draws += 1\n",
        "\n",
        "    print(f\"Win rate: {n_wins / n_episodes:.2f}\")\n",
        "    print(f\"Draw rate: {n_draws / n_episodes:.2f}\")\n",
        "\n",
        "    print(f\"\\nTime taken: {time.time() - start:.2f} seconds\")\n",
        "\n",
        "def play_episode(env: gym.Env, agent: DQN, render: bool = False):\n",
        "    state = env.reset()\n",
        "    if render:\n",
        "        env.render()\n",
        "    state = state_to_tensor_sequence(state, env.observation_space, env.max_number_of_cards)\n",
        "    terminated = False\n",
        "    while not terminated:\n",
        "        action = agent.get_best_action(state)\n",
        "        next_state, reward, terminated, _, _ = env.step(action)\n",
        "        if render:\n",
        "            env.render()\n",
        "        next_state = state_to_tensor_sequence(next_state, env.observation_space, env.max_number_of_cards)\n",
        "        state = next_state\n",
        "    return reward"
      ],
      "metadata": {
        "id": "jv9zcaRR96nR"
      },
      "execution_count": 35,
      "outputs": []
    },
    {
      "cell_type": "code",
      "source": [
        "params = DQNParameters()\n",
        "q_network = MLP(1 + env.max_number_of_cards, 64, env.action_space.n).to(params.device)\n",
        "target_network = MLP(1 + env.max_number_of_cards, 64, env.action_space.n).to(params.device)\n",
        "target_network.load_state_dict(q_network.state_dict())\n",
        "replay_buffer = ReplayBuffer(10_000)\n",
        "optimizer = torch.optim.AdamW(q_network.parameters(), lr=0.001, weight_decay=0.0001)\n",
        "criterion = torch.nn.MSELoss()\n",
        "exploration = EpsilonGreedy(0.8, 0.99)\n",
        "\n",
        "agent = DQN(q_network, target_network, replay_buffer, optimizer, criterion, exploration, params)\n",
        "main(env, agent, n_episodes)"
      ],
      "metadata": {
        "colab": {
          "base_uri": "https://localhost:8080/"
        },
        "id": "3pFCPZUd2lOx",
        "outputId": "aa230b66-d8f9-4295-c3e3-b3f9603e453b"
      },
      "execution_count": 36,
      "outputs": [
        {
          "output_type": "stream",
          "name": "stderr",
          "text": [
            "100%|██████████| 100000/100000 [06:22<00:00, 261.70it/s]"
          ]
        },
        {
          "output_type": "stream",
          "name": "stdout",
          "text": [
            "Win rate: 0.37\n",
            "Draw rate: 0.06\n",
            "\n",
            "Time taken: 382.13 seconds\n"
          ]
        },
        {
          "output_type": "stream",
          "name": "stderr",
          "text": [
            "\n"
          ]
        }
      ]
    },
    {
      "cell_type": "code",
      "source": [
        "n_test_episodes = 10000\n",
        "rewards = [play_episode(env, agent) for _ in range(n_test_episodes)]\n",
        "n_wins = sum(reward == 1 for reward in rewards)\n",
        "n_draws = sum(reward == 0 for reward in rewards)\n",
        "print(f\"Win rate: {n_wins / n_test_episodes:.4f}\")\n",
        "print(f\"Draw rate: {n_draws / n_test_episodes:.4f}\")"
      ],
      "metadata": {
        "colab": {
          "base_uri": "https://localhost:8080/"
        },
        "id": "-8dR1JvK_kb2",
        "outputId": "8809cd94-ca3f-441c-8147-1a14231b351f"
      },
      "execution_count": 37,
      "outputs": [
        {
          "output_type": "stream",
          "name": "stdout",
          "text": [
            "Win rate: 0.4186\n",
            "Draw rate: 0.0660\n"
          ]
        }
      ]
    },
    {
      "cell_type": "markdown",
      "source": [
        "### DQN encoding"
      ],
      "metadata": {
        "id": "_QLUIWr82p5T"
      }
    },
    {
      "cell_type": "code",
      "source": [
        "from src.utils.data_struct import DQNParameters\n",
        "from src.networks import MLP\n",
        "from src.utils.buffer import ReplayBuffer\n",
        "from src.explorations import EpsilonGreedy, UCB\n",
        "from src.utils.data_struct import SarsaParameters\n",
        "from src.agents import SarsaAgent"
      ],
      "metadata": {
        "id": "D9HO_jWRtis4"
      },
      "execution_count": 12,
      "outputs": []
    },
    {
      "cell_type": "code",
      "source": [
        "params = DQNParameters()\n",
        "q_network = MLP(get_input_dim_encoding(env.observation_space), 64, env.action_space.n).to(params.device)\n",
        "target_network = MLP(get_input_dim_encoding(env.observation_space), 64, env.action_space.n).to(params.device)\n",
        "target_network.load_state_dict(q_network.state_dict())\n",
        "replay_buffer = ReplayBuffer(10_000)\n",
        "optimizer = torch.optim.AdamW(q_network.parameters(), lr=0.001, weight_decay=0.0001)\n",
        "criterion = torch.nn.MSELoss()\n",
        "exploration = EpsilonGreedy(0.8, 0.99)\n",
        "\n",
        "agent = DQN(q_network, target_network, replay_buffer, optimizer, criterion, exploration, params)\n",
        "main_dqn(env, agent, n_episodes)"
      ],
      "metadata": {
        "colab": {
          "base_uri": "https://localhost:8080/"
        },
        "id": "K15E99Wc2t4d",
        "outputId": "cdb31623-6e56-403b-9f31-e9f9d9b2c468"
      },
      "execution_count": 13,
      "outputs": [
        {
          "output_type": "stream",
          "name": "stderr",
          "text": [
            "100%|██████████| 500000/500000 [34:36<00:00, 240.76it/s]"
          ]
        },
        {
          "output_type": "stream",
          "name": "stdout",
          "text": [
            "Win rate: 0.36\n",
            "Draw rate: 0.05\n",
            "\n",
            "Time taken: 2076.73 seconds\n"
          ]
        },
        {
          "output_type": "stream",
          "name": "stderr",
          "text": [
            "\n"
          ]
        }
      ]
    },
    {
      "cell_type": "code",
      "source": [
        "def play_episode(env: gym.Env, agent: DQN, render: bool = False):\n",
        "    state = env.reset()\n",
        "    if render:\n",
        "        env.render()\n",
        "    state = state_to_tensor_encoding(state, env.observation_space)\n",
        "    terminated = False\n",
        "    while not terminated:\n",
        "        action = agent.get_best_action(state)\n",
        "        next_state, reward, terminated, _, _ = env.step(action)\n",
        "        if render:\n",
        "            env.render()\n",
        "        next_state = state_to_tensor_encoding(next_state, env.observation_space)\n",
        "        state = next_state\n",
        "    return reward"
      ],
      "metadata": {
        "id": "9ho-BL4RBGqJ"
      },
      "execution_count": 14,
      "outputs": []
    },
    {
      "cell_type": "code",
      "source": [
        "n_test_episodes = 10000\n",
        "rewards = [play_episode(env, agent) for _ in range(n_test_episodes)]\n",
        "n_wins = sum(reward == 1 for reward in rewards)\n",
        "n_draws = sum(reward == 0 for reward in rewards)\n",
        "print(f\"Win rate: {n_wins / n_test_episodes:.4f}\")\n",
        "print(f\"Draw rate: {n_draws / n_test_episodes:.4f}\")"
      ],
      "metadata": {
        "colab": {
          "base_uri": "https://localhost:8080/"
        },
        "id": "tnjkLravBJXD",
        "outputId": "91616cdd-7983-4359-82a2-aafc5c0cad3f"
      },
      "execution_count": 15,
      "outputs": [
        {
          "output_type": "stream",
          "name": "stdout",
          "text": [
            "Win rate: 0.3756\n",
            "Draw rate: 0.0447\n"
          ]
        }
      ]
    },
    {
      "cell_type": "markdown",
      "source": [
        "### DQN embedding"
      ],
      "metadata": {
        "id": "SImlpQ6X2xIc"
      }
    },
    {
      "cell_type": "code",
      "source": [
        "from src.networks import MLPEmbedding\n",
        "\n",
        "input_range = env.observation_space[\"dealer\"].high.item() - env.observation_space[\"dealer\"].low.item() + 1\n",
        "\n",
        "params = DQNParameters(device=torch.device(\"cpu\"))\n",
        "q_network = MLPEmbedding(1, 64, env.action_space.n, input_range).to(params.device)\n",
        "target_network = MLPEmbedding(1, 64, env.action_space.n, input_range).to(params.device)\n",
        "target_network.load_state_dict(q_network.state_dict())\n",
        "replay_buffer = ReplayBuffer(10_000)\n",
        "optimizer = torch.optim.AdamW(q_network.parameters(), lr=0.001, weight_decay=0.0001)\n",
        "criterion = torch.nn.MSELoss()\n",
        "exploration = EpsilonGreedy(0.8, 0.99)\n",
        "\n",
        "agent = DQN(q_network, target_network, replay_buffer, optimizer, criterion, exploration, params)\n",
        "main_dqn(env, agent, n_episodes)\n",
        "\n",
        "n_test_episodes = 10_000\n",
        "rewards = [play_episode(env, agent) for _ in range(n_test_episodes)]\n",
        "n_wins = sum(reward == 1 for reward in rewards)\n",
        "n_draws = sum(reward == 0 for reward in rewards)\n",
        "print(f\"Win rate: {n_wins / n_test_episodes:.4f}\")\n",
        "print(f\"Draw rate: {n_draws / n_test_episodes:.4f}\")"
      ],
      "metadata": {
        "colab": {
          "base_uri": "https://localhost:8080/"
        },
        "id": "Y5Qhe4KG2zFZ",
        "outputId": "15fe0ba2-ef78-46c7-c173-8e3fd06fe77f"
      },
      "execution_count": 41,
      "outputs": [
        {
          "metadata": {
            "tags": null
          },
          "name": "stderr",
          "output_type": "stream",
          "text": [
            "100%|██████████| 100000/100000 [07:01<00:00, 237.11it/s]\n"
          ]
        },
        {
          "metadata": {
            "tags": null
          },
          "name": "stdout",
          "output_type": "stream",
          "text": [
            "Win rate: 0.37\n",
            "Draw rate: 0.05\n",
            "\n",
            "Time taken: 421.76 seconds\n",
            "Win rate: 0.3685\n",
            "Draw rate: 0.0486\n"
          ]
        }
      ]
    }
  ],
  "metadata": {
    "colab": {
      "provenance": [],
      "collapsed_sections": [
        "EbUr9u7-mTHs",
        "mEW-HDRRNspy",
        "z2iNpf3mN788",
        "3FApiNG6N1h5",
        "xtshRf6XN3La",
        "V7geU9B_baQk",
        "cO0og164bXx-",
        "9GvCU1jkbXx_",
        "_RmWRIHdbXx_",
        "yyGcuv8qdH5T",
        "4pnR4fHz8By1",
        "Mo2tjCr_dYYs",
        "zwv069gB2jGI",
        "_QLUIWr82p5T",
        "SImlpQ6X2xIc"
      ]
    },
    "kernelspec": {
      "display_name": "Python 3",
      "name": "python3"
    },
    "language_info": {
      "codemirror_mode": {
        "name": "ipython",
        "version": 3
      },
      "file_extension": ".py",
      "mimetype": "text/x-python",
      "name": "python",
      "nbconvert_exporter": "python",
      "pygments_lexer": "ipython3",
      "version": "3.12.2"
    }
  },
  "nbformat": 4,
  "nbformat_minor": 0
}