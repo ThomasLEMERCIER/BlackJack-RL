{
  "cells": [
    {
      "cell_type": "markdown",
      "metadata": {
        "id": "5IX5AzyVmJmh"
      },
      "source": [
        "# Benchmarking RL methods to solve BlackJack"
      ]
    },
    {
      "cell_type": "markdown",
      "metadata": {
        "id": "S6HQNwj2mRKL"
      },
      "source": [
        "Thomas Lemercier & Gaspard Berthelier"
      ]
    },
    {
      "cell_type": "markdown",
      "metadata": {
        "id": "EbUr9u7-mTHs"
      },
      "source": [
        "## Imports"
      ]
    },
    {
      "cell_type": "code",
      "execution_count": 1,
      "metadata": {
        "colab": {
          "base_uri": "https://localhost:8080/"
        },
        "id": "WtHOWPSYmsqH",
        "outputId": "b806b029-f27d-45af-fbd0-1e59c83e5d89"
      },
      "outputs": [],
      "source": [
        "# from google.colab import drive\n",
        "# drive.mount(\"/content/drive\")\n",
        "# %cd /content/drive/MyDrive/RL/blackjack"
      ]
    },
    {
      "cell_type": "code",
      "execution_count": 1,
      "metadata": {
        "id": "xLiubk8DOCKa"
      },
      "outputs": [],
      "source": [
        "import gym\n",
        "import time\n",
        "from tqdm import tqdm\n",
        "import numpy as np"
      ]
    },
    {
      "cell_type": "code",
      "execution_count": 2,
      "metadata": {
        "colab": {
          "base_uri": "https://localhost:8080/"
        },
        "id": "xz1mM5hjSX9Z",
        "outputId": "dedcfed8-dbcb-42b6-b34b-9a661cf24479"
      },
      "outputs": [],
      "source": [
        "from src.utils.general import state_to_index, get_num_states, state_to_tensor_encoding\n",
        "from src.utils.data_struct import Transition\n",
        "from src.agents import Agent\n",
        "from src.utils.visualization import plot_policy_simple_blackjack\n",
        "\n",
        "\n",
        "def play_episode(env: gym.Env, agent: Agent, render: bool = False, array_encoding: bool = False):\n",
        "    \"\"\"plays one episode of given agent\"\"\"\n",
        "    state = env.reset()\n",
        "    if render:\n",
        "        env.render()\n",
        "    if array_encoding:\n",
        "        state = state_to_tensor_encoding(state, env.observation_space)\n",
        "    else:\n",
        "        state = state_to_index(state, env.observation_space)\n",
        "    terminated = False\n",
        "    while not terminated:\n",
        "        action = agent.get_best_action(state)\n",
        "        next_state, reward, terminated, _, _ = env.step(action)\n",
        "        if render:\n",
        "            env.render()\n",
        "        if array_encoding:\n",
        "            next_state = state_to_tensor_encoding(next_state, env.observation_space)\n",
        "        else:\n",
        "            next_state = state_to_index(next_state, env.observation_space)\n",
        "        state = next_state\n",
        "    return reward"
      ]
    },
    {
      "cell_type": "code",
      "execution_count": 3,
      "metadata": {
        "colab": {
          "base_uri": "https://localhost:8080/"
        },
        "id": "7_wi1CGbaXYs",
        "outputId": "9883c578-aee2-4a33-9b02-1b654ce7fb36"
      },
      "outputs": [],
      "source": [
        "def play_policy(env: gym.Env, agent: Agent, n_test_episodes: int,  array_encoding: bool = False):\n",
        "  \"\"\"test the agent's policy on multiple episodes, prints the last one\"\"\"\n",
        "  rewards = [play_episode(env, agent, render= i == n_test_episodes-1, array_encoding=array_encoding) for i in range(n_test_episodes)]\n",
        "  rewards = np.array(rewards)\n",
        "  n_wins = np.sum(rewards == 1)\n",
        "  n_draws = np.sum(rewards == 0)\n",
        "  print(f\"Win rate: {n_wins / n_test_episodes:.4f}\")\n",
        "  print(f\"Draw rate: {n_draws / n_test_episodes:.4f}\")"
      ]
    },
    {
      "cell_type": "code",
      "execution_count": 4,
      "metadata": {
        "id": "C1bhUODb1ila"
      },
      "outputs": [],
      "source": [
        "n_episodes = 500_000\n",
        "n_test_episodes = 100_000"
      ]
    },
    {
      "cell_type": "markdown",
      "metadata": {
        "id": "mEW-HDRRNspy"
      },
      "source": [
        "## Infinite Deck"
      ]
    },
    {
      "cell_type": "markdown",
      "metadata": {
        "id": "Eat3HW85vqjI"
      },
      "source": [
        "Infinite deck, aka probabilities of drawing each card remains constant"
      ]
    },
    {
      "cell_type": "code",
      "execution_count": 18,
      "metadata": {
        "id": "uWjp0tF0P8Qr"
      },
      "outputs": [],
      "source": [
        "from src.envs import InfiniteSimpleBlackjack\n",
        "env = InfiniteSimpleBlackjack(seed=42)"
      ]
    },
    {
      "cell_type": "markdown",
      "metadata": {
        "id": "z2iNpf3mN788"
      },
      "source": [
        "### Random"
      ]
    },
    {
      "cell_type": "markdown",
      "metadata": {
        "id": "hr0AXicDvuKs"
      },
      "source": [
        "Random agent which takes action randomly at each step"
      ]
    },
    {
      "cell_type": "code",
      "execution_count": 19,
      "metadata": {
        "colab": {
          "base_uri": "https://localhost:8080/"
        },
        "id": "waKQO4rJWOpU",
        "outputId": "6888a9a2-3c38-4be5-cf60-4ab2030f8cb4"
      },
      "outputs": [
        {
          "name": "stdout",
          "output_type": "stream",
          "text": [
            "\n",
            "Player's hand: [2, 10] (value: 12)\n",
            "Dealer's hand: [10, 9] (value: 19)\n",
            "Current state: [12 10  0]\n",
            "\n",
            "\n",
            "Player's hand: [2, 10] (value: 12)\n",
            "Dealer's hand: [10, 9] (value: 19)\n",
            "Current state: [12 10  0]\n",
            "\n",
            "Win rate: 0.2782\n",
            "Draw rate: 0.0412\n"
          ]
        }
      ],
      "source": [
        "from src.agents import RandomAgent\n",
        "\n",
        "agent = RandomAgent(env.action_space)\n",
        "play_policy(env, agent, n_test_episodes)"
      ]
    },
    {
      "cell_type": "markdown",
      "metadata": {
        "id": "3FApiNG6N1h5"
      },
      "source": [
        "### Sarsa"
      ]
    },
    {
      "cell_type": "code",
      "execution_count": 20,
      "metadata": {
        "id": "ldaEeJFt1ile"
      },
      "outputs": [],
      "source": [
        "from src.explorations import EpsilonGreedy, UCB\n",
        "from src.utils.data_struct import SarsaParameters\n",
        "from src.agents import SarsaAgent\n",
        "\n",
        "def main_sarsa(env: gym.Env, agent: SarsaAgent, n_episodes: int):\n",
        "    start = time.time()\n",
        "    n_wins = 0\n",
        "    n_draws = 0\n",
        "    for _ in tqdm(range(n_episodes)):\n",
        "        state = env.reset()\n",
        "        state = state_to_index(state, env.observation_space)\n",
        "        terminated = False\n",
        "        action = agent.act(state)\n",
        "        while not terminated:\n",
        "            next_state, reward, terminated, _, _ = env.step(action)\n",
        "            next_state = state_to_index(next_state, env.observation_space)\n",
        "\n",
        "            transition = Transition(state=state, action=action, next_state=next_state, reward=reward, done=terminated)\n",
        "\n",
        "            action = agent.act(next_state)\n",
        "            state = next_state\n",
        "            agent.step(transition, action)\n",
        "\n",
        "        if reward == 1:\n",
        "            n_wins += 1\n",
        "        elif reward == 0:\n",
        "            n_draws += 1\n",
        "\n",
        "    print(f\"Win rate: {n_wins / n_episodes:.4f}\")\n",
        "    print(f\"Draw rate: {n_draws / n_episodes:.4f}\")\n",
        "\n",
        "    print(f\"\\nTime taken: {time.time() - start:.4f} seconds\")"
      ]
    },
    {
      "cell_type": "code",
      "execution_count": 21,
      "metadata": {
        "colab": {
          "base_uri": "https://localhost:8080/"
        },
        "id": "RnVNmgvvW2ae",
        "outputId": "c69bc02d-9664-411a-86aa-8bebdc04ce15"
      },
      "outputs": [
        {
          "name": "stderr",
          "output_type": "stream",
          "text": [
            "100%|██████████| 500000/500000 [01:16<00:00, 6521.81it/s]"
          ]
        },
        {
          "name": "stdout",
          "output_type": "stream",
          "text": [
            "Win rate: 0.3700\n",
            "Draw rate: 0.0805\n",
            "\n",
            "Time taken: 76.6689 seconds\n"
          ]
        },
        {
          "name": "stderr",
          "output_type": "stream",
          "text": [
            "\n"
          ]
        }
      ],
      "source": [
        "exploration = UCB(num_states=get_num_states(env.observation_space), num_actions=env.action_space.n, seed=42)\n",
        "sarsa_parameters = SarsaParameters(num_states=get_num_states(env.observation_space), num_actions=env.action_space.n, alpha=0.05, gamma=0.9)\n",
        "agent = SarsaAgent(sarsa_parameters, exploration)\n",
        "\n",
        "main_sarsa(env, agent, n_episodes)"
      ]
    },
    {
      "cell_type": "code",
      "execution_count": 22,
      "metadata": {
        "colab": {
          "base_uri": "https://localhost:8080/",
          "height": 720
        },
        "id": "WFmjjikZXsEH",
        "outputId": "20fbd02e-cbf0-43be-d76f-fe92a8adc9eb"
      },
      "outputs": [
        {
          "data": {
            "image/png": "[encoded data removed]",
            "text/plain": [
              "<Figure size 1000x500 with 4 Axes>"
            ]
          },
          "metadata": {},
          "output_type": "display_data"
        },
        {
          "name": "stdout",
          "output_type": "stream",
          "text": [
            "\n",
            "Player's hand: [10, 8] (value: 18)\n",
            "Dealer's hand: [10, 10] (value: 20)\n",
            "Current state: [18 10  0]\n",
            "\n",
            "\n",
            "Player's hand: [10, 8, 10] (value: 28)\n",
            "Dealer's hand: [10, 10] (value: 20)\n",
            "Current state: [28 10  0]\n",
            "\n",
            "Win rate: 0.3610\n",
            "Draw rate: 0.0783\n"
          ]
        }
      ],
      "source": [
        "policy = agent.get_policy()\n",
        "plot_policy_simple_blackjack(policy, env.observation_space)\n",
        "\n",
        "play_policy(env, agent, n_test_episodes)"
      ]
    },
    {
      "cell_type": "code",
      "execution_count": 24,
      "metadata": {
        "colab": {
          "base_uri": "https://localhost:8080/"
        },
        "id": "GiO6x2fV16A2",
        "outputId": "2ee8f46a-5c9e-44a7-9f4c-02e417a49b01"
      },
      "outputs": [
        {
          "name": "stderr",
          "output_type": "stream",
          "text": [
            "100%|██████████| 500000/500000 [00:32<00:00, 15200.40it/s]\n"
          ]
        },
        {
          "name": "stdout",
          "output_type": "stream",
          "text": [
            "Win rate: 0.3678\n",
            "Draw rate: 0.0787\n",
            "\n",
            "Time taken: 32.8949 seconds\n",
            "\n",
            "Player's hand: [8, 10] (value: 18)\n",
            "Dealer's hand: [6, 10] (value: 16)\n",
            "Current state: [18  6  0]\n",
            "\n",
            "\n",
            "Player's hand: [8, 10] (value: 18)\n",
            "Dealer's hand: [6, 10, 5] (value: 21)\n",
            "Current state: [18  6  0]\n",
            "\n",
            "Win rate: 0.3822\n",
            "Draw rate: 0.0842\n"
          ]
        }
      ],
      "source": [
        "exploration = EpsilonGreedy(epsilon=0.1, decay=1, seed=42)\n",
        "sarsa_parameters = SarsaParameters(num_states=get_num_states(env.observation_space), num_actions=env.action_space.n, alpha=0.05, gamma=0.9)\n",
        "agent = SarsaAgent(sarsa_parameters, exploration)\n",
        "\n",
        "main_sarsa(env, agent, n_episodes)"
      ]
    },
    {
      "cell_type": "code",
      "execution_count": 25,
      "metadata": {},
      "outputs": [
        {
          "data": {
            "image/png": "[encoded data removed]",
            "text/plain": [
              "<Figure size 1000x500 with 4 Axes>"
            ]
          },
          "metadata": {},
          "output_type": "display_data"
        },
        {
          "name": "stdout",
          "output_type": "stream",
          "text": [
            "\n",
            "Player's hand: [10, 10] (value: 20)\n",
            "Dealer's hand: [11, 4] (value: 15)\n",
            "Current state: [20 11  0]\n",
            "\n",
            "\n",
            "Player's hand: [10, 10] (value: 20)\n",
            "Dealer's hand: [11, 4, 7, 10] (value: 22)\n",
            "Current state: [20 11  0]\n",
            "\n",
            "Win rate: 0.3826\n",
            "Draw rate: 0.0860\n"
          ]
        }
      ],
      "source": [
        "policy = agent.get_policy()\n",
        "plot_policy_simple_blackjack(policy, env.observation_space, title=\"SARSA policy (epsilon-greedy)\")\n",
        "\n",
        "play_policy(env, agent, n_test_episodes)"
      ]
    },
    {
      "cell_type": "markdown",
      "metadata": {
        "id": "xtshRf6XN3La"
      },
      "source": [
        "### Q Learning"
      ]
    },
    {
      "cell_type": "code",
      "execution_count": 26,
      "metadata": {
        "id": "99queHAwZ3a_"
      },
      "outputs": [],
      "source": [
        "from src.agents import QlearningAgent\n",
        "from src.utils.data_struct import QlearningParameters\n",
        "\n",
        "def main_qlearning(env: gym.Env, agent: QlearningAgent, n_episodes: int):\n",
        "    start = time.time()\n",
        "    n_wins = 0\n",
        "    n_draws = 0\n",
        "    for _ in tqdm(range(n_episodes)):\n",
        "        state = env.reset()\n",
        "        state = state_to_index(state, env.observation_space)\n",
        "        terminated = False\n",
        "        while not terminated:\n",
        "            action = agent.act(state)\n",
        "            next_state, reward, terminated, _, _ = env.step(action)\n",
        "            next_state = state_to_index(next_state, env.observation_space)\n",
        "\n",
        "            transition = Transition(state=state, action=action, next_state=next_state, reward=reward, done=terminated)\n",
        "\n",
        "            state = next_state\n",
        "            agent.step(transition)\n",
        "\n",
        "        if reward == 1:\n",
        "            n_wins += 1\n",
        "        elif reward == 0:\n",
        "            n_draws += 1\n",
        "\n",
        "    print(f\"Win rate: {n_wins / n_episodes:.4f}\")\n",
        "    print(f\"Draw rate: {n_draws / n_episodes:.4f}\")\n",
        "    print(f\"\\nTime taken: {time.time() - start:.4f} seconds\")"
      ]
    },
    {
      "cell_type": "code",
      "execution_count": 27,
      "metadata": {
        "colab": {
          "base_uri": "https://localhost:8080/"
        },
        "id": "qYznTMeJNup1",
        "outputId": "df8b27c7-4cdb-43ab-c875-d1cadcf6921a"
      },
      "outputs": [
        {
          "name": "stderr",
          "output_type": "stream",
          "text": [
            "100%|██████████| 500000/500000 [01:03<00:00, 7886.75it/s]"
          ]
        },
        {
          "name": "stdout",
          "output_type": "stream",
          "text": [
            "Win rate: 0.3762\n",
            "Draw rate: 0.0804\n",
            "\n",
            "Time taken: 63.3995 seconds\n"
          ]
        },
        {
          "name": "stderr",
          "output_type": "stream",
          "text": [
            "\n"
          ]
        }
      ],
      "source": [
        "exploration = UCB(num_states=get_num_states(env.observation_space), num_actions=env.action_space.n, seed=42)\n",
        "qlearning_parameters = QlearningParameters(num_states=get_num_states(env.observation_space), num_actions=env.action_space.n, alpha=0.05, gamma=0.9)\n",
        "agent = QlearningAgent(qlearning_parameters, exploration)\n",
        "\n",
        "main_qlearning(env, agent, n_episodes)"
      ]
    },
    {
      "cell_type": "code",
      "execution_count": 28,
      "metadata": {
        "colab": {
          "base_uri": "https://localhost:8080/",
          "height": 807
        },
        "id": "09rcWZWGY-0J",
        "outputId": "f1088258-6113-469c-8a80-cc6a106f4b76"
      },
      "outputs": [
        {
          "data": {
            "image/png": "[encoded data removed]",
            "text/plain": [
              "<Figure size 1000x500 with 4 Axes>"
            ]
          },
          "metadata": {},
          "output_type": "display_data"
        },
        {
          "name": "stdout",
          "output_type": "stream",
          "text": [
            "\n",
            "Player's hand: [8, 9] (value: 17)\n",
            "Dealer's hand: [10, 9] (value: 19)\n",
            "Current state: [17 10  0]\n",
            "\n",
            "\n",
            "Player's hand: [8, 9, 10] (value: 27)\n",
            "Dealer's hand: [10, 9] (value: 19)\n",
            "Current state: [27 10  0]\n",
            "\n",
            "Win rate: 0.3749\n",
            "Draw rate: 0.0818\n"
          ]
        }
      ],
      "source": [
        "policy = agent.get_policy()\n",
        "plot_policy_simple_blackjack(policy, env.observation_space, title=\"Q-learning policy (UCB)\")\n",
        "\n",
        "play_policy(env, agent, n_test_episodes)"
      ]
    },
    {
      "cell_type": "code",
      "execution_count": 29,
      "metadata": {
        "colab": {
          "base_uri": "https://localhost:8080/"
        },
        "id": "DSSFpS3K2DAD",
        "outputId": "613b33a3-e14a-4452-bc75-7e03fbcb79c9"
      },
      "outputs": [
        {
          "name": "stderr",
          "output_type": "stream",
          "text": [
            "100%|██████████| 500000/500000 [00:39<00:00, 12585.54it/s]"
          ]
        },
        {
          "name": "stdout",
          "output_type": "stream",
          "text": [
            "Win rate: 0.3710\n",
            "Draw rate: 0.0788\n",
            "\n",
            "Time taken: 39.7311 seconds\n"
          ]
        },
        {
          "name": "stderr",
          "output_type": "stream",
          "text": [
            "\n"
          ]
        }
      ],
      "source": [
        "exploration = EpsilonGreedy(epsilon=0.1, decay=1, seed=42)\n",
        "qlearning_parameters = QlearningParameters(num_states=get_num_states(env.observation_space), num_actions=env.action_space.n, alpha=0.05, gamma=0.9)\n",
        "agent = QlearningAgent(qlearning_parameters, exploration)\n",
        "\n",
        "main_qlearning(env, agent, n_episodes)"
      ]
    },
    {
      "cell_type": "code",
      "execution_count": 30,
      "metadata": {},
      "outputs": [
        {
          "data": {
            "image/png": "[encoded data removed]",
            "text/plain": [
              "<Figure size 1000x500 with 4 Axes>"
            ]
          },
          "metadata": {},
          "output_type": "display_data"
        },
        {
          "name": "stdout",
          "output_type": "stream",
          "text": [
            "\n",
            "Player's hand: [11, 2] (value: 13)\n",
            "Dealer's hand: [8, 10] (value: 18)\n",
            "Current state: [13  8  1]\n",
            "\n",
            "\n",
            "Player's hand: [11, 2, 6] (value: 19)\n",
            "Dealer's hand: [8, 10] (value: 18)\n",
            "Current state: [19  8  1]\n",
            "\n",
            "\n",
            "Player's hand: [11, 2, 6] (value: 19)\n",
            "Dealer's hand: [8, 10] (value: 18)\n",
            "Current state: [19  8  1]\n",
            "\n",
            "Win rate: 0.3864\n",
            "Draw rate: 0.0861\n"
          ]
        }
      ],
      "source": [
        "policy = agent.get_policy()\n",
        "plot_policy_simple_blackjack(policy, env.observation_space, title=\"Q-learning policy (epsilon-greedy)\")\n",
        "\n",
        "play_policy(env, agent, n_test_episodes)"
      ]
    },
    {
      "cell_type": "markdown",
      "metadata": {
        "id": "V7geU9B_baQk"
      },
      "source": [
        "## Simple Finite"
      ]
    },
    {
      "cell_type": "code",
      "execution_count": 31,
      "metadata": {
        "id": "l6ufzvqkbXx9"
      },
      "outputs": [],
      "source": [
        "from src.envs import SimpleBlackjack\n",
        "env = SimpleBlackjack(seed=42, packs=4)"
      ]
    },
    {
      "cell_type": "markdown",
      "metadata": {
        "id": "cO0og164bXx-"
      },
      "source": [
        "### Random"
      ]
    },
    {
      "cell_type": "code",
      "execution_count": 32,
      "metadata": {
        "colab": {
          "base_uri": "https://localhost:8080/"
        },
        "id": "XT7BnqI9bXx_",
        "outputId": "efb1c25c-5ff6-4bf0-a058-7abecc73af1f"
      },
      "outputs": [
        {
          "name": "stdout",
          "output_type": "stream",
          "text": [
            "\n",
            "Player's hand: [11, 2] (value: 13)\n",
            "Dealer's hand: [10, 7] (value: 17)\n",
            "Current state: [13 10  1  2]\n",
            "\n",
            "\n",
            "Player's hand: [11, 2, 9] (value: 12)\n",
            "Dealer's hand: [10, 7] (value: 17)\n",
            "Current state: [12 10  0  3]\n",
            "\n",
            "\n",
            "Player's hand: [11, 2, 9, 5] (value: 17)\n",
            "Dealer's hand: [10, 7] (value: 17)\n",
            "Current state: [17 10  0  4]\n",
            "\n",
            "\n",
            "Player's hand: [11, 2, 9, 5] (value: 17)\n",
            "Dealer's hand: [10, 7] (value: 17)\n",
            "Current state: [17 10  0  4]\n",
            "\n",
            "Win rate: 0.2791\n",
            "Draw rate: 0.0414\n"
          ]
        }
      ],
      "source": [
        "agent = RandomAgent(env.action_space, seed=42)\n",
        "play_policy(env, agent, n_test_episodes)"
      ]
    },
    {
      "cell_type": "markdown",
      "metadata": {
        "id": "9GvCU1jkbXx_"
      },
      "source": [
        "### Sarsa"
      ]
    },
    {
      "cell_type": "code",
      "execution_count": 33,
      "metadata": {
        "colab": {
          "base_uri": "https://localhost:8080/"
        },
        "id": "qzY8tIVabXx_",
        "outputId": "2d99e916-ccc8-4e01-92ba-acdcc6928286"
      },
      "outputs": [
        {
          "name": "stderr",
          "output_type": "stream",
          "text": [
            "100%|██████████| 500000/500000 [01:59<00:00, 4169.54it/s]"
          ]
        },
        {
          "name": "stdout",
          "output_type": "stream",
          "text": [
            "Win rate: 0.3786\n",
            "Draw rate: 0.0812\n",
            "\n",
            "Time taken: 119.9192 seconds\n"
          ]
        },
        {
          "name": "stderr",
          "output_type": "stream",
          "text": [
            "\n"
          ]
        }
      ],
      "source": [
        "exploration = UCB(num_states=get_num_states(env.observation_space), num_actions=env.action_space.n, seed=42)\n",
        "sarsa_parameters = SarsaParameters(num_states=get_num_states(env.observation_space), num_actions=env.action_space.n, alpha=0.05, gamma=0.9)\n",
        "agent = SarsaAgent(sarsa_parameters, exploration)\n",
        "\n",
        "main_sarsa(env, agent, n_episodes)"
      ]
    },
    {
      "cell_type": "code",
      "execution_count": 34,
      "metadata": {
        "colab": {
          "base_uri": "https://localhost:8080/"
        },
        "id": "WpX49dAlbXx_",
        "outputId": "e7c19e94-419a-4f48-de24-a47f60e837c5"
      },
      "outputs": [
        {
          "name": "stdout",
          "output_type": "stream",
          "text": [
            "\n",
            "Player's hand: [2, 6] (value: 8)\n",
            "Dealer's hand: [8, 10] (value: 18)\n",
            "Current state: [8 8 0 2]\n",
            "\n",
            "\n",
            "Player's hand: [2, 6, 8] (value: 16)\n",
            "Dealer's hand: [8, 10] (value: 18)\n",
            "Current state: [16  8  0  3]\n",
            "\n",
            "\n",
            "Player's hand: [2, 6, 8, 10] (value: 26)\n",
            "Dealer's hand: [8, 10] (value: 18)\n",
            "Current state: [26  8  0  4]\n",
            "\n",
            "Win rate: 0.3776\n",
            "Draw rate: 0.0821\n"
          ]
        }
      ],
      "source": [
        "policy = agent.get_policy()\n",
        "play_policy(env, agent, n_test_episodes)"
      ]
    },
    {
      "cell_type": "code",
      "execution_count": 35,
      "metadata": {
        "colab": {
          "base_uri": "https://localhost:8080/"
        },
        "id": "OhtPvfJo2J0E",
        "outputId": "a8dd0adc-c3cc-4914-9c2f-74bcc80d3cad"
      },
      "outputs": [
        {
          "name": "stderr",
          "output_type": "stream",
          "text": [
            "100%|██████████| 500000/500000 [01:19<00:00, 6293.42it/s]\n"
          ]
        },
        {
          "name": "stdout",
          "output_type": "stream",
          "text": [
            "Win rate: 0.3704\n",
            "Draw rate: 0.0790\n",
            "\n",
            "Time taken: 79.4533 seconds\n",
            "\n",
            "Player's hand: [11, 7] (value: 18)\n",
            "Dealer's hand: [7, 3] (value: 10)\n",
            "Current state: [18  7  1  2]\n",
            "\n",
            "\n",
            "Player's hand: [11, 7] (value: 18)\n",
            "Dealer's hand: [7, 3, 2, 10] (value: 22)\n",
            "Current state: [18  7  1  2]\n",
            "\n",
            "Win rate: 0.3880\n",
            "Draw rate: 0.0828\n"
          ]
        }
      ],
      "source": [
        "exploration = EpsilonGreedy(epsilon=0.1, decay=1, seed=42)\n",
        "sarsa_parameters = SarsaParameters(num_states=get_num_states(env.observation_space), num_actions=env.action_space.n, alpha=0.05, gamma=0.9)\n",
        "agent = SarsaAgent(sarsa_parameters, exploration)\n",
        "\n",
        "main_sarsa(env, agent, n_episodes)\n",
        "\n",
        "policy = agent.get_policy()\n",
        "play_policy(env, agent, n_test_episodes)"
      ]
    },
    {
      "cell_type": "markdown",
      "metadata": {
        "id": "_RmWRIHdbXx_"
      },
      "source": [
        "### Q Learning"
      ]
    },
    {
      "cell_type": "code",
      "execution_count": 36,
      "metadata": {
        "colab": {
          "base_uri": "https://localhost:8080/"
        },
        "id": "JcS-775TbXyA",
        "outputId": "f2dcdfa5-c803-4627-d11d-3230c3aa955a"
      },
      "outputs": [
        {
          "name": "stderr",
          "output_type": "stream",
          "text": [
            "100%|██████████| 500000/500000 [01:53<00:00, 4401.64it/s]\n"
          ]
        },
        {
          "name": "stdout",
          "output_type": "stream",
          "text": [
            "Win rate: 0.3803\n",
            "Draw rate: 0.0828\n",
            "\n",
            "Time taken: 113.5971 seconds\n",
            "\n",
            "Player's hand: [10, 3] (value: 13)\n",
            "Dealer's hand: [10, 5] (value: 15)\n",
            "Current state: [13 10  0  2]\n",
            "\n",
            "\n",
            "Player's hand: [10, 3, 5] (value: 18)\n",
            "Dealer's hand: [10, 5] (value: 15)\n",
            "Current state: [18 10  0  3]\n",
            "\n",
            "\n",
            "Player's hand: [10, 3, 5, 8] (value: 26)\n",
            "Dealer's hand: [10, 5] (value: 15)\n",
            "Current state: [26 10  0  4]\n",
            "\n",
            "Win rate: 0.3819\n",
            "Draw rate: 0.0815\n"
          ]
        }
      ],
      "source": [
        "exploration = UCB(num_states=get_num_states(env.observation_space), num_actions=env.action_space.n, seed=42)\n",
        "qlearning_parameters = QlearningParameters(num_states=get_num_states(env.observation_space), num_actions=env.action_space.n, alpha=0.05, gamma=0.9)\n",
        "agent = QlearningAgent(qlearning_parameters, exploration)\n",
        "\n",
        "main_qlearning(env, agent, n_episodes)\n",
        "\n",
        "policy = agent.get_policy()\n",
        "play_policy(env, agent, n_test_episodes)"
      ]
    },
    {
      "cell_type": "code",
      "execution_count": 37,
      "metadata": {
        "colab": {
          "base_uri": "https://localhost:8080/"
        },
        "id": "05arpQ8m2QsW",
        "outputId": "02ecad72-10d0-4017-fcb7-91d38c1c2931"
      },
      "outputs": [
        {
          "name": "stderr",
          "output_type": "stream",
          "text": [
            "100%|██████████| 500000/500000 [01:16<00:00, 6551.05it/s]\n"
          ]
        },
        {
          "name": "stdout",
          "output_type": "stream",
          "text": [
            "Win rate: 0.3714\n",
            "Draw rate: 0.0789\n",
            "\n",
            "Time taken: 76.3259 seconds\n",
            "\n",
            "Player's hand: [7, 10] (value: 17)\n",
            "Dealer's hand: [5, 4] (value: 9)\n",
            "Current state: [17  5  0  2]\n",
            "\n",
            "\n",
            "Player's hand: [7, 10, 10] (value: 27)\n",
            "Dealer's hand: [5, 4] (value: 9)\n",
            "Current state: [27  5  0  3]\n",
            "\n",
            "Win rate: 0.3805\n",
            "Draw rate: 0.0818\n"
          ]
        }
      ],
      "source": [
        "exploration = EpsilonGreedy(epsilon=0.1, decay=1, seed=42)\n",
        "qlearning_parameters = QlearningParameters(num_states=get_num_states(env.observation_space), num_actions=env.action_space.n, alpha=0.05, gamma=0.9)\n",
        "agent = QlearningAgent(qlearning_parameters, exploration)\n",
        "\n",
        "main_qlearning(env, agent, n_episodes)\n",
        "\n",
        "policy = agent.get_policy()\n",
        "play_policy(env, agent, n_test_episodes)"
      ]
    },
    {
      "cell_type": "markdown",
      "metadata": {
        "id": "yyGcuv8qdH5T"
      },
      "source": [
        "## Complete"
      ]
    },
    {
      "cell_type": "code",
      "execution_count": 5,
      "metadata": {
        "id": "zStFwB5HdMyB"
      },
      "outputs": [],
      "source": [
        "from src.envs import Blackjack\n",
        "env = Blackjack(seed=42)"
      ]
    },
    {
      "cell_type": "markdown",
      "metadata": {
        "id": "4pnR4fHz8By1"
      },
      "source": [
        "### Random"
      ]
    },
    {
      "cell_type": "code",
      "execution_count": 6,
      "metadata": {
        "colab": {
          "base_uri": "https://localhost:8080/"
        },
        "id": "c4eNkIjC8Bed",
        "outputId": "79c7841e-6aad-4f7c-d04f-42d3bdc7a80e"
      },
      "outputs": [
        {
          "name": "stdout",
          "output_type": "stream",
          "text": [
            "\n",
            "Player's hand: [10, 7] (value: 17)\n",
            "Dealer's hand: [7, 9] (value: 16)\n",
            "Current state: {'dealer': 7, 'player': [10, 7]}\n",
            "\n",
            "\n",
            "Player's hand: [10, 7] (value: 17)\n",
            "Dealer's hand: [7, 9, 5] (value: 21)\n",
            "Current state: {'dealer': 7, 'player': [10, 7]}\n",
            "\n",
            "Win rate: 0.2792\n",
            "Draw rate: 0.0418\n"
          ]
        }
      ],
      "source": [
        "from src.agents import RandomAgent\n",
        "\n",
        "agent = RandomAgent(env.action_space)\n",
        "play_policy(env, agent, n_test_episodes, array_encoding=True)"
      ]
    },
    {
      "cell_type": "markdown",
      "metadata": {
        "id": "Mo2tjCr_dYYs"
      },
      "source": [
        "### DQN"
      ]
    },
    {
      "cell_type": "code",
      "execution_count": 19,
      "metadata": {
        "id": "I1wPMVBydZjU"
      },
      "outputs": [],
      "source": [
        "from src.agents.dqn import DQN\n",
        "from src.utils.general import get_input_dim_encoding\n",
        "import torch\n",
        "\n",
        "def main_dqn(env: gym.Env, agent: DQN, n_episodes: int):\n",
        "    start = time.time()\n",
        "    n_wins = 0\n",
        "    n_draws = 0\n",
        "    for _ in tqdm(range(n_episodes)):\n",
        "        state = env.reset()\n",
        "        state = state_to_tensor_encoding(state, env.observation_space)\n",
        "        terminated = False\n",
        "        while not terminated:\n",
        "            action = agent.act(state)\n",
        "            next_state, reward, terminated, _, _ = env.step(action)\n",
        "\n",
        "            next_state = state_to_tensor_encoding(next_state, env.observation_space)\n",
        "            action = torch.Tensor([action]).long()\n",
        "            reward = torch.Tensor([reward]).float()\n",
        "            terminated = torch.Tensor([terminated]).float()\n",
        "\n",
        "            transition = Transition(state=state, action=action, next_state=next_state, reward=reward, done=terminated)\n",
        "\n",
        "            state = next_state\n",
        "            agent.step(transition)\n",
        "\n",
        "        if reward == 1:\n",
        "            n_wins += 1\n",
        "        elif reward == 0:\n",
        "            n_draws += 1\n",
        "\n",
        "    print(f\"Win rate: {n_wins / n_episodes:.2f}\")\n",
        "    print(f\"Draw rate: {n_draws / n_episodes:.2f}\")\n",
        "\n",
        "    print(f\"\\nTime taken: {time.time() - start:.2f} seconds\")"
      ]
    },
    {
      "cell_type": "code",
      "execution_count": 56,
      "metadata": {
        "id": "8zGv-gWP1iln"
      },
      "outputs": [],
      "source": [
        "n_episodes = 100_000"
      ]
    },
    {
      "cell_type": "code",
      "execution_count": 57,
      "metadata": {
        "colab": {
          "base_uri": "https://localhost:8080/"
        },
        "id": "rntxpzokdlty",
        "outputId": "5d6c9be3-e9f5-43f8-a129-e2551d09167f"
      },
      "outputs": [
        {
          "name": "stderr",
          "output_type": "stream",
          "text": [
            "100%|██████████| 100000/100000 [07:11<00:00, 231.76it/s]"
          ]
        },
        {
          "name": "stdout",
          "output_type": "stream",
          "text": [
            "Win rate: 0.31\n",
            "Draw rate: 0.05\n",
            "\n",
            "Time taken: 431.49 seconds\n"
          ]
        },
        {
          "name": "stderr",
          "output_type": "stream",
          "text": [
            "\n"
          ]
        },
        {
          "ename": "TypeError",
          "evalue": "play_episode() got an unexpected keyword argument 'array_encoding'",
          "output_type": "error",
          "traceback": [
            "\u001b[1;31m---------------------------------------------------------------------------\u001b[0m",
            "\u001b[1;31mTypeError\u001b[0m                                 Traceback (most recent call last)",
            "Cell \u001b[1;32mIn[57], line 17\u001b[0m\n\u001b[0;32m     14\u001b[0m agent \u001b[38;5;241m=\u001b[39m DQN(q_network, target_network, replay_buffer, optimizer, criterion, exploration, params)\n\u001b[0;32m     15\u001b[0m main_dqn(env, agent, n_episodes)\n\u001b[1;32m---> 17\u001b[0m \u001b[43mplay_policy\u001b[49m\u001b[43m(\u001b[49m\u001b[43menv\u001b[49m\u001b[43m,\u001b[49m\u001b[43m \u001b[49m\u001b[43magent\u001b[49m\u001b[43m,\u001b[49m\u001b[43m \u001b[49m\u001b[43mn_test_episodes\u001b[49m\u001b[43m,\u001b[49m\u001b[43m \u001b[49m\u001b[43marray_encoding\u001b[49m\u001b[38;5;241;43m=\u001b[39;49m\u001b[38;5;28;43;01mTrue\u001b[39;49;00m\u001b[43m)\u001b[49m\n",
            "Cell \u001b[1;32mIn[16], line 3\u001b[0m, in \u001b[0;36mplay_policy\u001b[1;34m(env, agent, n_test_episodes, array_encoding)\u001b[0m\n\u001b[0;32m      1\u001b[0m \u001b[38;5;28;01mdef\u001b[39;00m \u001b[38;5;21mplay_policy\u001b[39m(env: gym\u001b[38;5;241m.\u001b[39mEnv, agent: Agent, n_test_episodes: \u001b[38;5;28mint\u001b[39m,  array_encoding: \u001b[38;5;28mbool\u001b[39m \u001b[38;5;241m=\u001b[39m \u001b[38;5;28;01mFalse\u001b[39;00m):\n\u001b[0;32m      2\u001b[0m   \u001b[38;5;124;03m\"\"\"test the agent's policy on multiple episodes, prints the last one\"\"\"\u001b[39;00m\n\u001b[1;32m----> 3\u001b[0m   rewards \u001b[38;5;241m=\u001b[39m [play_episode(env, agent, render\u001b[38;5;241m=\u001b[39m i \u001b[38;5;241m==\u001b[39m n_test_episodes\u001b[38;5;241m-\u001b[39m\u001b[38;5;241m1\u001b[39m, array_encoding\u001b[38;5;241m=\u001b[39marray_encoding) \u001b[38;5;28;01mfor\u001b[39;00m i \u001b[38;5;129;01min\u001b[39;00m \u001b[38;5;28mrange\u001b[39m(n_test_episodes)]\n\u001b[0;32m      4\u001b[0m   rewards \u001b[38;5;241m=\u001b[39m np\u001b[38;5;241m.\u001b[39marray(rewards)\n\u001b[0;32m      5\u001b[0m   n_wins \u001b[38;5;241m=\u001b[39m np\u001b[38;5;241m.\u001b[39msum(rewards \u001b[38;5;241m==\u001b[39m \u001b[38;5;241m1\u001b[39m)\n",
            "Cell \u001b[1;32mIn[16], line 3\u001b[0m, in \u001b[0;36m<listcomp>\u001b[1;34m(.0)\u001b[0m\n\u001b[0;32m      1\u001b[0m \u001b[38;5;28;01mdef\u001b[39;00m \u001b[38;5;21mplay_policy\u001b[39m(env: gym\u001b[38;5;241m.\u001b[39mEnv, agent: Agent, n_test_episodes: \u001b[38;5;28mint\u001b[39m,  array_encoding: \u001b[38;5;28mbool\u001b[39m \u001b[38;5;241m=\u001b[39m \u001b[38;5;28;01mFalse\u001b[39;00m):\n\u001b[0;32m      2\u001b[0m   \u001b[38;5;124;03m\"\"\"test the agent's policy on multiple episodes, prints the last one\"\"\"\u001b[39;00m\n\u001b[1;32m----> 3\u001b[0m   rewards \u001b[38;5;241m=\u001b[39m [\u001b[43mplay_episode\u001b[49m\u001b[43m(\u001b[49m\u001b[43menv\u001b[49m\u001b[43m,\u001b[49m\u001b[43m \u001b[49m\u001b[43magent\u001b[49m\u001b[43m,\u001b[49m\u001b[43m \u001b[49m\u001b[43mrender\u001b[49m\u001b[38;5;241;43m=\u001b[39;49m\u001b[43m \u001b[49m\u001b[43mi\u001b[49m\u001b[43m \u001b[49m\u001b[38;5;241;43m==\u001b[39;49m\u001b[43m \u001b[49m\u001b[43mn_test_episodes\u001b[49m\u001b[38;5;241;43m-\u001b[39;49m\u001b[38;5;241;43m1\u001b[39;49m\u001b[43m,\u001b[49m\u001b[43m \u001b[49m\u001b[43marray_encoding\u001b[49m\u001b[38;5;241;43m=\u001b[39;49m\u001b[43marray_encoding\u001b[49m\u001b[43m)\u001b[49m \u001b[38;5;28;01mfor\u001b[39;00m i \u001b[38;5;129;01min\u001b[39;00m \u001b[38;5;28mrange\u001b[39m(n_test_episodes)]\n\u001b[0;32m      4\u001b[0m   rewards \u001b[38;5;241m=\u001b[39m np\u001b[38;5;241m.\u001b[39marray(rewards)\n\u001b[0;32m      5\u001b[0m   n_wins \u001b[38;5;241m=\u001b[39m np\u001b[38;5;241m.\u001b[39msum(rewards \u001b[38;5;241m==\u001b[39m \u001b[38;5;241m1\u001b[39m)\n",
            "\u001b[1;31mTypeError\u001b[0m: play_episode() got an unexpected keyword argument 'array_encoding'"
          ]
        }
      ],
      "source": [
        "from src.utils.data_struct import DQNParameters\n",
        "from src.networks import MLP\n",
        "from src.utils.buffer import ReplayBuffer\n",
        "\n",
        "params = DQNParameters(batch_size=32, gamma=0.9, freq_target_update=100, device=\"cpu\")\n",
        "q_network = MLP(get_input_dim_encoding(env.observation_space), 64, env.action_space.n).to(params.device)\n",
        "target_network = MLP(get_input_dim_encoding(env.observation_space), 64, env.action_space.n).to(params.device)\n",
        "target_network.load_state_dict(q_network.state_dict())\n",
        "replay_buffer = ReplayBuffer(10_000)\n",
        "optimizer = torch.optim.AdamW(q_network.parameters(), lr=0.001, weight_decay=0.0001)\n",
        "criterion = torch.nn.MSELoss()\n",
        "exploration = EpsilonGreedy(epsilon=0.1, decay=1, seed=42)\n",
        "\n",
        "agent = DQN(q_network, target_network, replay_buffer, optimizer, criterion, exploration, params)\n",
        "main_dqn(env, agent, n_episodes)\n"
      ]
    },
    {
      "cell_type": "code",
      "execution_count": 59,
      "metadata": {},
      "outputs": [
        {
          "name": "stdout",
          "output_type": "stream",
          "text": [
            "\n",
            "Player's hand: [9, 9] (value: 18)\n",
            "Dealer's hand: [6, 7] (value: 13)\n",
            "Current state: {'dealer': 6, 'player': [9, 9]}\n",
            "\n",
            "\n",
            "Player's hand: [9, 9] (value: 18)\n",
            "Dealer's hand: [6, 7, 4] (value: 17)\n",
            "Current state: {'dealer': 6, 'player': [9, 9]}\n",
            "\n",
            "Win rate: 0.3565\n",
            "Draw rate: 0.0546\n"
          ]
        }
      ],
      "source": [
        "\n",
        "play_policy(env, agent, n_test_episodes, array_encoding=True)"
      ]
    },
    {
      "cell_type": "markdown",
      "metadata": {
        "id": "zwv069gB2jGI"
      },
      "source": [
        "### DQN sequence"
      ]
    },
    {
      "cell_type": "code",
      "execution_count": 45,
      "metadata": {
        "id": "jv9zcaRR96nR"
      },
      "outputs": [],
      "source": [
        "from src.utils.general import state_to_tensor_sequence\n",
        "\n",
        "def main(env: gym.Env, agent: DQN, n_episodes: int):\n",
        "    start = time.time()\n",
        "    n_wins = 0\n",
        "    n_draws = 0\n",
        "    for _ in tqdm(range(n_episodes)):\n",
        "        state = env.reset()\n",
        "        state = state_to_tensor_sequence(state, env.observation_space, env.max_number_of_cards)\n",
        "        terminated = False\n",
        "        while not terminated:\n",
        "            action = agent.act(state)\n",
        "            next_state, reward, terminated, _, _ = env.step(action)\n",
        "\n",
        "            next_state = state_to_tensor_sequence(next_state, env.observation_space, env.max_number_of_cards)\n",
        "            action = torch.Tensor([action]).long()\n",
        "            reward = torch.Tensor([reward]).float()\n",
        "            terminated = torch.Tensor([terminated]).float()\n",
        "\n",
        "            transition = Transition(state=state, action=action, next_state=next_state, reward=reward, done=terminated)\n",
        "\n",
        "            state = next_state\n",
        "            agent.step(transition)\n",
        "\n",
        "        if reward == 1:\n",
        "            n_wins += 1\n",
        "        elif reward == 0:\n",
        "            n_draws += 1\n",
        "\n",
        "    print(f\"Win rate: {n_wins / n_episodes:.2f}\")\n",
        "    print(f\"Draw rate: {n_draws / n_episodes:.2f}\")\n",
        "\n",
        "    print(f\"\\nTime taken: {time.time() - start:.2f} seconds\")\n",
        "\n",
        "def play_episode(env: gym.Env, agent: DQN, render: bool = False):\n",
        "    state = env.reset()\n",
        "    if render:\n",
        "        env.render()\n",
        "    state = state_to_tensor_sequence(state, env.observation_space, env.max_number_of_cards)\n",
        "    terminated = False\n",
        "    while not terminated:\n",
        "        action = agent.get_best_action(state)\n",
        "        next_state, reward, terminated, _, _ = env.step(action)\n",
        "        if render:\n",
        "            env.render()\n",
        "        next_state = state_to_tensor_sequence(next_state, env.observation_space, env.max_number_of_cards)\n",
        "        state = next_state\n",
        "    return reward"
      ]
    },
    {
      "cell_type": "code",
      "execution_count": 46,
      "metadata": {
        "colab": {
          "base_uri": "https://localhost:8080/"
        },
        "id": "3pFCPZUd2lOx",
        "outputId": "aa230b66-d8f9-4295-c3e3-b3f9603e453b"
      },
      "outputs": [
        {
          "name": "stderr",
          "output_type": "stream",
          "text": [
            "100%|██████████| 100000/100000 [05:45<00:00, 289.03it/s]"
          ]
        },
        {
          "name": "stdout",
          "output_type": "stream",
          "text": [
            "Win rate: 0.36\n",
            "Draw rate: 0.06\n",
            "\n",
            "Time taken: 345.99 seconds\n"
          ]
        },
        {
          "name": "stderr",
          "output_type": "stream",
          "text": [
            "\n"
          ]
        }
      ],
      "source": [
        "params = DQNParameters(batch_size=32, gamma=0.9, freq_target_update=100, device=\"cpu\")\n",
        "q_network = MLP(1 + env.max_number_of_cards, 64, env.action_space.n).to(params.device)\n",
        "target_network = MLP(1 + env.max_number_of_cards, 64, env.action_space.n).to(params.device)\n",
        "target_network.load_state_dict(q_network.state_dict())\n",
        "replay_buffer = ReplayBuffer(10_000)\n",
        "optimizer = torch.optim.AdamW(q_network.parameters(), lr=0.001, weight_decay=0.0001)\n",
        "criterion = torch.nn.MSELoss()\n",
        "exploration = EpsilonGreedy(epsilon=0.1, decay=1, seed=42)\n",
        "\n",
        "agent = DQN(q_network, target_network, replay_buffer, optimizer, criterion, exploration, params)\n",
        "main(env, agent, n_episodes)"
      ]
    },
    {
      "cell_type": "code",
      "execution_count": 37,
      "metadata": {
        "colab": {
          "base_uri": "https://localhost:8080/"
        },
        "id": "-8dR1JvK_kb2",
        "outputId": "8809cd94-ca3f-441c-8147-1a14231b351f"
      },
      "outputs": [
        {
          "name": "stdout",
          "output_type": "stream",
          "text": [
            "Win rate: 0.4186\n",
            "Draw rate: 0.0660\n"
          ]
        }
      ],
      "source": [
        "n_test_episodes = 10000\n",
        "rewards = [play_episode(env, agent) for _ in range(n_test_episodes)]\n",
        "n_wins = sum(reward == 1 for reward in rewards)\n",
        "n_draws = sum(reward == 0 for reward in rewards)\n",
        "print(f\"Win rate: {n_wins / n_test_episodes:.4f}\")\n",
        "print(f\"Draw rate: {n_draws / n_test_episodes:.4f}\")"
      ]
    }
  ],
  "metadata": {
    "colab": {
      "collapsed_sections": [
        "EbUr9u7-mTHs",
        "mEW-HDRRNspy",
        "z2iNpf3mN788",
        "3FApiNG6N1h5",
        "xtshRf6XN3La",
        "V7geU9B_baQk",
        "cO0og164bXx-",
        "9GvCU1jkbXx_",
        "_RmWRIHdbXx_",
        "yyGcuv8qdH5T",
        "4pnR4fHz8By1",
        "Mo2tjCr_dYYs",
        "zwv069gB2jGI",
        "_QLUIWr82p5T",
        "SImlpQ6X2xIc"
      ],
      "provenance": []
    },
    "kernelspec": {
      "display_name": "Python 3",
      "name": "python3"
    },
    "language_info": {
      "codemirror_mode": {
        "name": "ipython",
        "version": 3
      },
      "file_extension": ".py",
      "mimetype": "text/x-python",
      "name": "python",
      "nbconvert_exporter": "python",
      "pygments_lexer": "ipython3",
      "version": "3.12.2"
    }
  },
  "nbformat": 4,
  "nbformat_minor": 0
}
